{
  "nbformat": 4,
  "nbformat_minor": 0,
  "metadata": {
    "colab": {
      "name": "String.ipynb",
      "provenance": [],
      "authorship_tag": "ABX9TyOwUiEhF08qZpHtaaUXcB5A",
      "include_colab_link": true
    },
    "kernelspec": {
      "name": "python3",
      "display_name": "Python 3"
    },
    "language_info": {
      "name": "python"
    }
  },
  "cells": [
    {
      "cell_type": "markdown",
      "metadata": {
        "id": "view-in-github",
        "colab_type": "text"
      },
      "source": [
        "<a href=\"https://colab.research.google.com/github/coderanandmaurya/Python-For-Machine-Learning/blob/main/String.ipynb\" target=\"_parent\"><img src=\"https://colab.research.google.com/assets/colab-badge.svg\" alt=\"Open In Colab\"/></a>"
      ]
    },
    {
      "cell_type": "markdown",
      "source": [
        "# **String**\n",
        "## Strings in python are surrounded by either single quotation marks, or double quotation marks.'hello' and \"hello\"\n",
        "- Immutable : immutable objects can’t change their state or content.\n",
        "- Allow Duplicate member"
      ],
      "metadata": {
        "id": "yWWgAT-yDlAP"
      }
    },
    {
      "cell_type": "code",
      "execution_count": 1,
      "metadata": {
        "colab": {
          "base_uri": "https://localhost:8080/"
        },
        "id": "5eaEYIw6Cqio",
        "outputId": "465b05d3-cdef-4aa2-8815-1446f9018bae"
      },
      "outputs": [
        {
          "output_type": "stream",
          "name": "stdout",
          "text": [
            "Hello\n",
            "Hello\n"
          ]
        }
      ],
      "source": [
        "print(\"Hello\")\n",
        "print('Hello')"
      ]
    },
    {
      "cell_type": "markdown",
      "source": [
        "## **Assign String to a Variable**"
      ],
      "metadata": {
        "id": "UOpqnYbBFUjp"
      }
    },
    {
      "cell_type": "code",
      "source": [
        "a = \"Hello\"\n",
        "print(a)"
      ],
      "metadata": {
        "colab": {
          "base_uri": "https://localhost:8080/"
        },
        "id": "LE7hrBT9FRnf",
        "outputId": "065cde35-ad64-41bd-be9f-e4f0bc51c56b"
      },
      "execution_count": 2,
      "outputs": [
        {
          "output_type": "stream",
          "name": "stdout",
          "text": [
            "Hello\n"
          ]
        }
      ]
    },
    {
      "cell_type": "markdown",
      "source": [
        "## **Multiline Strings**\n",
        "- You can assign a multiline string to a variable by using three quotes"
      ],
      "metadata": {
        "id": "AYsvmR7KFhog"
      }
    },
    {
      "cell_type": "code",
      "source": [
        "a = \"\"\"Lorem ipsum dolor sit amet,\n",
        "consectetur adipiscing elit,\n",
        "sed do eiusmod tempor incididunt\n",
        "ut labore et dolore magna aliqua.\"\"\"\n",
        "print(a)"
      ],
      "metadata": {
        "colab": {
          "base_uri": "https://localhost:8080/"
        },
        "id": "3ZP_2d3LFpJw",
        "outputId": "860b1a69-2bfd-4b75-9765-87405f58ea8d"
      },
      "execution_count": 3,
      "outputs": [
        {
          "output_type": "stream",
          "name": "stdout",
          "text": [
            "Lorem ipsum dolor sit amet,\n",
            "consectetur adipiscing elit,\n",
            "sed do eiusmod tempor incididunt\n",
            "ut labore et dolore magna aliqua.\n"
          ]
        }
      ]
    },
    {
      "cell_type": "markdown",
      "source": [
        "## **Immutable**"
      ],
      "metadata": {
        "id": "CHfj0gKhJY85"
      }
    },
    {
      "cell_type": "code",
      "source": [
        "# strings are immutable\n",
        "message = \"Welcome to GeeksforGeeks\"\n",
        "#message[0] = 'p'\n",
        "print(message)"
      ],
      "metadata": {
        "colab": {
          "base_uri": "https://localhost:8080/"
        },
        "id": "eTJ96Bb6Jb6P",
        "outputId": "0f7bda46-e666-4888-e3e9-fe061acb854f"
      },
      "execution_count": 4,
      "outputs": [
        {
          "output_type": "stream",
          "name": "stdout",
          "text": [
            "Welcome to GeeksforGeeks\n"
          ]
        }
      ]
    },
    {
      "cell_type": "markdown",
      "source": [
        "## **Allow Duplicate member**\n"
      ],
      "metadata": {
        "id": "qXn7tLX4J_7o"
      }
    },
    {
      "cell_type": "code",
      "source": [
        "name=\"monkey monkey\""
      ],
      "metadata": {
        "id": "LXSPUYn3KPLa"
      },
      "execution_count": 5,
      "outputs": []
    },
    {
      "cell_type": "markdown",
      "source": [
        "## **Empty string**"
      ],
      "metadata": {
        "id": "_gg0Dri4KZcW"
      }
    },
    {
      "cell_type": "code",
      "source": [
        "Estring=\"\"\n",
        "print(type(Estring))"
      ],
      "metadata": {
        "colab": {
          "base_uri": "https://localhost:8080/"
        },
        "id": "J4Ug65H9KdM8",
        "outputId": "22b34a92-9108-4789-b559-44bafafbe841"
      },
      "execution_count": 6,
      "outputs": [
        {
          "output_type": "stream",
          "name": "stdout",
          "text": [
            "<class 'str'>\n"
          ]
        }
      ]
    },
    {
      "cell_type": "markdown",
      "source": [
        "## **Slicing**\n",
        "- You can return a range of characters by using the slice syntax. Specify the start index and the end index, separated by a colon, to return a part of the string"
      ],
      "metadata": {
        "id": "1ctJtQNGLGIQ"
      }
    },
    {
      "cell_type": "code",
      "source": [
        "b = \"Hello, World!\"\n",
        "print(b[2:5])\n",
        "\n",
        "# Slice From the Start\n",
        "print(b[:5])\n",
        "\n",
        "# Slice To the End\n",
        "b = \"Hello, World!\"\n",
        "print(b[2:])\n",
        "\n",
        "# Negative Indexing\n",
        "b = \"Hello, World!\"\n",
        "print(b[-5:-2])"
      ],
      "metadata": {
        "colab": {
          "base_uri": "https://localhost:8080/"
        },
        "id": "UnUiFBI_KqTe",
        "outputId": "10f1bce3-bd3e-4cd2-9cdb-793fa63dec37"
      },
      "execution_count": 7,
      "outputs": [
        {
          "output_type": "stream",
          "name": "stdout",
          "text": [
            "llo\n"
          ]
        }
      ]
    },
    {
      "cell_type": "markdown",
      "source": [
        "## **Modify Strings**"
      ],
      "metadata": {
        "id": "pzHF1YXQOxjn"
      }
    },
    {
      "cell_type": "code",
      "source": [
        "# Upper Case\n",
        "a = \"Hello, World!\"\n",
        "print(a.upper())\n",
        "\n",
        "# Lower Case\n",
        "a = \"Hello, World!\"\n",
        "print(a.lower())\n",
        "\n",
        "# Remove Whitespace\n",
        "# The strip() method removes any whitespace from the beginning or the end\n",
        "a = \" Hello,         World! \"\n",
        "print(a.strip()) # returns \"Hello, World!\"\n",
        "\n",
        "s = \" Student    \"\n",
        "\n",
        "s2 = s.rstrip() #it will remove spaces from right side  \n",
        "print(s2)\n",
        "s3 = s.lstrip() #it will remove spaces from left side  \n",
        "print(s3)\n",
        "s4 = s.strip() #it will remove all spaces\n",
        "print(s4)\n",
        "\n",
        "# Replace String\n",
        "a = \"Hello, World!\"\n",
        "print(a.replace(\"H\", \"J\"))\n",
        "\n",
        "# Split String\n",
        "## The split() method returns a list where the text between the specified separator becomes the list items.\n",
        "a = \"Hello, World!\"\n",
        "print(a.split(\",\")) # returns ['Hello', ' World!']"
      ],
      "metadata": {
        "colab": {
          "base_uri": "https://localhost:8080/"
        },
        "id": "juQ0mgFRPJiJ",
        "outputId": "5856a420-4c73-437c-de54-9c62d08ad70b"
      },
      "execution_count": 12,
      "outputs": [
        {
          "output_type": "stream",
          "name": "stdout",
          "text": [
            "HELLO, WORLD!\n",
            "hello, world!\n",
            "Hello,         World!\n",
            " Student\n",
            "Student    \n",
            "Student\n"
          ]
        }
      ]
    },
    {
      "cell_type": "markdown",
      "source": [
        "## **String Concatenation**\n",
        "- To concatenate, or combine, two strings you can use the + operator."
      ],
      "metadata": {
        "id": "-9KvkVw8STYQ"
      }
    },
    {
      "cell_type": "code",
      "source": [
        "a = \"Hello\"\n",
        "b = \"World\"\n",
        "c = a + b\n",
        "print(c)\n",
        "\n",
        "# To add a space between them, add a \" \"\n",
        "a = \"Hello\"\n",
        "b = \"World\"\n",
        "c = a + \" \" + b\n",
        "print(c)"
      ],
      "metadata": {
        "id": "d3utz_X1SSwz"
      },
      "execution_count": null,
      "outputs": []
    },
    {
      "cell_type": "markdown",
      "source": [
        "## **String Format**\n",
        "- we cannot combine strings and numbers like this (strongly type)"
      ],
      "metadata": {
        "id": "YZ39zjyfSTkC"
      }
    },
    {
      "cell_type": "code",
      "source": [
        "age = 36\n",
        "#txt = \"My name is John, I am \" + age\n",
        "print(txt)"
      ],
      "metadata": {
        "colab": {
          "base_uri": "https://localhost:8080/"
        },
        "id": "JrcV-B4wRCGu",
        "outputId": "7cc4737f-9488-4b3e-917f-9682a5669a89"
      },
      "execution_count": 19,
      "outputs": [
        {
          "output_type": "stream",
          "name": "stdout",
          "text": [
            "Hello\n"
          ]
        }
      ]
    },
    {
      "cell_type": "code",
      "source": [
        "age = 36\n",
        "txt = \"My name is John, and I am {}\"\n",
        "print(txt.format(age))\n",
        "\n",
        "# The format() method takes unlimited number of arguments, and are placed into the respective placeholders\n",
        "quantity = 3\n",
        "itemno = 567\n",
        "price = 49.95\n",
        "myorder = \"I want {} pieces of item {} for {} dollars.\"\n",
        "print(myorder.format(quantity, itemno, price))\n",
        "\n",
        "# You can use index numbers {0} to be sure the arguments are placed in the correct placeholders\n",
        "quantity = 3\n",
        "itemno = 567\n",
        "price = 49.95\n",
        "myorder = \"I want to pay {2} dollars for {0} pieces of item {1}.\"\n",
        "print(myorder.format(quantity, itemno, price))\n",
        "\n",
        "## Reverse a String\n",
        "name=\"welcome\"\n",
        "print(name[::-1])"
      ],
      "metadata": {
        "colab": {
          "base_uri": "https://localhost:8080/"
        },
        "id": "2oUMVl-LTeo3",
        "outputId": "737dc631-392b-47cb-cd4f-66c4fd8e29b6"
      },
      "execution_count": 20,
      "outputs": [
        {
          "output_type": "stream",
          "name": "stdout",
          "text": [
            "My name is John, and I am 36\n",
            "I want 3 pieces of item 567 for 49.95 dollars.\n",
            "I want to pay 49.95 dollars for 3 pieces of item 567.\n",
            "emoclew\n"
          ]
        }
      ]
    },
    {
      "cell_type": "markdown",
      "source": [
        "## **Escape Character**\n",
        "- To insert characters that are illegal in a string, use an escape character.\n",
        "- An escape character is a backslash \\ followed by the character you want to insert."
      ],
      "metadata": {
        "id": "dS61xLMoVhrR"
      }
    },
    {
      "cell_type": "code",
      "source": [
        "# txt = \"We are the so-called \"Vikings\" from the north.\"\n"
      ],
      "metadata": {
        "id": "cz6lWi0KV-UX"
      },
      "execution_count": 15,
      "outputs": []
    },
    {
      "cell_type": "code",
      "source": [
        "txt = \"We are the so-called \\\"Vikings\\\" from the north.\""
      ],
      "metadata": {
        "id": "O1FgYS8jWMo_"
      },
      "execution_count": 16,
      "outputs": []
    },
    {
      "cell_type": "code",
      "source": [
        "#A backslash followed by an 'x' and a hex number represents a hex value:\n",
        "txt = \"\\x48\\x65\\x6c\\x6c\\x6f\"\n",
        "print(txt) \n",
        "\n",
        "#A backslash followed by three integers will result in a octal value:\n",
        "txt = \"\\110\\145\\154\\154\\157\"\n",
        "print(txt) "
      ],
      "metadata": {
        "colab": {
          "base_uri": "https://localhost:8080/"
        },
        "id": "nza87uOCWjBA",
        "outputId": "9b547f1a-f81d-40f5-b356-de0ec899fbbd"
      },
      "execution_count": 18,
      "outputs": [
        {
          "output_type": "stream",
          "name": "stdout",
          "text": [
            "Hello\n",
            "Hello\n"
          ]
        }
      ]
    },
    {
      "cell_type": "markdown",
      "source": [
        "## **String Methods**\n",
        "- All string methods returns new values. They do not change the original string."
      ],
      "metadata": {
        "id": "6aD2uu8VWy8I"
      }
    },
    {
      "cell_type": "code",
      "source": [
        "# Converts the first character to upper case using capitalize()\n",
        "txt = \"hello, Brother.\"\n",
        "x = txt.capitalize()\n",
        "print (x)\n",
        "\n",
        "# Converts string into lower case (casefold())\n",
        "x = txt.casefold()\n",
        "print(x)"
      ],
      "metadata": {
        "colab": {
          "base_uri": "https://localhost:8080/"
        },
        "id": "XAvuhxbvXQXd",
        "outputId": "d7b57c4e-f5b7-45a3-e903-afc4053a9061"
      },
      "execution_count": 25,
      "outputs": [
        {
          "output_type": "stream",
          "name": "stdout",
          "text": [
            "Hello, brother.\n",
            "hello, brother.\n"
          ]
        }
      ]
    },
    {
      "cell_type": "markdown",
      "source": [
        "## **find**"
      ],
      "metadata": {
        "id": "n0ajcDVgZ4CB"
      }
    },
    {
      "cell_type": "code",
      "source": [
        "s = \"nomans\"  \n",
        "print (s.endswith(\"rd\"))\n",
        "print(s.startswith(\"no\")) \n",
        "print( s.find(\"f\"))\n",
        "print(s.rfind(\"o\"))\n",
        "print(s.count(\"o\"))\n"
      ],
      "metadata": {
        "colab": {
          "base_uri": "https://localhost:8080/"
        },
        "id": "Cc4gJDviZdMO",
        "outputId": "77f08b11-5cae-421f-b771-f4366b31babc"
      },
      "execution_count": 23,
      "outputs": [
        {
          "output_type": "stream",
          "name": "stdout",
          "text": [
            "False\n",
            "True\n",
            "-1\n",
            "1\n",
            "1\n"
          ]
        }
      ]
    }
  ]
}