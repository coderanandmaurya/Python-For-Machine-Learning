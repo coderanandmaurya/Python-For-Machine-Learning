{
  "nbformat": 4,
  "nbformat_minor": 0,
  "metadata": {
    "colab": {
      "name": "Keyword and Idetifiers.ipynb",
      "provenance": [],
      "collapsed_sections": [],
      "authorship_tag": "ABX9TyPtfNdQvJV9beWg3ER+wATV",
      "include_colab_link": true
    },
    "kernelspec": {
      "name": "python3",
      "display_name": "Python 3"
    },
    "language_info": {
      "name": "python"
    }
  },
  "cells": [
    {
      "cell_type": "markdown",
      "metadata": {
        "id": "view-in-github",
        "colab_type": "text"
      },
      "source": [
        "<a href=\"https://colab.research.google.com/github/coderanandmaurya/Python-For-Machine-Learning/blob/main/Keyword_and_Idetifiers.ipynb\" target=\"_parent\"><img src=\"https://colab.research.google.com/assets/colab-badge.svg\" alt=\"Open In Colab\"/></a>"
      ]
    },
    {
      "cell_type": "markdown",
      "source": [
        "# **Python is case senstive language**\n",
        "- Python is a case - sensitive language . \n",
        "- This means, Variable and variable are not the same. \n",
        "- Always give the identifiers a name that makes sense. While c = 10 is a valid name, writing count = 10 would make more sense, and it would be easier to figure out what it represents when you look at your code after a long gap.\n"
      ],
      "metadata": {
        "id": "KOkMcQoEiHCo"
      }
    },
    {
      "cell_type": "code",
      "source": [
        "monkey = 1\n",
        "Monkey = 2\n",
        "print(Monkey)\n",
        "print(monkey)"
      ],
      "metadata": {
        "colab": {
          "base_uri": "https://localhost:8080/"
        },
        "id": "6kE6o1UgjQNk",
        "outputId": "a4d4df39-4e72-431e-fcd2-ac0b709d6dc4"
      },
      "execution_count": 1,
      "outputs": [
        {
          "output_type": "stream",
          "name": "stdout",
          "text": [
            "2\n",
            "1\n"
          ]
        }
      ]
    },
    {
      "cell_type": "markdown",
      "source": [
        "# **Keyword and Idetifiers**\n",
        "- **Keywords**: reserved word for program\n",
        "\n",
        "- **Identifier**: use to identify variable, function, class, module or other object\n",
        "- Rules for setting identifier\n",
        "  - can only start with an alphabet or _\n",
        "  - followed by 0 or more letter,_and digits\n",
        "  - keywords cannot be used as an identifier"
      ],
      "metadata": {
        "id": "gUqjmhaGg1r4"
      }
    },
    {
      "cell_type": "code",
      "source": [
        "import keyword\n",
        "k=keyword.kwlist\n",
        "print(k)\n",
        "len(k)"
      ],
      "metadata": {
        "colab": {
          "base_uri": "https://localhost:8080/"
        },
        "id": "ZTti-2sAXvis",
        "outputId": "fd274243-1ee7-4012-d9be-4ca67dfeec4c"
      },
      "execution_count": 2,
      "outputs": [
        {
          "output_type": "stream",
          "name": "stdout",
          "text": [
            "['False', 'None', 'True', 'and', 'as', 'assert', 'async', 'await', 'break', 'class', 'continue', 'def', 'del', 'elif', 'else', 'except', 'finally', 'for', 'from', 'global', 'if', 'import', 'in', 'is', 'lambda', 'nonlocal', 'not', 'or', 'pass', 'raise', 'return', 'try', 'while', 'with', 'yield']\n"
          ]
        },
        {
          "output_type": "execute_result",
          "data": {
            "text/plain": [
              "35"
            ]
          },
          "metadata": {},
          "execution_count": 2
        }
      ]
    },
    {
      "cell_type": "markdown",
      "source": [
        "# **variable**\n",
        "- Dynamic Typing: no variable datatype declaration\n",
        "- no variable declaration\n",
        "- Dynamic Binding: you can't change variable data type "
      ],
      "metadata": {
        "id": "93hpI3PVX_1i"
      }
    },
    {
      "cell_type": "code",
      "source": [
        "a=5\n",
        "b=4\n",
        "name=\"anand\"\n",
        "print(name)\n",
        "name=4\n",
        "print(name)\n",
        "print(a+b)\n",
        "\n",
        "a=1;b=4;c=3\n",
        "print(a,b,c)\n",
        "\n",
        "a,b,c=1,2,3\n",
        "print(a,b,c)\n",
        "\n",
        "a=b=c=3\n",
        "print(a,b,c)"
      ],
      "metadata": {
        "colab": {
          "base_uri": "https://localhost:8080/"
        },
        "id": "Em6IPYWAYHeF",
        "outputId": "475cda98-6466-4219-dd22-c3b52cd1ed05"
      },
      "execution_count": 3,
      "outputs": [
        {
          "output_type": "stream",
          "name": "stdout",
          "text": [
            "anand\n",
            "4\n",
            "9\n",
            "1 4 3\n",
            "1 2 3\n",
            "3 3 3\n"
          ]
        }
      ]
    },
    {
      "cell_type": "markdown",
      "source": [
        "# **Literal** \n",
        "Literal is a raw data given in a variable.\n",
        "- Numeric Literal\n",
        "- String Literal\n",
        "- Boolean Literal\n",
        "- Special Literal"
      ],
      "metadata": {
        "id": "64ln1Go2YS63"
      }
    },
    {
      "cell_type": "code",
      "source": [
        "#Numerical Literal\n",
        "a=0b1010 #binary Literal\n",
        "b=100 #Decimal Literal\n",
        "c= 0o310 #Octal Literal\n",
        "d= 0x12c\n",
        "\n",
        "#Float Literal\n",
        "x=1.2\n",
        "y=1.2e2 #e2 10x10\n",
        "z=1.2e-3\n",
        "\n",
        "#Complex Literal\n",
        "l=3.14j\n",
        "\n",
        "print(a,b,c,d)\n",
        "print(x,y,z)\n",
        "print(l)\n",
        "\n",
        "#String Literals\n",
        "S=\"Go Green\"\n",
        "raw_str=r\"raw \\n string\"\n",
        "f=u\"\\U0001F40D\"\n",
        "print(S)\n",
        "print(raw_str)\n",
        "print(f)\n",
        "\n",
        "#Boolean Literals\n",
        "m= True + 4\n",
        "n= False + 4\n",
        "print(m)\n",
        "print(n)\n",
        "\n",
        "#Special Literal\n",
        "o=None\n",
        "print(o)"
      ],
      "metadata": {
        "colab": {
          "base_uri": "https://localhost:8080/"
        },
        "id": "0LOzVhcFYSaZ",
        "outputId": "ed572e87-cacc-407a-ac55-982a0046e8bf"
      },
      "execution_count": 4,
      "outputs": [
        {
          "output_type": "stream",
          "name": "stdout",
          "text": [
            "10 100 200 300\n",
            "1.2 120.0 0.0012\n",
            "3.14j\n",
            "Go Green\n",
            "raw \\n string\n",
            "🐍\n",
            "5\n",
            "4\n",
            "None\n"
          ]
        }
      ]
    }
  ]
}