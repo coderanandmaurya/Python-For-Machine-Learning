{
  "nbformat": 4,
  "nbformat_minor": 0,
  "metadata": {
    "colab": {
      "name": "constructor.ipynb",
      "provenance": [],
      "authorship_tag": "ABX9TyMttaKaGWVN5TX4xiIiAvqF",
      "include_colab_link": true
    },
    "kernelspec": {
      "name": "python3",
      "display_name": "Python 3"
    },
    "language_info": {
      "name": "python"
    }
  },
  "cells": [
    {
      "cell_type": "markdown",
      "metadata": {
        "id": "view-in-github",
        "colab_type": "text"
      },
      "source": [
        "<a href=\"https://colab.research.google.com/github/coderanandmaurya/Python-For-Machine-Learning/blob/main/constructor.ipynb\" target=\"_parent\"><img src=\"https://colab.research.google.com/assets/colab-badge.svg\" alt=\"Open In Colab\"/></a>"
      ]
    },
    {
      "cell_type": "markdown",
      "source": [
        "# **Constructors**\n",
        "- Constructors are generally used for instantiating an object. The task of constructors is to initialize(assign values) to the data members of the class when an object of the class is created. In Python the __init__() method is called the constructor and is always called when an object is created\n",
        "\n",
        "- **data members** : A class variable or instance variable that holds data associated with a class and its objects. "
      ],
      "metadata": {
        "id": "vsGnSMt51_Hc"
      }
    },
    {
      "cell_type": "markdown",
      "source": [
        "## Syntax"
      ],
      "metadata": {
        "id": "sHzQ3YDe3JHA"
      }
    },
    {
      "cell_type": "code",
      "source": [
        "# def __init__(self):\n",
        "    # body of the constructor"
      ],
      "metadata": {
        "id": "X5fvEYt-3Icr"
      },
      "execution_count": 2,
      "outputs": []
    },
    {
      "cell_type": "markdown",
      "source": [
        "## Types of constructors : \n",
        "\n",
        "-default constructor: The default constructor is a simple constructor which doesn’t accept any arguments. Its definition has only one argument which is a reference to the instance being constructed.\n",
        "\n",
        "- parameterized constructor: constructor with parameters is known as parameterized constructor. The parameterized constructor takes its first argument as a reference to the instance being constructed known as self and the rest of the arguments are provided by the programmer."
      ],
      "metadata": {
        "id": "rLSdG0US3P6I"
      }
    },
    {
      "cell_type": "markdown",
      "source": [
        "### **default constructor**"
      ],
      "metadata": {
        "id": "Vvi98s-F3etg"
      }
    },
    {
      "cell_type": "code",
      "execution_count": null,
      "metadata": {
        "id": "B10M-f7F0-Wu"
      },
      "outputs": [],
      "source": [
        "class GeekforGeeks:\n",
        "\n",
        "\t# default constructor\n",
        "\tdef __init__(self):\n",
        "\t\tself.geek = \"GeekforGeeks\"\n",
        "\n",
        "\t# a method for printing data members\n",
        "\tdef print_Geek(self):\n",
        "\t\tprint(self.geek)\n",
        "\n",
        "\n",
        "# creating object of the class\n",
        "obj = GeekforGeeks()\n",
        "\n",
        "# calling the instance method using the object obj\n",
        "obj.print_Geek()\n"
      ]
    },
    {
      "cell_type": "markdown",
      "source": [
        "###  **parameterized constructor**"
      ],
      "metadata": {
        "id": "Tf0nMDP63in-"
      }
    },
    {
      "cell_type": "code",
      "source": [
        "class Addition:\n",
        "\tfirst = 0\n",
        "\tsecond = 0\n",
        "\tanswer = 0\n",
        "\t\n",
        "\t# parameterized constructor\n",
        "\tdef __init__(self, f, s):\n",
        "\t\tself.first = f\n",
        "\t\tself.second = s\n",
        "\t\n",
        "\tdef display(self):\n",
        "\t\tprint(\"First number = \" + str(self.first))\n",
        "\t\tprint(\"Second number = \" + str(self.second))\n",
        "\t\tprint(\"Addition of two numbers = \" + str(self.answer))\n",
        "\n",
        "\tdef calculate(self):\n",
        "\t\tself.answer = self.first + self.second\n",
        "\n",
        "# creating object of the class\n",
        "# this will invoke parameterized constructor\n",
        "obj = Addition(1000, 2000)\n",
        "\n",
        "# perform Addition\n",
        "obj.calculate()\n",
        "\n",
        "# display result\n",
        "obj.display()\n"
      ],
      "metadata": {
        "colab": {
          "base_uri": "https://localhost:8080/"
        },
        "id": "XEsvKyQB3pRu",
        "outputId": "12798b36-b983-4677-d6ca-e8dadd4c6d5b"
      },
      "execution_count": 3,
      "outputs": [
        {
          "output_type": "stream",
          "name": "stdout",
          "text": [
            "First number = 1000\n",
            "Second number = 2000\n",
            "Addition of two numbers = 3000\n"
          ]
        }
      ]
    }
  ]
}