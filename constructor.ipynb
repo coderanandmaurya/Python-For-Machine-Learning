{
  "nbformat": 4,
  "nbformat_minor": 0,
  "metadata": {
    "colab": {
      "name": "constructor.ipynb",
      "provenance": [],
      "authorship_tag": "ABX9TyNgEfC9jat0Bu9luUwAVKqq",
      "include_colab_link": true
    },
    "kernelspec": {
      "name": "python3",
      "display_name": "Python 3"
    },
    "language_info": {
      "name": "python"
    }
  },
  "cells": [
    {
      "cell_type": "markdown",
      "metadata": {
        "id": "view-in-github",
        "colab_type": "text"
      },
      "source": [
        "<a href=\"https://colab.research.google.com/github/coderanandmaurya/Python-For-Machine-Learning/blob/main/constructor.ipynb\" target=\"_parent\"><img src=\"https://colab.research.google.com/assets/colab-badge.svg\" alt=\"Open In Colab\"/></a>"
      ]
    },
    {
      "cell_type": "markdown",
      "source": [
        "# **Constructors in python**\n",
        "- Constructors are generally used for instantiating an object. The task of constructors is to initialize(assign values) to the data members of the class when an object of the class is created. In Python the __init__() method is called the constructor and is always called when an object is created\n",
        "\n",
        "- **data members** : A class variable or instance variable that holds data associated with a class and its objects. "
      ],
      "metadata": {
        "id": "vsGnSMt51_Hc"
      }
    },
    {
      "cell_type": "markdown",
      "source": [
        "## Syntax"
      ],
      "metadata": {
        "id": "sHzQ3YDe3JHA"
      }
    },
    {
      "cell_type": "code",
      "source": [
        "# def __init__(self):\n",
        "    # body of the constructor"
      ],
      "metadata": {
        "id": "X5fvEYt-3Icr"
      },
      "execution_count": 12,
      "outputs": []
    },
    {
      "cell_type": "markdown",
      "source": [
        "## Types of constructors : \n",
        "\n",
        "-default constructor: The default constructor is a simple constructor which doesn’t accept any arguments. Its definition has only one argument which is a reference to the instance being constructed.\n",
        "\n",
        "- parameterized constructor: constructor with parameters is known as parameterized constructor. The parameterized constructor takes its first argument as a reference to the instance being constructed known as self and the rest of the arguments are provided by the programmer."
      ],
      "metadata": {
        "id": "rLSdG0US3P6I"
      }
    },
    {
      "cell_type": "markdown",
      "source": [
        "### **default constructor**"
      ],
      "metadata": {
        "id": "Vvi98s-F3etg"
      }
    },
    {
      "cell_type": "code",
      "execution_count": 13,
      "metadata": {
        "id": "B10M-f7F0-Wu",
        "outputId": "c062b2e3-928e-424f-f5ba-e3f350c3bf71",
        "colab": {
          "base_uri": "https://localhost:8080/"
        }
      },
      "outputs": [
        {
          "output_type": "stream",
          "name": "stdout",
          "text": [
            "GeekforGeeks\n"
          ]
        }
      ],
      "source": [
        "class GeekforGeeks:\n",
        "\n",
        "\t# default constructor\n",
        "\tdef __init__(self):\n",
        "\t\tself.geek = \"GeekforGeeks\"\n",
        "\n",
        "\t# a method for printing data members\n",
        "\tdef print_Geek(self):\n",
        "\t\tprint(self.geek)\n",
        "\n",
        "\n",
        "# creating object of the class\n",
        "obj = GeekforGeeks()\n",
        "\n",
        "# calling the instance method using the object obj\n",
        "obj.print_Geek()\n"
      ]
    },
    {
      "cell_type": "markdown",
      "source": [
        "###  **parameterized constructor**"
      ],
      "metadata": {
        "id": "Tf0nMDP63in-"
      }
    },
    {
      "cell_type": "code",
      "source": [
        "class Addition:\n",
        "\tfirst = 0\n",
        "\tsecond = 0\n",
        "\tanswer = 0\n",
        "\t\n",
        "\t# parameterized constructor\n",
        "\tdef __init__(self, f, s):\n",
        "\t\tself.first = f\n",
        "\t\tself.second = s\n",
        "\t\n",
        "\tdef display(self):\n",
        "\t\tprint(\"First number = \" + str(self.first))\n",
        "\t\tprint(\"Second number = \" + str(self.second))\n",
        "\t\tprint(\"Addition of two numbers = \" + str(self.answer))\n",
        "\n",
        "\tdef calculate(self):\n",
        "\t\tself.answer = self.first + self.second\n",
        "\n",
        "# creating object of the class\n",
        "# this will invoke parameterized constructor\n",
        "obj = Addition(1000, 2000)\n",
        "\n",
        "# perform Addition\n",
        "obj.calculate()\n",
        "\n",
        "# display result\n",
        "obj.display()\n"
      ],
      "metadata": {
        "colab": {
          "base_uri": "https://localhost:8080/"
        },
        "id": "XEsvKyQB3pRu",
        "outputId": "040cf794-6e20-45e4-ec71-fc5babe669d1"
      },
      "execution_count": 14,
      "outputs": [
        {
          "output_type": "stream",
          "name": "stdout",
          "text": [
            "First number = 1000\n",
            "Second number = 2000\n",
            "Addition of two numbers = 3000\n"
          ]
        }
      ]
    },
    {
      "cell_type": "markdown",
      "source": [
        "# **Destructors in Python**\n",
        "- Destructors are called when an object gets destroyed. In Python, destructors are not needed as much as in C++ because Python has a garbage collector that handles memory management automatically. \n",
        "- The __del__() method is a known as a destructor method in Python. It is called when all references to the object have been deleted i.e when an object is garbage collected. "
      ],
      "metadata": {
        "id": "vYbBdX7vFH6Y"
      }
    },
    {
      "cell_type": "code",
      "source": [
        "# Syntax of destructor declaration : \n",
        "def __del__(self):\n",
        "  pass\n",
        "  # body of destructor\n"
      ],
      "metadata": {
        "id": "Rkc4awvrFrMv"
      },
      "execution_count": 15,
      "outputs": []
    },
    {
      "cell_type": "code",
      "source": [
        "# Python program to illustrate destructor\n",
        "class Employee:\n",
        "\n",
        "\t# Initializing\n",
        "\tdef __init__(self):\n",
        "\t\tprint('Employee created.')\n",
        "\n",
        "\t# Deleting (Calling destructor)\n",
        "\tdef __del__(self):\n",
        "\t\tprint('Destructor called, Employee deleted.')\n",
        "\n",
        "obj = Employee()\n",
        "del obj\n"
      ],
      "metadata": {
        "id": "xCch4tMPGMYK",
        "outputId": "47684381-05b0-45e1-9e94-562cb5029248",
        "colab": {
          "base_uri": "https://localhost:8080/"
        }
      },
      "execution_count": 16,
      "outputs": [
        {
          "output_type": "stream",
          "name": "stdout",
          "text": [
            "Employee created.\n",
            "Destructor called, Employee deleted.\n"
          ]
        }
      ]
    },
    {
      "cell_type": "code",
      "source": [
        "# Python program to illustrate destructor\n",
        "\n",
        "class Employee:\n",
        "\n",
        "\t# Initializing\n",
        "\tdef __init__(self):\n",
        "\t\tprint('Employee created')\n",
        "\n",
        "\t# Calling destructor\n",
        "\tdef __del__(self):\n",
        "\t\tprint(\"Destructor called\")\n",
        "\n",
        "def Create_obj():\n",
        "\tprint('Making Object...')\n",
        "\tobj = Employee()\n",
        "\tprint('function end...')\n",
        "\treturn obj\n",
        "\n",
        "print('Calling Create_obj() function...')\n",
        "obj = Create_obj()\n",
        "print('Program End...')\n"
      ],
      "metadata": {
        "id": "UvrVEj2_GM2z",
        "outputId": "1be60cf9-09ec-4eca-b877-0bff02630e15",
        "colab": {
          "base_uri": "https://localhost:8080/"
        }
      },
      "execution_count": 17,
      "outputs": [
        {
          "output_type": "stream",
          "name": "stdout",
          "text": [
            "Calling Create_obj() function...\n",
            "Making Object...\n",
            "Employee created\n",
            "function end...\n",
            "Program End...\n"
          ]
        }
      ]
    },
    {
      "cell_type": "code",
      "source": [
        "# Python program to illustrate destructor\n",
        "\n",
        "class A:\n",
        "\tdef __init__(self, bb):\n",
        "\t\tself.b = bb\n",
        "\n",
        "class B:\n",
        "\tdef __init__(self):\n",
        "\t\tself.a = A(self)\n",
        "\tdef __del__(self):\n",
        "\t\tprint(\"die\")\n",
        "\n",
        "def fun():\n",
        "\tb = B()\n",
        "\n",
        "fun()\n"
      ],
      "metadata": {
        "id": "G-zlIaJHG8Qj",
        "outputId": "90351273-c28f-4279-96a2-f7a438bd2147",
        "colab": {
          "base_uri": "https://localhost:8080/"
        }
      },
      "execution_count": 18,
      "outputs": [
        {
          "output_type": "stream",
          "name": "stdout",
          "text": [
            "Destructor called\n"
          ]
        }
      ]
    }
  ]
}