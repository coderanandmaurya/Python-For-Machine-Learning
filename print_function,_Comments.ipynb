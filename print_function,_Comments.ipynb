{
  "nbformat": 4,
  "nbformat_minor": 0,
  "metadata": {
    "colab": {
      "name": "print function, Comments.ipynb",
      "provenance": [],
      "authorship_tag": "ABX9TyPRIlO07bLzkJmw0bQSpKj/",
      "include_colab_link": true
    },
    "kernelspec": {
      "name": "python3",
      "display_name": "Python 3"
    },
    "language_info": {
      "name": "python"
    }
  },
  "cells": [
    {
      "cell_type": "markdown",
      "metadata": {
        "id": "view-in-github",
        "colab_type": "text"
      },
      "source": [
        "<a href=\"https://colab.research.google.com/github/coderanandmaurya/Python-For-Machine-Learning/blob/main/print_function%2C_Comments.ipynb\" target=\"_parent\"><img src=\"https://colab.research.google.com/assets/colab-badge.svg\" alt=\"Open In Colab\"/></a>"
      ]
    },
    {
      "cell_type": "markdown",
      "source": [
        "\n",
        "# **Print Function**"
      ],
      "metadata": {
        "id": "LONGBHkwa7_e"
      }
    },
    {
      "cell_type": "code",
      "execution_count": null,
      "metadata": {
        "id": "EQUiVd97ZnMB"
      },
      "outputs": [],
      "source": [
        "print(1)\n",
        "print(1.24)\n",
        "print(\"hello_world\")\n",
        "\n",
        "#concatinate if you use +\n",
        "print(\"coder\"+\"anand\"+\"maurya\")\n",
        "\n",
        "#print space in between words\n",
        "print(\"coder\",\"anand\",\"maurya\")\n",
        "\n",
        "#print with / slash\n",
        "print(\"coder\",\"anand\",\"maurya\",sep=\"/\")\n",
        "print(\"coder\",\"anand\",\"maurya\",sep=\"-\")\n",
        "\n",
        "# multi line Print\n",
        "print(\"Hello\", end=\" \")\n",
        "print(\"world\")"
      ]
    },
    {
      "cell_type": "markdown",
      "source": [
        "## Input function"
      ],
      "metadata": {
        "id": "U4Ec-J-nvD1W"
      }
    },
    {
      "cell_type": "code",
      "source": [
        "a=1\n",
        "print(a)"
      ],
      "metadata": {
        "id": "lAYFwTUOvG83",
        "outputId": "c186c21a-a78d-43b5-bee0-bcaf99795808",
        "colab": {
          "base_uri": "https://localhost:8080/"
        }
      },
      "execution_count": 1,
      "outputs": [
        {
          "output_type": "stream",
          "name": "stdout",
          "text": [
            "1\n"
          ]
        }
      ]
    },
    {
      "cell_type": "code",
      "source": [
        "a,b=1,2\n",
        "print(a,b)"
      ],
      "metadata": {
        "id": "ntzvkj6wvJWG",
        "outputId": "2f0f3e2f-8451-4aaf-dc31-4acf536ec786",
        "colab": {
          "base_uri": "https://localhost:8080/"
        }
      },
      "execution_count": 2,
      "outputs": [
        {
          "output_type": "stream",
          "name": "stdout",
          "text": [
            "1 2\n"
          ]
        }
      ]
    },
    {
      "cell_type": "code",
      "source": [
        "a,b=input().split()\n",
        "print(a,b)"
      ],
      "metadata": {
        "id": "juHcMK_gvQtL",
        "outputId": "cb61bb7a-6a79-4ac5-bf6a-793058e5f874",
        "colab": {
          "base_uri": "https://localhost:8080/"
        }
      },
      "execution_count": 10,
      "outputs": [
        {
          "output_type": "stream",
          "name": "stdout",
          "text": [
            "1 2\n",
            "1 2\n"
          ]
        }
      ]
    },
    {
      "cell_type": "code",
      "source": [
        "a,b=[int(x) for x in input().split()]"
      ],
      "metadata": {
        "id": "2dIt31HMvxQx",
        "outputId": "0a26cbea-cbf3-4e99-c934-a765353a5611",
        "colab": {
          "base_uri": "https://localhost:8080/"
        }
      },
      "execution_count": 9,
      "outputs": [
        {
          "name": "stdout",
          "output_type": "stream",
          "text": [
            "1 2\n"
          ]
        }
      ]
    },
    {
      "cell_type": "code",
      "source": [
        "x,y=map(int,input().split())"
      ],
      "metadata": {
        "id": "hQj_A13hv8Tb",
        "outputId": "d3e639f7-ea13-4330-fe3e-a54cad24fcc2",
        "colab": {
          "base_uri": "https://localhost:8080/"
        }
      },
      "execution_count": 8,
      "outputs": [
        {
          "name": "stdout",
          "output_type": "stream",
          "text": [
            "2 2\n"
          ]
        }
      ]
    },
    {
      "cell_type": "code",
      "source": [
        "a,b,c=[int(x) for x in input().split()]"
      ],
      "metadata": {
        "id": "lKyV3lEXv8ZS",
        "outputId": "95371284-e99a-44d3-d141-1879d598603e",
        "colab": {
          "base_uri": "https://localhost:8080/"
        }
      },
      "execution_count": 11,
      "outputs": [
        {
          "name": "stdout",
          "output_type": "stream",
          "text": [
            "1 2 3\n"
          ]
        }
      ]
    },
    {
      "cell_type": "code",
      "source": [
        "# list\n",
        "\n",
        "number=1,2,3\n",
        "x,y,z=number\n",
        "print(x,y,z)"
      ],
      "metadata": {
        "id": "GKJZLFyZ10-7",
        "outputId": "cd9a2ba4-9091-4ed9-93b4-267872751ba1",
        "colab": {
          "base_uri": "https://localhost:8080/"
        }
      },
      "execution_count": 20,
      "outputs": [
        {
          "output_type": "stream",
          "name": "stdout",
          "text": [
            "1 2 3\n"
          ]
        }
      ]
    },
    {
      "cell_type": "code",
      "source": [
        "# Global Variable\n",
        "a= \"Global Variable\"\n",
        "\n",
        "def f():\n",
        "    # local variable\n",
        "    s = \"local variable\" \n",
        "    print(a)\n",
        "    print(\"Inside Function:\", s)\n",
        " \n",
        "# Driver code\n",
        "f()\n",
        "#print(s)"
      ],
      "metadata": {
        "id": "Zjc5xq433K2t",
        "outputId": "e74c5700-1dd2-4354-84e5-d2bfbe2a3d9d",
        "colab": {
          "base_uri": "https://localhost:8080/"
        }
      },
      "execution_count": 32,
      "outputs": [
        {
          "output_type": "stream",
          "name": "stdout",
          "text": [
            "Global Variable\n",
            "Inside Function: local variable\n"
          ]
        }
      ]
    },
    {
      "cell_type": "code",
      "source": [
        "# Global Variable\n",
        "s= \"Global Variable\"\n",
        "\n",
        "def f():\n",
        "    # local variable\n",
        "    s = \"local variable\" \n",
        "    print(\"Inside Function:\", s)\n",
        " \n",
        "# Driver code\n",
        "f()\n",
        "#print(s)"
      ],
      "metadata": {
        "id": "X7k6doVG5gRj",
        "outputId": "d4a6295b-cb6b-4a0d-a810-f146be33b922",
        "colab": {
          "base_uri": "https://localhost:8080/"
        }
      },
      "execution_count": 35,
      "outputs": [
        {
          "output_type": "stream",
          "name": "stdout",
          "text": [
            "Inside Function: local variable\n"
          ]
        }
      ]
    },
    {
      "cell_type": "markdown",
      "source": [
        "## **Some Important Function**"
      ],
      "metadata": {
        "id": "Ie1YZNiK463E"
      }
    },
    {
      "cell_type": "code",
      "source": [
        "# Type\n",
        "a=1\n",
        "type(a)\n",
        "\n",
        "#Type conversion\n",
        "a=int(a)\n",
        "a=str(a)\n",
        "\n",
        "\n",
        "# abs\n",
        "print(\"abs value of : \",abs(-3))\n",
        "\n",
        "# pow\n",
        "print(pow(2,3))\n",
        "\n",
        "# min/max/len/sum\n",
        "mylist=[1,2,3,4,5,6,7]\n",
        "print(min(mylist))\n",
        "print(max(mylist))\n",
        "print(len(mylist))\n",
        "print(sum(mylist))"
      ],
      "metadata": {
        "colab": {
          "base_uri": "https://localhost:8080/"
        },
        "id": "4lnh4qOCe-le",
        "outputId": "7ff72834-3fe2-4f62-d7f4-5f0c864b69b3"
      },
      "execution_count": 34,
      "outputs": [
        {
          "output_type": "stream",
          "name": "stdout",
          "text": [
            "abs value of :  3\n",
            "8\n"
          ]
        },
        {
          "output_type": "execute_result",
          "data": {
            "text/plain": [
              "28"
            ]
          },
          "metadata": {},
          "execution_count": 34
        }
      ]
    },
    {
      "cell_type": "code",
      "source": [
        "# Round\n",
        "c=22/7\n",
        "round(c)"
      ],
      "metadata": {
        "id": "hB5u2yBG2_Wv",
        "outputId": "11d32061-9238-48df-c682-b2d9986c152f",
        "colab": {
          "base_uri": "https://localhost:8080/"
        }
      },
      "execution_count": 22,
      "outputs": [
        {
          "output_type": "execute_result",
          "data": {
            "text/plain": [
              "3"
            ]
          },
          "metadata": {},
          "execution_count": 22
        }
      ]
    },
    {
      "cell_type": "code",
      "source": [
        "# Divmod\n",
        "divmod(5,2)"
      ],
      "metadata": {
        "id": "U8O2AO4a22W4",
        "outputId": "e040a89d-b63f-4f93-a3f1-5be3a2bd42c6",
        "colab": {
          "base_uri": "https://localhost:8080/"
        }
      },
      "execution_count": 21,
      "outputs": [
        {
          "output_type": "execute_result",
          "data": {
            "text/plain": [
              "(2, 1)"
            ]
          },
          "metadata": {},
          "execution_count": 21
        }
      ]
    },
    {
      "cell_type": "code",
      "source": [
        "# bin/oct/hex\n",
        "print(bin(2))\n",
        "print(oct(9))\n",
        "print(hex(15))\n",
        "\n",
        "#id\n",
        "a=3\n",
        "id(a)\n",
        "\n",
        "# ord : ascii code search\n",
        "ord(\"a\")\n",
        "\n",
        "# help : document of function\n",
        "#help(\"print\")"
      ],
      "metadata": {
        "id": "TkxrJeJ324Dc",
        "outputId": "3d3f8b62-1eeb-45af-def7-8d217926d602",
        "colab": {
          "base_uri": "https://localhost:8080/"
        }
      },
      "execution_count": 36,
      "outputs": [
        {
          "output_type": "stream",
          "name": "stdout",
          "text": [
            "0b10\n",
            "0o11\n",
            "0xf\n"
          ]
        },
        {
          "output_type": "execute_result",
          "data": {
            "text/plain": [
              "97"
            ]
          },
          "metadata": {},
          "execution_count": 36
        }
      ]
    },
    {
      "cell_type": "markdown",
      "source": [
        "## **List Comprehension**"
      ],
      "metadata": {
        "id": "cprjDxt3wu_8"
      }
    },
    {
      "cell_type": "code",
      "source": [
        "a,b=input(\"enter number: \").split()\n",
        "print(\"first no. is {0} second number is {1}\".format(a,b))"
      ],
      "metadata": {
        "id": "vVL5g6vGv6ix",
        "outputId": "31ebba50-72cb-4bfe-8a9f-e587ce372a8f",
        "colab": {
          "base_uri": "https://localhost:8080/"
        }
      },
      "execution_count": 15,
      "outputs": [
        {
          "output_type": "stream",
          "name": "stdout",
          "text": [
            "enter number: 1 2\n",
            "first no. is 1 second number is 2\n"
          ]
        }
      ]
    },
    {
      "cell_type": "markdown",
      "source": [
        "# **Comments**\n"
      ],
      "metadata": {
        "id": "sjhqWsiLbD9d"
      }
    },
    {
      "cell_type": "code",
      "source": [
        "# This is comments\n",
        "\n",
        "#Like comments, the python docstrings are also ignored by the interpreter but it consume memory to avoid memory allocation don't Declare variable\n",
        "\n",
        "\"\"\" This is \n",
        "Multi Line Comments \"\"\"\n",
        "\n",
        "from sys import getsizeof\n",
        "\n",
        "B= \"\"\"HELLO\n",
        "IBM\"\"\"\n",
        "\n",
        "#print(getsizeof(A))\n",
        "print(getsizeof(B))"
      ],
      "metadata": {
        "colab": {
          "base_uri": "https://localhost:8080/"
        },
        "id": "kSGyZheabLlS",
        "outputId": "eb117902-6754-4b3e-c2b0-a8ffb2127dad"
      },
      "execution_count": null,
      "outputs": [
        {
          "output_type": "stream",
          "name": "stdout",
          "text": [
            "58\n"
          ]
        }
      ]
    },
    {
      "cell_type": "markdown",
      "source": [
        ""
      ],
      "metadata": {
        "id": "KUXuXvH71zAs"
      }
    },
    {
      "cell_type": "markdown",
      "source": [
        "# **Rules to create variable**\n",
        "- variable start from alphabet(a,z)(A-Z) and underscore (_) only"
      ],
      "metadata": {
        "id": "y_zBA41Txxyu"
      }
    },
    {
      "cell_type": "code",
      "source": [
        "a=1"
      ],
      "metadata": {
        "id": "5bKcQiyqbbNs"
      },
      "execution_count": 18,
      "outputs": []
    },
    {
      "cell_type": "code",
      "source": [
        "_1=1"
      ],
      "metadata": {
        "id": "n2CouGf5y5FT"
      },
      "execution_count": 17,
      "outputs": []
    },
    {
      "cell_type": "code",
      "source": [
        "!=1"
      ],
      "metadata": {
        "id": "pLFUyatLy5KJ",
        "outputId": "e6f54904-5d85-4b90-e645-3304f857167f",
        "colab": {
          "base_uri": "https://localhost:8080/"
        }
      },
      "execution_count": 19,
      "outputs": [
        {
          "output_type": "stream",
          "name": "stdout",
          "text": [
            "/bin/bash: =1: command not found\n"
          ]
        }
      ]
    },
    {
      "cell_type": "code",
      "source": [
        ""
      ],
      "metadata": {
        "id": "78b-RJOhzCBs"
      },
      "execution_count": null,
      "outputs": []
    }
  ]
}