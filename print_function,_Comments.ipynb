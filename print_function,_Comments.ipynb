{
  "nbformat": 4,
  "nbformat_minor": 0,
  "metadata": {
    "colab": {
      "name": "print function, Comments.ipynb",
      "provenance": [],
      "authorship_tag": "ABX9TyMT6cWz2vHWEsT5qrAdN/72",
      "include_colab_link": true
    },
    "kernelspec": {
      "name": "python3",
      "display_name": "Python 3"
    },
    "language_info": {
      "name": "python"
    }
  },
  "cells": [
    {
      "cell_type": "markdown",
      "metadata": {
        "id": "view-in-github",
        "colab_type": "text"
      },
      "source": [
        "<a href=\"https://colab.research.google.com/github/coderanandmaurya/Python-For-Machine-Learning/blob/main/print_function%2C_Comments.ipynb\" target=\"_parent\"><img src=\"https://colab.research.google.com/assets/colab-badge.svg\" alt=\"Open In Colab\"/></a>"
      ]
    },
    {
      "cell_type": "markdown",
      "source": [
        "\n",
        "# **Print Function**"
      ],
      "metadata": {
        "id": "LONGBHkwa7_e"
      }
    },
    {
      "cell_type": "code",
      "execution_count": null,
      "metadata": {
        "id": "EQUiVd97ZnMB"
      },
      "outputs": [],
      "source": [
        "print(1)\n",
        "print(1.24)\n",
        "print(\"hello_world\")\n",
        "\n",
        "#concatinate if you use +\n",
        "print(\"coder\"+\"anand\"+\"maurya\")\n",
        "\n",
        "#print space in between words\n",
        "print(\"coder\",\"anand\",\"maurya\")\n",
        "\n",
        "#print with / slash\n",
        "print(\"coder\",\"anand\",\"maurya\",sep=\"/\")\n",
        "print(\"coder\",\"anand\",\"maurya\",sep=\"-\")\n",
        "\n",
        "# multi line Print\n",
        "print(\"Hello\", end=\" \")\n",
        "print(\"world\")"
      ]
    },
    {
      "cell_type": "code",
      "source": [
        "# Input: in str you have to change DType\n",
        "#a=input(\"enter any number : \")\n",
        "\n",
        "# Print\n",
        "print(\"value of a is : \",a)\n",
        "\n",
        "# Type\n",
        "type(a)\n",
        "\n",
        "#Type conversion\n",
        "a=int(a)\n",
        "a=str(a)\n",
        "\n",
        "\n",
        "# abs\n",
        "print(\"abs value of : \",abs(-3))\n",
        "\n",
        "# pow\n",
        "print(pow(2,3))\n",
        "\n",
        "# min/max/len/sum\n",
        "mylist=[1,2,3,4,5,6,7]\n",
        "min(mylist)\n",
        "max(mylist)\n",
        "len(mylist)\n",
        "sum(mylist)\n",
        "\n",
        "# Round\n",
        "c=22/7\n",
        "round(c)\n",
        "\n",
        "# Divmod\n",
        "divmod(5,2)\n",
        "\n",
        "# bin/oct/hex\n",
        "print(bin(2))\n",
        "print(oct(9))\n",
        "print(hex(15))\n",
        "\n",
        "#id\n",
        "a=3\n",
        "id(a)\n",
        "\n",
        "# ord : ascii code search\n",
        "ord(\"a\")\n",
        "\n",
        "# help : document of function\n",
        "#help(\"print\")"
      ],
      "metadata": {
        "colab": {
          "base_uri": "https://localhost:8080/"
        },
        "id": "4lnh4qOCe-le",
        "outputId": "6f5c19e1-0ae0-459a-bdd8-f22ea1ee3af9"
      },
      "execution_count": 10,
      "outputs": [
        {
          "output_type": "stream",
          "name": "stdout",
          "text": [
            "value of a is :  3\n",
            "abs value of :  3\n",
            "8\n",
            "0b10\n",
            "0o11\n",
            "0xf\n"
          ]
        },
        {
          "output_type": "execute_result",
          "data": {
            "text/plain": [
              "97"
            ]
          },
          "metadata": {},
          "execution_count": 10
        }
      ]
    },
    {
      "cell_type": "markdown",
      "source": [
        "# **Comments**\n"
      ],
      "metadata": {
        "id": "sjhqWsiLbD9d"
      }
    },
    {
      "cell_type": "code",
      "source": [
        "# This is comments\n",
        "\n",
        "#Like comments, the python docstrings are also ignored by the interpreter but it consume memory to avoid memory allocation don't Declare variable\n",
        "\n",
        "\"\"\" This is \n",
        "Multi Line Comments \"\"\"\n",
        "\n",
        "from sys import getsizeof\n",
        "\n",
        "B= \"\"\"HELLO\n",
        "IBM\"\"\"\n",
        "\n",
        "#print(getsizeof(A))\n",
        "print(getsizeof(B))"
      ],
      "metadata": {
        "colab": {
          "base_uri": "https://localhost:8080/"
        },
        "id": "kSGyZheabLlS",
        "outputId": "eb117902-6754-4b3e-c2b0-a8ffb2127dad"
      },
      "execution_count": 7,
      "outputs": [
        {
          "output_type": "stream",
          "name": "stdout",
          "text": [
            "58\n"
          ]
        }
      ]
    },
    {
      "cell_type": "code",
      "source": [
        ""
      ],
      "metadata": {
        "id": "5bKcQiyqbbNs"
      },
      "execution_count": 2,
      "outputs": []
    }
  ]
}