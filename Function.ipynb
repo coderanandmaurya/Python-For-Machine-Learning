{
  "nbformat": 4,
  "nbformat_minor": 0,
  "metadata": {
    "colab": {
      "name": "Function.ipynb",
      "provenance": [],
      "authorship_tag": "ABX9TyMCRFaw6key2RpISp/vWnv+",
      "include_colab_link": true
    },
    "kernelspec": {
      "name": "python3",
      "display_name": "Python 3"
    },
    "language_info": {
      "name": "python"
    }
  },
  "cells": [
    {
      "cell_type": "markdown",
      "metadata": {
        "id": "view-in-github",
        "colab_type": "text"
      },
      "source": [
        "<a href=\"https://colab.research.google.com/github/coderanandmaurya/Python-For-Machine-Learning/blob/main/Function.ipynb\" target=\"_parent\"><img src=\"https://colab.research.google.com/assets/colab-badge.svg\" alt=\"Open In Colab\"/></a>"
      ]
    },
    {
      "cell_type": "markdown",
      "source": [
        "# **Function**\n",
        "A function is a block of code which only runs when it is called.\n",
        "You can pass data, known as parameters, into a function.\n",
        "A function can return data as a result.\n",
        "- In Python a function is defined using the **def** keyword"
      ],
      "metadata": {
        "id": "Ye0ohENaAruz"
      }
    },
    {
      "cell_type": "code",
      "execution_count": 2,
      "metadata": {
        "colab": {
          "base_uri": "https://localhost:8080/"
        },
        "id": "7W3mI3-LADTt",
        "outputId": "8e1f1fcf-d147-4650-f014-95886548a391"
      },
      "outputs": [
        {
          "output_type": "stream",
          "name": "stdout",
          "text": [
            "hi\n"
          ]
        }
      ],
      "source": [
        "# Creating a Function\n",
        "def func():\n",
        "  print(\"hi\")\n",
        "\n",
        "# calling a function\n",
        "func()"
      ]
    },
    {
      "cell_type": "markdown",
      "source": [
        "## **Arguments**\n",
        "Information can be passed into functions as arguments.\n",
        "\n",
        "### **Parameters vs Arguments**\n",
        "- The terms parameter and argument can be used for the same thing: information that are passed into a function.\n",
        "- A **parameter** is the variable listed inside the parentheses in the function definition.\n",
        "\n",
        "- An **argument** is the value that is sent to the function when it is called."
      ],
      "metadata": {
        "id": "UUMYA4-mBQkv"
      }
    },
    {
      "cell_type": "code",
      "source": [
        "def myname(name):\n",
        "  print(\"my name is : \",name)\n",
        "\n",
        "# calling\n",
        "myname(\"Anand\")\n",
        "\n",
        "# multiple argument\n",
        "def bio(name,age):\n",
        "  print(\"my name is :\",name)\n",
        "  print(\"my age is :\",age)\n",
        "\n",
        "#calling\n",
        "bio(\"mohan\",34)"
      ],
      "metadata": {
        "colab": {
          "base_uri": "https://localhost:8080/"
        },
        "id": "2jGzypBWBERm",
        "outputId": "f19fb063-2450-4f6a-b821-f25c52b58f77"
      },
      "execution_count": 9,
      "outputs": [
        {
          "output_type": "stream",
          "name": "stdout",
          "text": [
            "my name is :  Anand\n",
            "my name is : mohan\n",
            "my age is : 34\n"
          ]
        }
      ]
    },
    {
      "cell_type": "code",
      "source": [
        "# If you try to call the function with 1 or 3 arguments, you will get an error\n",
        "bio(\"3\")"
      ],
      "metadata": {
        "colab": {
          "base_uri": "https://localhost:8080/",
          "height": 190
        },
        "id": "BzEBFe9ECZIH",
        "outputId": "9364d820-bfb5-48f4-cb36-7435d72ffba0"
      },
      "execution_count": 10,
      "outputs": [
        {
          "output_type": "error",
          "ename": "TypeError",
          "evalue": "ignored",
          "traceback": [
            "\u001b[0;31m---------------------------------------------------------------------------\u001b[0m",
            "\u001b[0;31mTypeError\u001b[0m                                 Traceback (most recent call last)",
            "\u001b[0;32m<ipython-input-10-46925371adf7>\u001b[0m in \u001b[0;36m<module>\u001b[0;34m()\u001b[0m\n\u001b[1;32m      1\u001b[0m \u001b[0;31m# If you try to call the function with 1 or 3 arguments, you will get an error\u001b[0m\u001b[0;34m\u001b[0m\u001b[0;34m\u001b[0m\u001b[0;34m\u001b[0m\u001b[0m\n\u001b[0;32m----> 2\u001b[0;31m \u001b[0mbio\u001b[0m\u001b[0;34m(\u001b[0m\u001b[0;34m\"3\"\u001b[0m\u001b[0;34m)\u001b[0m\u001b[0;34m\u001b[0m\u001b[0;34m\u001b[0m\u001b[0m\n\u001b[0m",
            "\u001b[0;31mTypeError\u001b[0m: bio() missing 1 required positional argument: 'age'"
          ]
        }
      ]
    },
    {
      "cell_type": "markdown",
      "source": [
        "### **Arbitrary Arguments, *args**\n",
        "If you do not know how many arguments that will be passed into your function, add a * before the parameter name in the function definition."
      ],
      "metadata": {
        "id": "YOml26BODp7S"
      }
    },
    {
      "cell_type": "code",
      "source": [
        "def store(*fruits):\n",
        "  print(fruits)\n",
        "\n",
        "store(\"apple\",\"mango\",\"banana\")"
      ],
      "metadata": {
        "colab": {
          "base_uri": "https://localhost:8080/"
        },
        "id": "_Wasj8XfDdzX",
        "outputId": "d81fc0a4-b268-4a4a-94ad-d127db033fc2"
      },
      "execution_count": 11,
      "outputs": [
        {
          "output_type": "stream",
          "name": "stdout",
          "text": [
            "('apple', 'mango', 'banana')\n"
          ]
        }
      ]
    },
    {
      "cell_type": "markdown",
      "source": [
        "### **Keyword Arguments**\n",
        "You can also send arguments with the key = value syntax."
      ],
      "metadata": {
        "id": "7SZlEMQvHNtd"
      }
    },
    {
      "cell_type": "code",
      "source": [
        "def KV(rollno,id,name):\n",
        "  print(rollno,id,name)\n",
        "\n",
        "KV(rollno=1, id=1, name=\"mohit\")"
      ],
      "metadata": {
        "colab": {
          "base_uri": "https://localhost:8080/"
        },
        "id": "VXU2NvgyHEH0",
        "outputId": "1f8fa96b-a83b-4992-9d6f-1d0e7059c3f5"
      },
      "execution_count": 12,
      "outputs": [
        {
          "output_type": "stream",
          "name": "stdout",
          "text": [
            "1 1 mohit\n"
          ]
        }
      ]
    },
    {
      "cell_type": "markdown",
      "source": [
        "### **Arbitrary Keyword Arguments, **kwargs**\n",
        "If you do not know how many keyword arguments that will be passed into your function, add two asterisk: ** before the parameter name in the function definition."
      ],
      "metadata": {
        "id": "jk8TMR7PH9tl"
      }
    },
    {
      "cell_type": "code",
      "source": [
        "def my_function(**kid):\n",
        "  print(\"His last name is \" + kid[\"lname\"])\n",
        "\n",
        "my_function(fname = \"Tobias\", lname = \"Refsnes\")"
      ],
      "metadata": {
        "colab": {
          "base_uri": "https://localhost:8080/"
        },
        "id": "gj2tbuOkHmH-",
        "outputId": "f372bf98-aecb-48e0-f428-4315e30e8961"
      },
      "execution_count": 13,
      "outputs": [
        {
          "output_type": "stream",
          "name": "stdout",
          "text": [
            "His last name is Refsnes\n"
          ]
        }
      ]
    },
    {
      "cell_type": "markdown",
      "source": [
        "### Default Parameter Value\n",
        "If we call the function without argument, it uses the default value"
      ],
      "metadata": {
        "id": "KO5sY9i-I80x"
      }
    },
    {
      "cell_type": "code",
      "source": [
        "def my_function(country = \"Norway\"):\n",
        "  print(\"I am from \" + country)\n",
        "\n",
        "my_function(\"Sweden\")\n",
        "my_function(\"India\")\n",
        "my_function()\n",
        "my_function(\"Brazil\")"
      ],
      "metadata": {
        "colab": {
          "base_uri": "https://localhost:8080/"
        },
        "id": "xhlLhuz6IzYi",
        "outputId": "d55338c2-8f3c-4bad-fb4e-6143a30c942d"
      },
      "execution_count": 14,
      "outputs": [
        {
          "output_type": "stream",
          "name": "stdout",
          "text": [
            "I am from Sweden\n",
            "I am from India\n",
            "I am from Norway\n",
            "I am from Brazil\n"
          ]
        }
      ]
    },
    {
      "cell_type": "markdown",
      "source": [
        "### **Passing a List as an Argument**\n",
        "if you send a List as an argument, it will still be a List when it reaches the function"
      ],
      "metadata": {
        "id": "XohgpsFyJ4Fg"
      }
    },
    {
      "cell_type": "code",
      "source": [
        "def my_function(food):\n",
        "  for x in food:\n",
        "    print(x)\n",
        "\n",
        "fruits = [\"apple\", \"banana\", \"cherry\"]\n",
        "\n",
        "my_function(fruits)"
      ],
      "metadata": {
        "colab": {
          "base_uri": "https://localhost:8080/"
        },
        "id": "Whnm0cDAKM5U",
        "outputId": "645e7f22-7b0d-410f-ec98-f20ab5a6f5d8"
      },
      "execution_count": 15,
      "outputs": [
        {
          "output_type": "stream",
          "name": "stdout",
          "text": [
            "apple\n",
            "banana\n",
            "cherry\n"
          ]
        }
      ]
    },
    {
      "cell_type": "markdown",
      "source": [
        "### **Return Values**\n"
      ],
      "metadata": {
        "id": "pEwo9snYKTOc"
      }
    },
    {
      "cell_type": "code",
      "source": [
        "def multiplication(x):\n",
        "  return 3*x\n",
        "\n",
        "multiplication(2)"
      ],
      "metadata": {
        "colab": {
          "base_uri": "https://localhost:8080/"
        },
        "id": "P_xldGnNKhHV",
        "outputId": "62169e4b-1c12-485c-c540-4e88ab522c66"
      },
      "execution_count": 17,
      "outputs": [
        {
          "output_type": "execute_result",
          "data": {
            "text/plain": [
              "6"
            ]
          },
          "metadata": {},
          "execution_count": 17
        }
      ]
    },
    {
      "cell_type": "markdown",
      "source": [
        "### **pass Statement**\n",
        "function definitions cannot be empty, but if you for some reason have a function definition with no content, put in the pass statement to avoid getting an error."
      ],
      "metadata": {
        "id": "aIbsNx6dKzvu"
      }
    },
    {
      "cell_type": "code",
      "source": [
        "def myfunction():\n",
        "  pass"
      ],
      "metadata": {
        "id": "RlxK7AwxKo6U"
      },
      "execution_count": 18,
      "outputs": []
    },
    {
      "cell_type": "markdown",
      "source": [
        "### **Recursion**"
      ],
      "metadata": {
        "id": "bd3SyWK_LB79"
      }
    },
    {
      "cell_type": "code",
      "source": [
        "def factorial(x):\n",
        "    \"\"\"This is a recursive function\n",
        "    to find the factorial of an integer\"\"\"\n",
        "\n",
        "    if x == 1:\n",
        "        return 1\n",
        "    else:\n",
        "        return (x * factorial(x-1))\n",
        "\n",
        "num = 10\n",
        "print(\"The factorial of\", num, \"is\", factorial(num))"
      ],
      "metadata": {
        "colab": {
          "base_uri": "https://localhost:8080/"
        },
        "id": "fPqJVhwhK-pT",
        "outputId": "8bc48710-7322-40d8-8052-238d0d054d87"
      },
      "execution_count": 21,
      "outputs": [
        {
          "output_type": "stream",
          "name": "stdout",
          "text": [
            "The factorial of 10 is 3628800\n"
          ]
        }
      ]
    },
    {
      "cell_type": "markdown",
      "source": [
        "# Lambda Function\n",
        "A lambda function is a small anonymous function.\n",
        "\n",
        "A lambda function can take any number of arguments, but can only have one expression."
      ],
      "metadata": {
        "id": "ac9tfpd9NiLA"
      }
    },
    {
      "cell_type": "code",
      "source": [
        "x = lambda a : a + 10\n",
        "print(x(5))\n",
        "\n",
        "# Multiple argument\n",
        "x = lambda a, b, c : a + b + c\n",
        "print(x(5, 6, 2))"
      ],
      "metadata": {
        "colab": {
          "base_uri": "https://localhost:8080/"
        },
        "id": "FGb5B6GELTgs",
        "outputId": "d59b2de8-6123-4190-c674-a9f15bd2a496"
      },
      "execution_count": 24,
      "outputs": [
        {
          "output_type": "stream",
          "name": "stdout",
          "text": [
            "15\n",
            "13\n"
          ]
        }
      ]
    }
  ]
}