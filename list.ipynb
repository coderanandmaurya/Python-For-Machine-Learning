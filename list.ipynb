{
  "nbformat": 4,
  "nbformat_minor": 0,
  "metadata": {
    "colab": {
      "name": "list.ipynb",
      "provenance": [],
      "authorship_tag": "ABX9TyOfyMO8NE1Uqu/8k7Kjunjk",
      "include_colab_link": true
    },
    "kernelspec": {
      "name": "python3",
      "display_name": "Python 3"
    },
    "language_info": {
      "name": "python"
    }
  },
  "cells": [
    {
      "cell_type": "markdown",
      "metadata": {
        "id": "view-in-github",
        "colab_type": "text"
      },
      "source": [
        "<a href=\"https://colab.research.google.com/github/coderanandmaurya/Python-For-Machine-Learning/blob/main/list.ipynb\" target=\"_parent\"><img src=\"https://colab.research.google.com/assets/colab-badge.svg\" alt=\"Open In Colab\"/></a>"
      ]
    },
    {
      "cell_type": "markdown",
      "source": [
        "# **Python List**\n",
        "- Lists are used to store multiple items in a single variable.\n",
        "- Lists are created using square brackets\n",
        "\n",
        "## **List Items**\n",
        "- List items are ordered, changeable, and allow duplicate values\n",
        "- List items are indexed, the first item has index [0], the second item has index [1] etc"
      ],
      "metadata": {
        "id": "nnojlNtAJtAS"
      }
    },
    {
      "cell_type": "code",
      "execution_count": null,
      "metadata": {
        "colab": {
          "base_uri": "https://localhost:8080/"
        },
        "id": "035TH8Y0JjpO",
        "outputId": "66d6bf19-c94e-4fd6-fb76-3067c0421b65"
      },
      "outputs": [
        {
          "output_type": "stream",
          "name": "stdout",
          "text": [
            "[1, 2, 3, 4, 5]\n"
          ]
        }
      ],
      "source": [
        "# Ordered\n",
        "number=[1,2,3,4,5]\n",
        "print(number)"
      ]
    },
    {
      "cell_type": "code",
      "source": [
        "# Changeable\n",
        "# Adding and removing elements\n",
        "myList = ['a', 'b', 'c', 'd', 'e', 'f']\n",
        "\n",
        "# Add an element at the end\n",
        "myList.append('g')\n",
        "print(myList)\n",
        "\n",
        "# Insert element at a specific index\n",
        "# insert(index, value)\n",
        "myList.insert(3, 'z') # Insertion at the 3rd index\n",
        "print(myList)\n",
        "\n",
        "# Delete an element from the end\n",
        "myList.pop()\n",
        "print(myList)\n",
        "\n",
        "# Delete the value at a specific index\n",
        "del myList[1]\n",
        "print(myList)"
      ],
      "metadata": {
        "colab": {
          "base_uri": "https://localhost:8080/"
        },
        "id": "wIgQZyGrNQ05",
        "outputId": "793dc88c-3cd1-47a8-a981-fe9304647c9f"
      },
      "execution_count": null,
      "outputs": [
        {
          "output_type": "stream",
          "name": "stdout",
          "text": [
            "['a', 'b', 'c', 'd', 'e', 'f', 'g']\n",
            "['a', 'b', 'c', 'z', 'd', 'e', 'f', 'g']\n",
            "['a', 'b', 'c', 'z', 'd', 'e', 'f']\n",
            "['a', 'c', 'z', 'd', 'e', 'f']\n"
          ]
        }
      ]
    },
    {
      "cell_type": "code",
      "source": [
        "# Allow Duplicates\n",
        "animal=[\"monkey\",\"monkey\"]"
      ],
      "metadata": {
        "id": "FcAMdBCiNrzR"
      },
      "execution_count": null,
      "outputs": []
    },
    {
      "cell_type": "markdown",
      "source": [
        "## **Creating List**"
      ],
      "metadata": {
        "id": "Lv1e5_GYQ4Wb"
      }
    },
    {
      "cell_type": "code",
      "source": [
        "# Python program to demonstrate\n",
        "\n",
        "# Creating a List\n",
        "List = []\n",
        "print(\"Blank List: \")\n",
        "print(List)\n",
        "\n",
        "# Creating a List of numbers\n",
        "List = [10, 20, 14]\n",
        "print(\"\\nList of numbers: \")\n",
        "print(List)\n",
        "\n",
        "# Creating a List of strings and accessing\n",
        "# using index\n",
        "List = [\"game\", \"For\", \"game\"]\n",
        "print(\"\\nList Items: \")\n",
        "print(List[0])\n",
        "print(List[2])\n",
        "\n",
        "# Creating a Multi-Dimensional List\n",
        "# (By Nesting a list inside a List)\n",
        "List = [['game', 'For'], ['game']]\n",
        "print(\"\\nMulti-Dimensional List: \")\n",
        "print(List)\n"
      ],
      "metadata": {
        "id": "5ypbZJa9Q_JC"
      },
      "execution_count": null,
      "outputs": []
    },
    {
      "cell_type": "markdown",
      "source": [
        "## **The list() Constructor**\n",
        "- It is also possible to use the list() constructor when creating a new list"
      ],
      "metadata": {
        "id": "m8-bQThpO31H"
      }
    },
    {
      "cell_type": "code",
      "source": [
        "tuple1=(\"i\",\"love\",\"MSdhoni\")\n",
        "print(type(tuple1))\n",
        "\n",
        "tuple1=list(tuple1)\n",
        "print(type(tuple1))"
      ],
      "metadata": {
        "colab": {
          "base_uri": "https://localhost:8080/"
        },
        "id": "81Q-2lAPPP7s",
        "outputId": "f7ee8d17-5268-49dc-ffaa-c206512ee3b1"
      },
      "execution_count": null,
      "outputs": [
        {
          "output_type": "stream",
          "name": "stdout",
          "text": [
            "<class 'tuple'>\n",
            "<class 'list'>\n"
          ]
        }
      ]
    },
    {
      "cell_type": "markdown",
      "source": [
        "## **Size of List**"
      ],
      "metadata": {
        "id": "ffQcOv1WS1Mo"
      }
    },
    {
      "cell_type": "code",
      "source": [
        "# Creating a List\n",
        "List1 = []\n",
        "print(len(List1))\n",
        "  \n",
        "# Creating a List of numbers\n",
        "List2 = [10, 20, 14]\n",
        "print(len(List2))"
      ],
      "metadata": {
        "colab": {
          "base_uri": "https://localhost:8080/"
        },
        "id": "4_WCKCIaPh1J",
        "outputId": "765e7c04-af9a-456b-ba02-75904a8c4add"
      },
      "execution_count": null,
      "outputs": [
        {
          "output_type": "stream",
          "name": "stdout",
          "text": [
            "0\n",
            "3\n"
          ]
        }
      ]
    },
    {
      "cell_type": "markdown",
      "source": [
        "## **Adding Elements**"
      ],
      "metadata": {
        "id": "mXHv8PokTnwn"
      }
    },
    {
      "cell_type": "code",
      "source": [
        "a=[]\n",
        "\n",
        "# add element using append\n",
        "a.append(0)\n",
        "print(a)\n",
        "\n",
        "# add multiple using iterative method\n",
        "for i in range(1,4):\n",
        "  a.append(i)\n",
        "print(a)\n",
        "\n",
        "# Using Insert Method\n",
        "a.insert(2,9)\n",
        "print(a)"
      ],
      "metadata": {
        "colab": {
          "base_uri": "https://localhost:8080/"
        },
        "id": "z6tgVj_PUAEH",
        "outputId": "06391910-bcab-4334-a441-f0a3a2c3c067"
      },
      "execution_count": null,
      "outputs": [
        {
          "output_type": "stream",
          "name": "stdout",
          "text": [
            "[0]\n",
            "[0, 1, 2, 3]\n",
            "[0, 1, 9, 2, 3]\n"
          ]
        }
      ]
    },
    {
      "cell_type": "markdown",
      "source": [
        "## **Using extend() method**"
      ],
      "metadata": {
        "id": "DHOatTP6Vyod"
      }
    },
    {
      "cell_type": "code",
      "source": [
        "b=[10,11,12]\n",
        "a.extend(b)\n",
        "\n",
        "print(a)"
      ],
      "metadata": {
        "colab": {
          "base_uri": "https://localhost:8080/"
        },
        "id": "40oSbmLgUS2K",
        "outputId": "8761284f-6b2f-4ea2-aa19-c2bc05e2536b"
      },
      "execution_count": null,
      "outputs": [
        {
          "output_type": "stream",
          "name": "stdout",
          "text": [
            "[0, 1, 9, 2, 3, 10, 11, 12]\n"
          ]
        }
      ]
    },
    {
      "cell_type": "markdown",
      "source": [
        "## **Accessing elements from the List**"
      ],
      "metadata": {
        "id": "zgeCvehHWPVy"
      }
    },
    {
      "cell_type": "code",
      "source": [
        "print(a[2])\n",
        "\n",
        "# Access from Multiple \n",
        "Multi=[[1,2,3],[\"hello\",\"hi\",\"bro\"]]\n",
        "print(Multi[1][2])"
      ],
      "metadata": {
        "colab": {
          "base_uri": "https://localhost:8080/"
        },
        "id": "Wop04eZeV-cN",
        "outputId": "3ab54de3-f8ea-4e46-dba3-4dbe4898da65"
      },
      "execution_count": null,
      "outputs": [
        {
          "output_type": "stream",
          "name": "stdout",
          "text": [
            "9\n",
            "bro\n"
          ]
        }
      ]
    },
    {
      "cell_type": "markdown",
      "source": [
        "## **Negative indexing**"
      ],
      "metadata": {
        "id": "6FCgO7AuXtfv"
      }
    },
    {
      "cell_type": "code",
      "source": [
        "# print the last element of list\n",
        "print(Multi[1][-1])"
      ],
      "metadata": {
        "colab": {
          "base_uri": "https://localhost:8080/"
        },
        "id": "RIlmk6ibWT_D",
        "outputId": "7b0adfe2-00ae-45fa-8bed-afd4df0d7d6e"
      },
      "execution_count": null,
      "outputs": [
        {
          "output_type": "stream",
          "name": "stdout",
          "text": [
            "bro\n"
          ]
        }
      ]
    },
    {
      "cell_type": "markdown",
      "source": [
        "## **Removing Elements from the List**"
      ],
      "metadata": {
        "id": "VtmA81oVYH28"
      }
    },
    {
      "cell_type": "code",
      "source": [
        "fruits=[\"banana\",\"apple\",\"mango\",\"banana\",\"apple\",\"mango\"]\n",
        "print(fruits)\n",
        "\n",
        "# using remove method\n",
        "fruits.remove(\"mango\")\n",
        "print(fruits)\n",
        "\n",
        "# remove multiple element\n",
        "fru=[\"banana\",\"apple\"]\n",
        "for i in range(len(fru)):\n",
        "  print(fru[i])\n",
        "  fruits.remove(fru[i])\n",
        "\n",
        "print(fruits)\n",
        "\n",
        "# using pop method\n",
        "fruits.pop(1)\n",
        "print(fruits)"
      ],
      "metadata": {
        "colab": {
          "base_uri": "https://localhost:8080/"
        },
        "id": "oucH5S6pXzPy",
        "outputId": "b911d34c-e348-4475-cdbd-5a70feef22a1"
      },
      "execution_count": null,
      "outputs": [
        {
          "output_type": "stream",
          "name": "stdout",
          "text": [
            "['banana', 'apple', 'mango', 'banana', 'apple', 'mango']\n",
            "['banana', 'apple', 'banana', 'apple', 'mango']\n",
            "banana\n",
            "apple\n",
            "['banana', 'apple', 'mango']\n",
            "['banana', 'mango']\n"
          ]
        }
      ]
    },
    {
      "cell_type": "markdown",
      "source": [
        "## **Slicing of a List**"
      ],
      "metadata": {
        "id": "4AK50yB5hMtW"
      }
    },
    {
      "cell_type": "code",
      "source": [
        "num=[1,2,3,4,5]\n",
        "\n",
        "print(\"printing list from num index 1 to 2 : \",num[1:3])\n",
        "\n",
        "print(\"printing all numbers : \",num[:])\n",
        "\n",
        "print(\"printing number index from 2 : \",num[2:])"
      ],
      "metadata": {
        "colab": {
          "base_uri": "https://localhost:8080/"
        },
        "id": "vzJm2R18ZEs0",
        "outputId": "0395dbc6-0a73-41c2-892a-15ceae328f8e"
      },
      "execution_count": null,
      "outputs": [
        {
          "output_type": "stream",
          "name": "stdout",
          "text": [
            "printing list from num index 1 to 2 :  [2, 3]\n",
            "printing all numbers :  [1, 2, 3, 4, 5]\n",
            "printing number index from 2 :  [3, 4, 5]\n"
          ]
        }
      ]
    },
    {
      "cell_type": "markdown",
      "source": [
        "## **Negative index List slicing**"
      ],
      "metadata": {
        "id": "MJw0mpz3i8E1"
      }
    },
    {
      "cell_type": "code",
      "source": [
        "print(\"printing number in reverse : \",num[::-1])\n",
        "\n",
        "print(\"negative slicing : \",num[-6:-1])"
      ],
      "metadata": {
        "colab": {
          "base_uri": "https://localhost:8080/"
        },
        "id": "x7TzO7Kshgsq",
        "outputId": "06ffaea3-b0bb-49b9-e536-add8c3966cd9"
      },
      "execution_count": null,
      "outputs": [
        {
          "output_type": "stream",
          "name": "stdout",
          "text": [
            "printing number in reverse :  [5, 4, 3, 2, 1]\n",
            "negative slicing :  [1, 2, 3, 4]\n"
          ]
        }
      ]
    },
    {
      "cell_type": "markdown",
      "source": [
        "## **List Comprehension**"
      ],
      "metadata": {
        "id": "oeNlK-j2ki-K"
      }
    },
    {
      "cell_type": "code",
      "source": [
        "# below list contains square of all odd numbers from range 1 to 10\n",
        "odd_square = [x ** 2 for x in range(1, 11) if x % 2 == 1]\n",
        "print(odd_square)"
      ],
      "metadata": {
        "colab": {
          "base_uri": "https://localhost:8080/"
        },
        "id": "zD3TgB2_jcnU",
        "outputId": "159fb2f2-c577-41ce-b88b-65daa37ff26a"
      },
      "execution_count": null,
      "outputs": [
        {
          "output_type": "stream",
          "name": "stdout",
          "text": [
            "[1, 9, 25, 49, 81]\n"
          ]
        }
      ]
    },
    {
      "cell_type": "code",
      "source": [
        "# for understanding, above generation is same as,\n",
        "odd_square = []\n",
        "\n",
        "for x in range(1, 11):\n",
        "\tif x % 2 == 1:\n",
        "\t\todd_square.append(x**2)\n",
        "\n",
        "print(odd_square)"
      ],
      "metadata": {
        "colab": {
          "base_uri": "https://localhost:8080/"
        },
        "id": "ymlWNliwlCCv",
        "outputId": "c8723bfd-ab4a-43fe-9241-f9e44e59c01c"
      },
      "execution_count": null,
      "outputs": [
        {
          "output_type": "stream",
          "name": "stdout",
          "text": [
            "[1, 9, 25, 49, 81]\n"
          ]
        }
      ]
    },
    {
      "cell_type": "markdown",
      "source": [
        "## **Iterate over a list in Python**"
      ],
      "metadata": {
        "id": "yTFX9pCclb9N"
      }
    },
    {
      "cell_type": "code",
      "source": [
        "MIB=[\"hello_world\",\"hello_earth\"]\n",
        "for x in MIB:\n",
        "  print(x)\n",
        "\n",
        "# Iterate word\n",
        "WMIB=[\"GROW\"]\n",
        "for i in WMIB:\n",
        "  for x in str(i):\n",
        "    print(x)"
      ],
      "metadata": {
        "colab": {
          "base_uri": "https://localhost:8080/"
        },
        "id": "qQfj9QUrlhb_",
        "outputId": "130fa121-20db-4e22-b24b-81601019d8d0"
      },
      "execution_count": null,
      "outputs": [
        {
          "output_type": "stream",
          "name": "stdout",
          "text": [
            "hello_world\n",
            "hello_earth\n",
            "G\n",
            "R\n",
            "O\n",
            "W\n"
          ]
        }
      ]
    },
    {
      "cell_type": "markdown",
      "source": [
        "## **Concatenate two lists in Python**"
      ],
      "metadata": {
        "id": "uYvTSOp-nWsc"
      }
    },
    {
      "cell_type": "code",
      "source": [
        "animal_list1=[\"Bengal Tigers\", \"IndianLions\", \"Deer\"]\n",
        "animal_list2=[\"Pythons\",'Wolves', \"Foxes\", \"Bears\", \"Crocodiles\", \"WildDogs\", \"Monkeys\",\"Snakes\"]\n",
        "\n",
        "animals=animal_list1+animal_list2\n",
        "print(animals)"
      ],
      "metadata": {
        "colab": {
          "base_uri": "https://localhost:8080/"
        },
        "id": "-YPFIDUZl2jh",
        "outputId": "37c81ad8-95d8-4626-9776-65335d42d32d"
      },
      "execution_count": null,
      "outputs": [
        {
          "output_type": "stream",
          "name": "stdout",
          "text": [
            "['Bengal Tigers', 'IndianLions', 'Deer', 'Pythons', 'Wolves', 'Foxes', 'Bears', 'Crocodiles', 'WildDogs', 'Monkeys', 'Snakes']\n"
          ]
        }
      ]
    },
    {
      "cell_type": "markdown",
      "source": [
        "## **Python Membership and Identity Operators.**"
      ],
      "metadata": {
        "id": "-oSTyp80pmQO"
      }
    },
    {
      "cell_type": "code",
      "source": [
        "# in operators\n",
        "animal_list1=[\"Bengal Tigers\", \"IndianLions\", \"Deer\"]\n",
        "\n",
        "print(\"Dog\" in animal_list1)\n",
        "\n",
        "print(\"Deer\" in animal_list1)"
      ],
      "metadata": {
        "colab": {
          "base_uri": "https://localhost:8080/"
        },
        "id": "dYNlvjXRplqy",
        "outputId": "568f61aa-f56e-49c8-9e97-60e3e7cf5cc4"
      },
      "execution_count": null,
      "outputs": [
        {
          "output_type": "stream",
          "name": "stdout",
          "text": [
            "False\n",
            "True\n"
          ]
        }
      ]
    },
    {
      "cell_type": "code",
      "source": [
        "# is operators\n",
        "x = 5\n",
        "if (type(x) is int):\n",
        "    print(\"true\")\n",
        "else:\n",
        "    print(\"false\")"
      ],
      "metadata": {
        "colab": {
          "base_uri": "https://localhost:8080/"
        },
        "id": "e122x-pRqHaU",
        "outputId": "80c87771-a29c-42a9-cf48-8477c9710e8b"
      },
      "execution_count": null,
      "outputs": [
        {
          "output_type": "stream",
          "name": "stdout",
          "text": [
            "true\n"
          ]
        }
      ]
    },
    {
      "cell_type": "markdown",
      "source": [
        "## **Built-in functions with List**"
      ],
      "metadata": {
        "id": "t2AarKcGrbXc"
      }
    },
    {
      "cell_type": "code",
      "source": [
        "numbers = [1,2,3,4,5,1,4,5]\n",
        "\n",
        "# total sum\n",
        "print(\"total sum\",sum(numbers))\n",
        "\n",
        "# max in numbers\n",
        "print(\"maximum in number\",max(numbers))\n",
        "\n",
        "# min in numbers\n",
        "print(\"minimum in number\",min(numbers))\n",
        "\n",
        "# total length \n",
        "print(\"length of numbers\",len(numbers))"
      ],
      "metadata": {
        "colab": {
          "base_uri": "https://localhost:8080/"
        },
        "id": "CBvS60TOr8gT",
        "outputId": "ca909695-4661-4055-e274-cc2dabc7152f"
      },
      "execution_count": null,
      "outputs": [
        {
          "output_type": "stream",
          "name": "stdout",
          "text": [
            "25\n",
            "5\n",
            "1\n",
            "8\n"
          ]
        }
      ]
    },
    {
      "cell_type": "markdown",
      "source": [
        "## **Map function**\n",
        "- map() function returns a map object(which is an iterator) of the results after applying the given function to each item of a given iterable (list, tuple etc.)\n",
        "- syntax : map(function, iterables)"
      ],
      "metadata": {
        "id": "YAsfKNXjtOec"
      }
    },
    {
      "cell_type": "code",
      "source": [
        "numbers = [2, 4, 6, 8, 10]\n",
        "\n",
        "# returns square of a number\n",
        "def square(number):\n",
        "  return number * number\n",
        "\n",
        "# apply square() function to each item of the numbers list\n",
        "squared_numbers_iterator = map(square, numbers)\n",
        "\n",
        "# converting to list\n",
        "squared_numbers = list(squared_numbers_iterator)\n",
        "print(squared_numbers)\n",
        "\n",
        "# Output: [4, 16, 36, 64, 100]"
      ],
      "metadata": {
        "colab": {
          "base_uri": "https://localhost:8080/"
        },
        "id": "ty4cXbMbr_tD",
        "outputId": "5e43f707-5e12-40ed-d19a-3cd38af31d5c"
      },
      "execution_count": null,
      "outputs": [
        {
          "output_type": "stream",
          "name": "stdout",
          "text": [
            "[4, 16, 36, 64, 100]\n"
          ]
        }
      ]
    }
  ]
}