{
  "nbformat": 4,
  "nbformat_minor": 0,
  "metadata": {
    "colab": {
      "name": "Operators.ipynb",
      "provenance": [],
      "authorship_tag": "ABX9TyPnQcJIpG8xy80zuW8eAp9c",
      "include_colab_link": true
    },
    "kernelspec": {
      "name": "python3",
      "display_name": "Python 3"
    },
    "language_info": {
      "name": "python"
    }
  },
  "cells": [
    {
      "cell_type": "markdown",
      "metadata": {
        "id": "view-in-github",
        "colab_type": "text"
      },
      "source": [
        "<a href=\"https://colab.research.google.com/github/coderanandmaurya/Python-For-Machine-Learning/blob/main/Operators.ipynb\" target=\"_parent\"><img src=\"https://colab.research.google.com/assets/colab-badge.svg\" alt=\"Open In Colab\"/></a>"
      ]
    },
    {
      "cell_type": "markdown",
      "source": [
        "# **Python Operators**\n",
        "Operators are used to perform operations on variables and values.\n",
        "\n",
        "- variable & Value : Variables are containers for storing data values. like A=5 here A is variable which contain integer value 5.\n",
        "\n"
      ],
      "metadata": {
        "id": "_PQd7oOigcym"
      }
    },
    {
      "cell_type": "code",
      "execution_count": 10,
      "metadata": {
        "colab": {
          "base_uri": "https://localhost:8080/"
        },
        "id": "9pQB6BptdGX_",
        "outputId": "145b0704-46db-48a6-eef2-d3b17ad9752e"
      },
      "outputs": [
        {
          "output_type": "stream",
          "name": "stdout",
          "text": [
            "15\n",
            "15\n"
          ]
        }
      ],
      "source": [
        "print(10+5)\n",
        "\n",
        "A=5\n",
        "B=10\n",
        "\n",
        "print(A+B)"
      ]
    },
    {
      "cell_type": "markdown",
      "source": [
        "## **Python divides the operators in the following groups:**\n",
        "\n",
        "- Arithmetic operators\n",
        "- Assignment operators\n",
        "- Comparison operators\n",
        "- Logical operators\n",
        "- Identity operators\n",
        "- Membership operators\n",
        "- Bitwise operators\n",
        "\n",
        "<figure>\n",
        "<center>\n",
        "<img src='https://techvidvan.com/tutorials/wp-content/uploads/sites/2/2019/12/python-operators.jpg' width=\"500\" />\n",
        "</center>\n",
        "</figure>\n"
      ],
      "metadata": {
        "id": "EHXVaEREh5EL"
      }
    },
    {
      "cell_type": "markdown",
      "source": [
        "## **1. Arithmetic Operators**\n",
        "Arithmetic operators are used with numeric values to perform common mathematical operations:\n",
        "\n",
        "<figure>\n",
        "<center>\n",
        "<img src='https://techvidvan.com/tutorials/wp-content/uploads/sites/2/2019/12/python-arithmetic-operators-1.jpg' width=\"500\"/>\n",
        "</center>\n",
        "</figure>\n",
        "\n",
        "\n",
        "- **Addition** (+) : adds two operands\tx + y\n",
        "- **Subtraction** (-) : subtracts two operands\tx – y\n",
        "- **Multiplication** (*) : multiplies two operands\tx * y\n",
        "-\t**Division** (float /) : divides the first operand by the second\tx / y\n",
        "- **Division** (floor //) : divides the first operand by the second\tx // y\n",
        "- **Modulus** (%) : returns the remainder when the first operand is divided by the second\tx % y\n",
        "-\t**Power** (**) : Returns first raised to power second\t(x * * y)\n"
      ],
      "metadata": {
        "id": "rNm_uztQjv5Q"
      }
    },
    {
      "cell_type": "code",
      "source": [
        "# Addition\n",
        "A,B=3,2\n",
        "print(\"A+B is : \", A+B)\n",
        "\n",
        "# Subtraction: subtracts two operands\tx – y\n",
        "print(\"A-B is : \", A-B)\n",
        "\n",
        "# Multiplication: multiplies two operands\tx * y\n",
        "print(\"A*B is : \",A*B)\n",
        "\n",
        "# Division (float): divides the first operand by the second\tx / y\n",
        "print(\"A/B is : \",A/B)\n",
        "\n",
        "# Division (floor): divides the first operand by the second\tx // y\n",
        "print(\"A//B is : \",A//B)\n",
        "\n",
        "# Modulus: returns the remainder when the first operand is divided by the second\tx % y\n",
        "print(\"A%B is : \",A%B)\n",
        "\n",
        "# Power: Returns first raised to power second\tx ** y\n",
        "print(\"A**B is : \",A**B)"
      ],
      "metadata": {
        "colab": {
          "base_uri": "https://localhost:8080/"
        },
        "id": "8J2svro6hzJN",
        "outputId": "caf1dc99-57f7-4115-8a3a-4f03ab617dac"
      },
      "execution_count": 11,
      "outputs": [
        {
          "output_type": "stream",
          "name": "stdout",
          "text": [
            "A+B is :  5\n",
            "A-B is :  1\n",
            "A*B is :  6\n",
            "A/B is :  1.5\n",
            "A//B is :  1\n",
            "A%B is :  1\n",
            "A**B is :  9\n"
          ]
        }
      ]
    },
    {
      "cell_type": "markdown",
      "source": [
        "# **2. Comparison Operators**\n",
        "Comparison or Relational operators compares the values. It either returns True or False according to the condition.\n",
        "\n",
        "<figure>\n",
        "<center>\n",
        "<img src='https://cdn.educba.com/academy/wp-content/uploads/2019/09/Python-Comparison-Operators-1.png' width=\"500\"/>\n",
        "</center>\n",
        "</figure>\n",
        "\n",
        "\n",
        "\n",
        "- Greater than ( > ) : True if the left operand is greater than the right\tx > y\n",
        "- Less than ( < ): True if the left operand is less than the right\tx < y\n",
        "- Equal to ( = ) : True if both operands are equal\tx == y\n",
        "- Not equal to ( != ) : True if operands are not equal\tx != y\n",
        "- Greater than or equal to ( >= ) : True if the left operand is greater than or equal to the right\tx >= y\n",
        "- Less than or equal to ( <= ) : True if the left operand is less than or equal to the right\tx <= y"
      ],
      "metadata": {
        "id": "bKwX3tXFoylM"
      }
    },
    {
      "cell_type": "code",
      "source": [
        "A,B=2,4\n",
        "\n",
        "# Greater than ( > ) : True if the left operand is greater than the right\tx > y\n",
        "print(\"A is greater than B : \",A>B)\n",
        "\n",
        "# Less than ( < ): True if the left operand is less than the right\tx < y\n",
        "print(\"A is Less than B : \",A<B)\n",
        "\n",
        "# Equal to ( = ) : True if both operands are equal\tx == y\n",
        "print(\"A is Equal to B : \",A==B)\n",
        "\n",
        "# Not equal to ( != ) : True if operands are not equal\tx != y\n",
        "print(\"A is Not equal to B : \",A!=B)\n",
        "\n",
        "# Greater than or equal to ( >= ) : True if the left operand is greater than or equal to the right\tx >= y\n",
        "print(\"A is Greater than or equal to B : \",A>=B)\n",
        "\n",
        "# Less than or equal to ( <= ) : True if the left operand is less than or equal to the right\tx <= y\n",
        "print(\"A is Less than or equal to : \",A<=B)"
      ],
      "metadata": {
        "colab": {
          "base_uri": "https://localhost:8080/"
        },
        "id": "wAFCVJ-pm4ej",
        "outputId": "d6fd28d7-0f72-4b79-c2fd-3e39cf45f7d8"
      },
      "execution_count": 12,
      "outputs": [
        {
          "output_type": "stream",
          "name": "stdout",
          "text": [
            "A is greater than B :  False\n",
            "A is Less than B :  True\n",
            "A is Equal to B :  False\n",
            "A is Not equal to B :  True\n",
            "A is Greater than or equal to B :  False\n",
            "A is Less than or equal to :  True\n"
          ]
        }
      ]
    },
    {
      "cell_type": "markdown",
      "source": [
        "# **3. Logical Operators**\n",
        "Logical operators perform Logical AND, Logical OR, and Logical NOT operations. It is used to combine conditional statements.\n",
        "\n",
        "<figure>\n",
        "<center>\n",
        "<img src='https://www.askpython.com/wp-content/uploads/2019/12/python-logical-operators.png' width=\"500\" />\n",
        "</center>\n",
        "</figure>\n",
        "\n",
        "- **Logical AND** : True if both the operands are true\tx and y\n",
        "- **Logical OR **: True if either of the operands is true \tx or y\n",
        "- **Logical NOT** : True if the operand is false \tnot x"
      ],
      "metadata": {
        "id": "KEzPX0p9rkEw"
      }
    },
    {
      "cell_type": "code",
      "source": [
        "# Examples of Logical Operator\n",
        "a = True\n",
        "b = False\n",
        " \n",
        "# Logical AND: True if both the operands are true x and y\n",
        "print(a and b)\n",
        "\n",
        "# Logical OR: True if either of the operands is true x or y\n",
        "print(a or b)\n",
        "\n",
        "# Logical NOT: True if the operand is false not x\n",
        "print(not a)"
      ],
      "metadata": {
        "colab": {
          "base_uri": "https://localhost:8080/"
        },
        "id": "8bFnCdYRrWkM",
        "outputId": "76bd1cc9-65ed-43cf-d4e6-5006ce5766ee"
      },
      "execution_count": 13,
      "outputs": [
        {
          "output_type": "stream",
          "name": "stdout",
          "text": [
            "False\n",
            "True\n",
            "False\n"
          ]
        }
      ]
    },
    {
      "cell_type": "markdown",
      "source": [
        "# **4. Bitwise Operators**\n",
        "Bitwise operators act on bits and perform the bit-by-bit operations. These are used to operate on binary numbers.\n",
        "\n",
        "<figure>\n",
        "<center>\n",
        "<img src='https://techvidvan.com/tutorials/wp-content/uploads/sites/2/2019/12/python-bitwise-operators-1.jpg' width=\"500\" />\n",
        "</center>\n",
        "</figure>\n",
        "\n",
        "- Bitwise AND\t: x & y\n",
        "- Bitwise OR\t: x | y\n",
        "- Bitwise NOT :\t~x\n",
        "- Bitwise XOR :\tx ^ y\n",
        "- Bitwise right shift :\tx>>\n",
        "- Bitwise left shift : x<<"
      ],
      "metadata": {
        "id": "bT4t95sstd2v"
      }
    },
    {
      "cell_type": "code",
      "source": [
        "# Examples of Bitwise operators\n",
        "a = 0b100  # 4\n",
        "b = 0b100  # 4\n",
        " \n",
        "# Bitwise AND\t: x & y\n",
        "print(\"a & b is : \",a & b)\n",
        "\n",
        "# Bitwise OR\t: x | y\n",
        "print(\"a | b is : \",a | b)\n",
        "\n",
        "# Bitwise NOT :\t~x\n",
        "print(\"~a is : \",~a)\n",
        "\n",
        "# Bitwise XOR :\tx ^ y\n",
        "print(\"a ^ b is : \",a ^ b)\n",
        "\n",
        "# Bitwise right shift :\tx>>\n",
        "print(\"a >> 2 is : \",a >> 2)\n",
        "\n",
        "# Bitwise left shift : x<<\n",
        "print(\"a << 2 is : \",a << 2)\n"
      ],
      "metadata": {
        "colab": {
          "base_uri": "https://localhost:8080/"
        },
        "id": "kNTLLw3RuB7I",
        "outputId": "40a4c6eb-3a17-4681-c907-613ecf8d43a0"
      },
      "execution_count": 17,
      "outputs": [
        {
          "output_type": "stream",
          "name": "stdout",
          "text": [
            "a & b is :  4\n",
            "a | b is :  4\n",
            "~a is :  -5\n",
            "a ^ b is :  0\n",
            "a >> 2 is :  1\n",
            "a << 2 is :  16\n"
          ]
        }
      ]
    },
    {
      "cell_type": "code",
      "source": [
        ""
      ],
      "metadata": {
        "id": "bQ0PPrIzukCo"
      },
      "execution_count": null,
      "outputs": []
    }
  ]
}