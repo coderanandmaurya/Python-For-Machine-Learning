{
  "cells": [
    {
      "cell_type": "markdown",
      "metadata": {
        "id": "view-in-github",
        "colab_type": "text"
      },
      "source": [
        "<a href=\"https://colab.research.google.com/github/coderanandmaurya/Python-For-Machine-Learning/blob/main/dictionary.ipynb\" target=\"_parent\"><img src=\"https://colab.research.google.com/assets/colab-badge.svg\" alt=\"Open In Colab\"/></a>"
      ]
    },
    {
      "cell_type": "code",
      "execution_count": null,
      "metadata": {
        "id": "V26kzdMcIl9d",
        "outputId": "ce8822c0-c934-405b-d3a6-9b501537da10"
      },
      "outputs": [
        {
          "name": "stdout",
          "output_type": "stream",
          "text": [
            "{'aman': 123, 'anu': 345, 'iop': 678}\n"
          ]
        }
      ],
      "source": [
        "#Each key is separated from its value by a colon (:), the items are separated by commas,\n",
        "# and the whole thing is enclosed in curly braces.\n",
        "\n",
        "ph={'aman':123,'anu':345,'iop':678}\n",
        "print(ph)\n"
      ]
    },
    {
      "cell_type": "code",
      "execution_count": null,
      "metadata": {
        "id": "RUu5vLrQIl9k",
        "outputId": "e506ca72-37ff-4a41-cd6c-a34ea8ebb2aa"
      },
      "outputs": [
        {
          "name": "stdout",
          "output_type": "stream",
          "text": [
            "{'aman': 555, 'anu': 345, 'iop': 678}\n"
          ]
        }
      ],
      "source": [
        "#More than one entry per key not allowed. Which means no duplicate key is allowed.\n",
        "#When duplicate keys encountered during assignment, the last assignment wins. \n",
        "#Keys are immutable but values can be modified\n",
        "\n",
        "ph={'aman':123,'anu':345,'iop':678, 'aman':555}\n",
        "print(ph)\n"
      ]
    },
    {
      "cell_type": "code",
      "execution_count": null,
      "metadata": {
        "id": "mWcV7BVBIl9l",
        "outputId": "9366265b-68a7-40a0-9c4b-0eeb821f9c04"
      },
      "outputs": [
        {
          "name": "stdout",
          "output_type": "stream",
          "text": [
            "{'aman': 555, 'anu': 345, 'iop': 678, 'avi': 123345}\n"
          ]
        }
      ],
      "source": [
        "ph['avi']=123345  # adding new value\n",
        "print(ph)"
      ]
    },
    {
      "cell_type": "code",
      "execution_count": null,
      "metadata": {
        "id": "BQy-EjGgIl9n",
        "outputId": "07d34c78-47bc-4159-de94-ce4edac8dad0"
      },
      "outputs": [
        {
          "name": "stdout",
          "output_type": "stream",
          "text": [
            "{'aman': 555, 'anu': 22334, 'iop': 678, 'avi': 123345}\n"
          ]
        },
        {
          "data": {
            "text/plain": [
              "4"
            ]
          },
          "execution_count": 11,
          "metadata": {},
          "output_type": "execute_result"
        }
      ],
      "source": [
        "ph['anu']=22334 #updating existing value\n",
        "print(ph)\n",
        "ph.values()\n",
        "ph.keys()\n",
        "len(ph)"
      ]
    },
    {
      "cell_type": "code",
      "execution_count": null,
      "metadata": {
        "id": "FApOUonmIl9o",
        "outputId": "abfa1de4-65cd-4d6a-ae46-ecc3fd952065"
      },
      "outputs": [
        {
          "name": "stdout",
          "output_type": "stream",
          "text": [
            "{}\n"
          ]
        }
      ],
      "source": [
        "#del ph['anu']  # ph.pop(\"anu\") for deleting entry\n",
        "#print(ph)\n",
        "\n",
        "#len(ph)\n",
        "\n",
        "\n",
        "ph.clear()  # for clearing all entries\n",
        "print(ph)\n"
      ]
    },
    {
      "cell_type": "code",
      "execution_count": null,
      "metadata": {
        "id": "fEex2WFzIl9p",
        "outputId": "1685e1f5-8a3d-4a41-a3d7-966e0c80b851"
      },
      "outputs": [
        {
          "name": "stdout",
          "output_type": "stream",
          "text": [
            "{'cat': 'black', 'dog': 'white'}\n",
            "{'dog': 'animal', 'Tiger': 'Animal'}\n",
            "{'cat': 'black', 'dog': 'animal', 'Tiger': 'Animal'}\n",
            "{'dog': 'animal', 'Tiger': 'Animal'}\n"
          ]
        }
      ],
      "source": [
        "#Lets work on 2 dictionaries\n",
        "\n",
        "# First dictionary. \n",
        "pets1 = {\"cat\": \"black\", \"dog\": \"white\"} \n",
        "\n",
        "# Second dictionary. \n",
        "pets2 = {\"dog\": \"animal\", \"Tiger\": \"Animal\"} \n",
        "\n",
        "\n",
        "\n",
        "#pets1.update(pets2)   # Update first dictionary with second. print(pets1)\n",
        "print(pets1)\n",
        "print(pets2)\n",
        "\n",
        "\n",
        "pets1.update(pets2)   # Update first dictionary with second. print(pets1)\n",
        "print(pets1)\n",
        "print(pets2)\n"
      ]
    },
    {
      "cell_type": "code",
      "execution_count": null,
      "metadata": {
        "id": "ktIIkST8Il9r",
        "outputId": "49c4f6c8-3972-4a25-a997-37525e1043f0"
      },
      "outputs": [
        {
          "data": {
            "text/plain": [
              "dict_values(['black', 'animal', 'Animal'])"
            ]
          },
          "execution_count": 8,
          "metadata": {},
          "output_type": "execute_result"
        }
      ],
      "source": [
        "pets1.values()\n",
        "#pets1.keys()"
      ]
    }
  ],
  "metadata": {
    "kernelspec": {
      "display_name": "Python 3",
      "language": "python",
      "name": "python3"
    },
    "language_info": {
      "codemirror_mode": {
        "name": "ipython",
        "version": 3
      },
      "file_extension": ".py",
      "mimetype": "text/x-python",
      "name": "python",
      "nbconvert_exporter": "python",
      "pygments_lexer": "ipython3",
      "version": "3.6.3"
    },
    "colab": {
      "name": "dictionary.ipynb",
      "provenance": [],
      "include_colab_link": true
    }
  },
  "nbformat": 4,
  "nbformat_minor": 0
}