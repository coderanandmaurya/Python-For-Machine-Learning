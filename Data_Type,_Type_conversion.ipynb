{
  "nbformat": 4,
  "nbformat_minor": 0,
  "metadata": {
    "colab": {
      "name": "Data Type, Type conversion.ipynb",
      "provenance": [],
      "collapsed_sections": [],
      "authorship_tag": "ABX9TyNzgGFqjxIgJUbqRB1DFnAF",
      "include_colab_link": true
    },
    "kernelspec": {
      "name": "python3",
      "display_name": "Python 3"
    },
    "language_info": {
      "name": "python"
    }
  },
  "cells": [
    {
      "cell_type": "markdown",
      "metadata": {
        "id": "view-in-github",
        "colab_type": "text"
      },
      "source": [
        "<a href=\"https://colab.research.google.com/github/coderanandmaurya/Python-For-Machine-Learning/blob/main/Data_Type%2C_Type_conversion.ipynb\" target=\"_parent\"><img src=\"https://colab.research.google.com/assets/colab-badge.svg\" alt=\"Open In Colab\"/></a>"
      ]
    },
    {
      "cell_type": "markdown",
      "source": [
        "# **Data Type**\n",
        "Variables can store data of different types, and different types can do different things.\n",
        "- **Basic Data type** :\n",
        "  - Python Numbers: int, float, comlex\n",
        "  - Boolean and string\n",
        "- **Container type** - list, tuple, set, dictionary\n",
        "- **User-defined type** - Class"
      ],
      "metadata": {
        "id": "rVJqx9iqeOxZ"
      }
    },
    {
      "cell_type": "markdown",
      "source": [
        "## **Basic Data Type**"
      ],
      "metadata": {
        "id": "Fu5hSR24fuld"
      }
    },
    {
      "cell_type": "code",
      "execution_count": 2,
      "metadata": {
        "colab": {
          "base_uri": "https://localhost:8080/"
        },
        "id": "ByaVxvfNd0MI",
        "outputId": "5c44335a-90d5-4d24-83a9-78503cd6c787"
      },
      "outputs": [
        {
          "output_type": "stream",
          "name": "stdout",
          "text": [
            "<class 'int'>\n",
            "inf\n",
            "<class 'float'>\n",
            "inf\n",
            "<class 'complex'>\n",
            "(1+2j)\n",
            "False\n",
            "<class 'bool'>\n",
            "Monkey\n",
            "Monkey\n",
            "<class 'str'>\n"
          ]
        }
      ],
      "source": [
        "#integer\n",
        "print(type(4))\n",
        "print(1e309) #1e309=1×10^309\n",
        "\n",
        "#float\n",
        "print(type(1.4))\n",
        "print(1.7e309)\n",
        "\n",
        "#comlex\n",
        "print(type(1+2j))\n",
        "\n",
        "#boolean\n",
        "print(False)\n",
        "print(type(True))"
      ]
    },
    {
      "cell_type": "code",
      "source": [
        "#string\n",
        "print(\"Monkey\")\n",
        "print('Monkey')\n",
        "print(type(\"\"\"Monkey\"\"\"))\n",
        "\n",
        "name=\"monkey\"\n",
        "print(name)\n",
        "\n",
        "#Capitalize\n",
        "name.capitalize()\n",
        "print(name)\n",
        "# All string methods returns new values. They do not change the original string.\n",
        "name=name.capitalize()\n",
        "print(name)\n",
        "\n",
        "# islower check lowercase gie true/false\n",
        "print(name.islower())\n",
        "\n",
        "# lowercase\n",
        "name=name.lower()\n",
        "print(name)\n",
        "\n",
        "# Uppercase\n",
        "name=name.upper()\n",
        "print(name)\n",
        "\n",
        "#length\n",
        "print(len(name))\n",
        "\n",
        "# print one by one character\n",
        "for x in name:\n",
        "  print(x)"
      ],
      "metadata": {
        "id": "56Ut8rfL09kh",
        "outputId": "e101241f-9558-4a11-e67c-a71bb3f12b22",
        "colab": {
          "base_uri": "https://localhost:8080/"
        }
      },
      "execution_count": 66,
      "outputs": [
        {
          "output_type": "stream",
          "name": "stdout",
          "text": [
            "Monkey\n",
            "Monkey\n",
            "<class 'str'>\n",
            "monkey\n",
            "monkey\n",
            "Monkey\n",
            "False\n",
            "monkey\n",
            "MONKEY\n",
            "6\n",
            "M\n",
            "O\n",
            "N\n",
            "K\n",
            "E\n",
            "Y\n"
          ]
        }
      ]
    },
    {
      "cell_type": "markdown",
      "source": [
        "## **Container Type**: \n",
        "1. **List** \n",
        "  - Lists are created using square brackets [] \n",
        "  - List items are ordered, changeable, and allow duplicate values\n",
        "  - List items are indexed, the first item has index [0], the second item has index [1] etc.\n",
        "\n",
        "- **Ordered**: When we say that lists are ordered, it means that the items have a defined order, and that order will not change.If you add new items to a list, the new items will be placed at the end of the list.\n",
        "\n",
        "- **Changeable**: The list is changeable, meaning that we can change, add, and remove items in a list after it has been created.\n",
        "\n",
        "- **Allow Duplicates** : Since lists are indexed, lists can have items with the same value: fruits = [\"apple\", \"banana\", \"cherry\", \"apple\", \"cherry\"]"
      ],
      "metadata": {
        "id": "E0EFbxC-Vz86"
      }
    },
    {
      "cell_type": "code",
      "source": [
        "# Empty List\n",
        "A=[]\n",
        "print(type(A))\n",
        "\n",
        "# A list can contain different data types:\n",
        "fruits_name_kg = [\"apple\", 1, 1.3]\n",
        "print(fruits_name_kg)\n",
        "print(type(fruits_name_kg))\n",
        "\n",
        "# Ordered\n",
        "fruits = [\"apple\", \"banana\", \"cherry\"]\n",
        "print(fruits)\n",
        "print(type(fruits))\n",
        "\n",
        "# Changable\n",
        "fruits[1]=[\"mango\"]\n",
        "print(fruits)\n",
        "print(type(fruits))\n",
        "\n",
        "# Duplicates are Allowed\n",
        "Fruit = [\"apple\", \"banana\", \"cherry\", \"apple\"]\n",
        "print(Fruit)\n",
        "print(type(Fruit))\n",
        "\n",
        "# List method\n",
        "# type conversion\n",
        "id=(1,2,3)\n",
        "print(id)\n",
        "id=list(id)\n",
        "print(id)\n",
        "\n",
        "# Indexing\n",
        "print(id)\n",
        "print(id[2])\n",
        "\n",
        "# Slicing\n",
        "print(id)\n",
        "print(id[0:2])\n",
        "print(id[:-1])\n",
        "\n",
        "#Append\n",
        "id.append(3)\n",
        "print(id)\n",
        "\n",
        "#Insert (index)\n",
        "id.insert(4,5)\n",
        "print(id)\n",
        "\n",
        "# Update\n",
        "id[3]=4\n",
        "print(id)\n",
        "\n",
        "# extend\n",
        "id2=[6,7]\n",
        "id.extend(id2)\n",
        "print(id)\n",
        "\n",
        "# length\n",
        "print(len(id))\n",
        "\n",
        "# pop (index)\n",
        "id.pop(6)\n",
        "print(id)\n",
        "\n",
        "# remove\n",
        "id.remove(6)\n",
        "print(id)"
      ],
      "metadata": {
        "colab": {
          "base_uri": "https://localhost:8080/"
        },
        "id": "N5tyeID4f8az",
        "outputId": "66cfdaa4-bfc0-482a-8bc7-8cbf8f5072ac"
      },
      "execution_count": 54,
      "outputs": [
        {
          "output_type": "stream",
          "name": "stdout",
          "text": [
            "<class 'list'>\n",
            "['apple', 1, 1.3]\n",
            "<class 'list'>\n",
            "['apple', 'banana', 'cherry']\n",
            "<class 'list'>\n",
            "['apple', ['mango'], 'cherry']\n",
            "<class 'list'>\n",
            "['apple', 'banana', 'cherry', 'apple']\n",
            "<class 'list'>\n",
            "(1, 2, 3)\n",
            "[1, 2, 3]\n",
            "[1, 2, 3]\n",
            "3\n",
            "[1, 2, 3]\n",
            "[1, 2]\n",
            "[1, 2]\n",
            "[1, 2, 3, 3]\n",
            "[1, 2, 3, 3, 5]\n",
            "[1, 2, 3, 4, 5]\n",
            "[1, 2, 3, 4, 5, 6, 7]\n",
            "7\n",
            "[1, 2, 3, 4, 5, 6]\n",
            "[1, 2, 3, 4, 5]\n"
          ]
        }
      ]
    },
    {
      "cell_type": "markdown",
      "source": [
        "\n",
        "2. Tuple :\n",
        "  - Tuples are written with round brackets.\n",
        "  - Tuple items are ordered, unchangeable, and allow duplicate values.\n",
        "  - Tuple items are indexed, the first item has index [0], the second item has index [1] etc.\n"
      ],
      "metadata": {
        "id": "Y-lcqTwHY6Eg"
      }
    },
    {
      "cell_type": "code",
      "source": [
        "# Empty table\n",
        "B= ()\n",
        "print(type(B))\n",
        "\n",
        "data=(1,2,3)\n",
        "print((type(data)))\n",
        "\n",
        "# A tuple can contain different data types\n",
        "MTuple=(\"hello\",1,1.3,True,1+3j)\n",
        "print(MTuple)\n",
        "print(type(MTuple))\n",
        "\n",
        "# Ordered\n",
        "fruits = (\"apple\", \"banana\", \"cherry\")\n",
        "print(fruits)\n",
        "print(type(fruits))\n",
        "\n",
        "# Duplicates are Allowed\n",
        "Fruit = (\"apple\", \"banana\", \"cherry\", \"apple\")\n",
        "print(Fruit)\n",
        "print(type(Fruit))"
      ],
      "metadata": {
        "id": "NksTZM-JY-fa",
        "outputId": "0511d457-f224-43ae-de91-7dc70a798398",
        "colab": {
          "base_uri": "https://localhost:8080/"
        }
      },
      "execution_count": 17,
      "outputs": [
        {
          "output_type": "stream",
          "name": "stdout",
          "text": [
            "<class 'tuple'>\n",
            "<class 'tuple'>\n",
            "('hello', 1, 1.3, True, (1+3j))\n",
            "<class 'tuple'>\n",
            "('apple', 'banana', 'cherry')\n",
            "<class 'tuple'>\n",
            "('apple', 'banana', 'cherry', 'apple')\n",
            "<class 'tuple'>\n"
          ]
        }
      ]
    },
    {
      "cell_type": "markdown",
      "source": [
        "3. Set\n",
        "  - Sets are written with curly brackets.\n",
        "  - Set items are unordered, unchangeable, and do not allow duplicate values.\n",
        "  - Once a set is created, you cannot change its items, but you can remove items and add new items.\n",
        "  - Sets are unordered, so you cannot be sure in which order the items will appear.\n"
      ],
      "metadata": {
        "id": "qydzyKrRY-tS"
      }
    },
    {
      "cell_type": "code",
      "source": [
        "# Empty set\n",
        "ES={}\n",
        "print(type(ES))\n",
        "\n",
        "# A Set can contain different data types\n",
        "number={1, 2, 1,\"hello\"}\n",
        "print(number)\n",
        "print(type(number))\n",
        "\n",
        "# Sets are unordered\n",
        "Fruit = {\"apple\", \"banana\", \"cherry\"}\n",
        "print(Fruit)\n",
        "print(type(Fruit))\n",
        "\n",
        "# Duplicates Not Allowed\n",
        "Fruit = {\"apple\", \"banana\", \"cherry\", \"apple\"}\n",
        "print(Fruit)\n",
        "print(type(Fruit))\n",
        "\n",
        "# add\n",
        "Fruit.add(\"mango\")\n",
        "print(Fruit)"
      ],
      "metadata": {
        "id": "jWlrC8XxZALL",
        "outputId": "a033455c-bade-4a1d-a2b1-aae3be73c7ce",
        "colab": {
          "base_uri": "https://localhost:8080/"
        }
      },
      "execution_count": 67,
      "outputs": [
        {
          "output_type": "stream",
          "name": "stdout",
          "text": [
            "<class 'dict'>\n",
            "{1, 2, 'hello'}\n",
            "<class 'set'>\n",
            "{'cherry', 'apple', 'banana'}\n",
            "<class 'set'>\n",
            "{'cherry', 'apple', 'banana'}\n",
            "<class 'set'>\n",
            "{'cherry', 'mango', 'apple', 'banana'}\n"
          ]
        }
      ]
    },
    {
      "cell_type": "markdown",
      "source": [
        "4. Dictionary\n",
        "  - Dictionaries are written with curly brackets, and have keys and values\n",
        "  - As of Python version 3.7, dictionaries are ordered. In Python 3.6 and earlier, dictionaries are unordered.\n",
        "  - Dictionary items are ordered, changeable, and does not allow duplicates"
      ],
      "metadata": {
        "id": "LIi8c2JeZAWR"
      }
    },
    {
      "cell_type": "code",
      "source": [
        "# Empty Dictionary\n",
        "ED={}\n",
        "print(type(ED))\n",
        "\n",
        "\n",
        "# A Dictionary can contain different data types\n",
        "Zoo={\n",
        "    \"Name\": \"luffy\",\n",
        "    \"species\" : \"Monkey\",\n",
        "    \"Tail\": True,\n",
        "    \"id\":1,\n",
        "    \"Eat\":[\"banana\",\"apple\",\"grapes\"]\n",
        "}\n",
        "print(Zoo)\n",
        "print(type(Zoo))\n",
        "\n",
        "# Duplicates Not Allowed (Duplicate values will overwrite existing values)\n",
        "Zoo={\n",
        "    \"Name\": \"luffy\",\n",
        "    \"Name\": \"garp\",\n",
        "    \"species\" : \"Monkey\",\n",
        "    \"Tail\": True,\n",
        "    \"id\":1,\n",
        "    \"Eat\":[\"banana\",\"apple\",\"grapes\"]\n",
        "}\n",
        "print(Zoo)\n",
        "print(type(Zoo))\n",
        "\n",
        "# Changeable\n",
        "Zoo.update({\"Name\":\"Dragon\"})\n",
        "print(Zoo)\n",
        "Zoo.update(Name=\"pirate\")\n",
        "print(Zoo)"
      ],
      "metadata": {
        "id": "niIHi1O9ixud",
        "outputId": "09e7cb22-f7a5-45e3-ba6b-50ce5fb162ad",
        "colab": {
          "base_uri": "https://localhost:8080/"
        }
      },
      "execution_count": 28,
      "outputs": [
        {
          "output_type": "stream",
          "name": "stdout",
          "text": [
            "<class 'dict'>\n",
            "{'Name': 'luffy', 'species': 'Monkey', 'Tail': True, 'id': 1, 'Eat': ['banana', 'apple', 'grapes']}\n",
            "<class 'dict'>\n",
            "{'Name': 'garp', 'species': 'Monkey', 'Tail': True, 'id': 1, 'Eat': ['banana', 'apple', 'grapes']}\n",
            "<class 'dict'>\n",
            "{'Name': 'Dragon', 'species': 'Monkey', 'Tail': True, 'id': 1, 'Eat': ['banana', 'apple', 'grapes']}\n",
            "{'Name': 'pirate', 'species': 'Monkey', 'Tail': True, 'id': 1, 'Eat': ['banana', 'apple', 'grapes']}\n"
          ]
        }
      ]
    },
    {
      "cell_type": "markdown",
      "source": [
        "# **Mutable vs Immutable**\n",
        "mutable objects can change their state or contents and immutable objects can’t change their state or content.\n",
        "\n",
        "- Immutable Objects : These are of in-built types like int, float, bool, string, unicode, tuple\n",
        "- Mutable Objects : These are of type list, dict, set . Custom classes are generally mutable."
      ],
      "metadata": {
        "id": "HFvqw84-nzdK"
      }
    },
    {
      "cell_type": "code",
      "source": [
        "# tuples are immutable\n",
        "tuple1 = (0, 1, 2, 3)\n",
        "#tuple1[0] = 4\n",
        "print(tuple1)"
      ],
      "metadata": {
        "id": "610FSJVLnR7n"
      },
      "execution_count": null,
      "outputs": []
    },
    {
      "cell_type": "code",
      "source": [
        "# strings are immutable\n",
        "message = \"Welcome to GeeksforGeeks\"\n",
        "#message[0] = 'p'\n",
        "print(message)\n"
      ],
      "metadata": {
        "id": "_6cTlAxqoW31"
      },
      "execution_count": null,
      "outputs": []
    },
    {
      "cell_type": "code",
      "source": [
        "# lists are mutable\n",
        "color = [\"red\", \"blue\", \"green\"]\n",
        "print(color)\n",
        "\n",
        "color[0] = \"pink\"\n",
        "color[-1] = \"orange\"\n",
        "print(color)"
      ],
      "metadata": {
        "id": "pCB1hbimoFJs"
      },
      "execution_count": null,
      "outputs": []
    },
    {
      "cell_type": "markdown",
      "source": [
        "<figure>\n",
        "<center>\n",
        "<img src='https://qphs.fs.quoracdn.net/main-qimg-4129c7c9ff375c15d8b45504ca4b0208-lq' width =\"500\"/>\n",
        "<figcaption>Data Type</figcaption></center>\n",
        "</figure>"
      ],
      "metadata": {
        "id": "JuSChpeNi6zt"
      }
    },
    {
      "cell_type": "markdown",
      "source": [
        "# Class :\n",
        "To create a class, use the keyword class:"
      ],
      "metadata": {
        "id": "GGMu7mPDqqIu"
      }
    },
    {
      "cell_type": "code",
      "source": [
        "# Create a class named MyClass, with a property named x:\n",
        "class MyClass:\n",
        "  x = 5\n",
        "\n",
        "# Create an object named p1, and print the value of x:\n",
        "p1 = MyClass()\n",
        "print(p1.x)\n",
        "\n"
      ],
      "metadata": {
        "id": "hXGCbdCvqzjw",
        "outputId": "f048907b-628c-4315-8cd1-b4355f2f9ebb",
        "colab": {
          "base_uri": "https://localhost:8080/"
        }
      },
      "execution_count": 29,
      "outputs": [
        {
          "output_type": "stream",
          "name": "stdout",
          "text": [
            "5\n"
          ]
        }
      ]
    },
    {
      "cell_type": "markdown",
      "source": [
        "## The __init__() Function\n",
        "- The __init__() function is called automatically every time the class is being used to create a new object."
      ],
      "metadata": {
        "id": "Vt1Lm_MjriFd"
      }
    },
    {
      "cell_type": "code",
      "source": [
        "class Person:\n",
        "  def __init__(self, name, age):\n",
        "    self.name = name\n",
        "    self.age = age\n",
        "\n",
        "p1 = Person(\"John\", 36)\n",
        "\n",
        "print(p1.name)\n",
        "print(p1.age)\n",
        "\n",
        "class Person:\n",
        "  def __init__(self, name, age):\n",
        "    self.name = name\n",
        "    self.age = age\n",
        "\n",
        "  def myfunc(self):\n",
        "    print(\"Hello my name is \" + self.name)\n",
        "\n",
        "p1 = Person(\"John\", 36)\n",
        "p1.myfunc()"
      ],
      "metadata": {
        "id": "mflZzQTQq5um",
        "outputId": "2df0446f-382a-4ba9-deed-cba4c9edd85f",
        "colab": {
          "base_uri": "https://localhost:8080/"
        }
      },
      "execution_count": 30,
      "outputs": [
        {
          "output_type": "stream",
          "name": "stdout",
          "text": [
            "John\n",
            "36\n",
            "Hello my name is John\n"
          ]
        }
      ]
    }
  ]
}