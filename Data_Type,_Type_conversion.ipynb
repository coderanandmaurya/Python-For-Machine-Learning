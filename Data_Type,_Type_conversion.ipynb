{
  "nbformat": 4,
  "nbformat_minor": 0,
  "metadata": {
    "colab": {
      "name": "Data Type, Type conversion.ipynb",
      "provenance": [],
      "collapsed_sections": [],
      "authorship_tag": "ABX9TyM+KVttFZos/gU2fSDzZYme",
      "include_colab_link": true
    },
    "kernelspec": {
      "name": "python3",
      "display_name": "Python 3"
    },
    "language_info": {
      "name": "python"
    }
  },
  "cells": [
    {
      "cell_type": "markdown",
      "metadata": {
        "id": "view-in-github",
        "colab_type": "text"
      },
      "source": [
        "<a href=\"https://colab.research.google.com/github/coderanandmaurya/Python-For-Machine-Learning/blob/main/Data_Type%2C_Type_conversion.ipynb\" target=\"_parent\"><img src=\"https://colab.research.google.com/assets/colab-badge.svg\" alt=\"Open In Colab\"/></a>"
      ]
    },
    {
      "cell_type": "markdown",
      "source": [
        "# Data Type\n",
        "- Variables can store data of different types, and different types can do different things.\n",
        "\n",
        "- Python has the following data types built-in by default, in these categories:\n",
        "  - basic type\n",
        "    - Python Numbers: int,float,comlex\n",
        "    - boolean and string\n",
        "  - container type - list, tuple, set, dictionary\n",
        "  - user-defined type - Class"
      ],
      "metadata": {
        "id": "rVJqx9iqeOxZ"
      }
    },
    {
      "cell_type": "markdown",
      "source": [
        "<figure>\n",
        "<center>\n",
        "<img src='https://intellipaat.com/mediaFiles/2019/02/pyhon3.png' />\n",
        "<figcaption>Data Type</figcaption></center>\n",
        "</figure>"
      ],
      "metadata": {
        "id": "JuSChpeNi6zt"
      }
    },
    {
      "cell_type": "markdown",
      "source": [
        "## Basic Type"
      ],
      "metadata": {
        "id": "Fu5hSR24fuld"
      }
    },
    {
      "cell_type": "code",
      "execution_count": 5,
      "metadata": {
        "colab": {
          "base_uri": "https://localhost:8080/"
        },
        "id": "ByaVxvfNd0MI",
        "outputId": "49766236-df4d-474e-fa16-673f6dea1b91"
      },
      "outputs": [
        {
          "output_type": "stream",
          "name": "stdout",
          "text": [
            "4\n",
            "inf\n",
            "<class 'int'>\n",
            "1.4\n",
            "inf\n",
            "<class 'float'>\n"
          ]
        }
      ],
      "source": [
        "#integer\n",
        "print(4)\n",
        "print(1e309) #1e309=1×10^309\n",
        "\n",
        "A=4\n",
        "print(type(A))\n",
        "\n",
        "#float\n",
        "print(1.4)\n",
        "print(1.7e309)\n",
        "\n",
        "B=1.2\n",
        "print(type(B))"
      ]
    },
    {
      "cell_type": "code",
      "source": [
        "#comlex\n",
        "print(1+2j)\n",
        "\n",
        "C=1+25j\n",
        "print(type(C))\n",
        "\n",
        "#boolean\n",
        "print(True)\n",
        "print(False)\n",
        "D=True\n",
        "print(type(D))\n",
        "\n",
        "#string\n",
        "print(\"Monkey\")\n",
        "print('Monkey')\n",
        "print(\"\"\"Monkey\"\"\")\n",
        "\n",
        "Name=\"Monkey\"\n",
        "print(type(Name))"
      ],
      "metadata": {
        "colab": {
          "base_uri": "https://localhost:8080/"
        },
        "id": "N5tyeID4f8az",
        "outputId": "89af7b47-632e-4db6-e78f-195a48180b12"
      },
      "execution_count": 6,
      "outputs": [
        {
          "output_type": "stream",
          "name": "stdout",
          "text": [
            "(1+2j)\n",
            "<class 'complex'>\n",
            "True\n",
            "False\n",
            "<class 'bool'>\n",
            "Monkey\n",
            "Monkey\n",
            "Monkey\n",
            "<class 'str'>\n"
          ]
        }
      ]
    },
    {
      "cell_type": "markdown",
      "source": [
        "## Container Type"
      ],
      "metadata": {
        "id": "q-zzbcZqiRDf"
      }
    },
    {
      "cell_type": "code",
      "source": [
        ""
      ],
      "metadata": {
        "id": "sgLjCZQYiVG0"
      },
      "execution_count": null,
      "outputs": []
    }
  ]
}