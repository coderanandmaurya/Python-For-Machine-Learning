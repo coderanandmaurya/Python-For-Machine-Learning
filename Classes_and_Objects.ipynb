{
  "nbformat": 4,
  "nbformat_minor": 0,
  "metadata": {
    "colab": {
      "name": "Classes and Objects.ipynb",
      "provenance": [],
      "collapsed_sections": [],
      "authorship_tag": "ABX9TyP/WzOa3m6RB5ld+vHQkmwZ",
      "include_colab_link": true
    },
    "kernelspec": {
      "name": "python3",
      "display_name": "Python 3"
    },
    "language_info": {
      "name": "python"
    }
  },
  "cells": [
    {
      "cell_type": "markdown",
      "metadata": {
        "id": "view-in-github",
        "colab_type": "text"
      },
      "source": [
        "<a href=\"https://colab.research.google.com/github/coderanandmaurya/Python-For-Machine-Learning/blob/main/Classes_and_Objects.ipynb\" target=\"_parent\"><img src=\"https://colab.research.google.com/assets/colab-badge.svg\" alt=\"Open In Colab\"/></a>"
      ]
    },
    {
      "cell_type": "markdown",
      "source": [
        "- **Class** − A user-defined prototype for an object that defines a set of attributes that characterize any object of the class. The attributes are data members (class variables and instance variables) and methods, accessed via dot notation.\n",
        "\n",
        "- **Class variable** − A variable that is shared by all instances of a class. Class variables are defined within a class but outside any of the class's methods. Class variables are not used as frequently as instance variables are.\n",
        "\n",
        "- **Data member** − A class variable or instance variable that holds data associated with a class and its objects.\n",
        "\n",
        "- **Function overloading** − The assignment of more than one behavior to a particular function. The operation performed varies by the types of objects or arguments involved.\n",
        "\n",
        "- **Instance variable** − A variable that is defined inside a method and belongs only to the current instance of a class.\n",
        "\n",
        "- **Inheritance** − The transfer of the characteristics of a class to other classes that are derived from it.\n",
        "\n",
        "- **Instance** − An individual object of a certain class. An object obj that belongs to a class Circle, for example, is an instance of the class Circle.\n",
        "\n",
        "- **Instantiation** − The creation of an instance of a class.\n",
        "\n",
        "- **Method** − A special kind of function that is defined in a class definition.\n",
        "\n",
        "- **Object** − A unique instance of a data structure that's defined by its class. An object comprises both data members (class variables and instance variables) and methods.\n",
        "\n",
        "- **Operator overloading** − The assignment of more than one function to a particular operator."
      ],
      "metadata": {
        "id": "lPi6zzu53zgv"
      }
    },
    {
      "cell_type": "markdown",
      "source": [
        "## **Creating Classes**\n",
        "- Classes are created by keyword class.\n",
        "- Attributes are the variables that belong to a class.\n",
        "- Attributes are always public and can be accessed using the dot (.) operator. Eg.: Myclass.Myattribute\n",
        "-----------------\n",
        "class ClassName:\n",
        "    # Statement-1\n",
        "    .\n",
        "    .\n",
        "    .\n",
        "    # Statement-N\n",
        "------------------"
      ],
      "metadata": {
        "id": "cTFG-Vj9AUFo"
      }
    },
    {
      "cell_type": "code",
      "execution_count": 1,
      "metadata": {
        "id": "SX5835xz3x1H"
      },
      "outputs": [],
      "source": [
        "# Python3 program to\n",
        "# demonstrate defining\n",
        "# a class\n",
        "\n",
        "class Dog:\n",
        "\tpass\n"
      ]
    },
    {
      "cell_type": "markdown",
      "source": [
        "## **Class Objects**\n",
        "- State: It is represented by the attributes of an object. It also reflects the properties of an object.\n",
        "\n",
        "- Behavior: It is represented by the methods of an object. It also reflects the response of an object to other objects.\n",
        "\n",
        "- Identity: It gives a unique name to an object and enables one object to interact with other objects.\n",
        "\n",
        "## **Declaring Objects** (Also called instantiating a class)\n",
        "- When an object of a class is created, the class is said to be instantiated. All the instances share the attributes and the behavior of the class. But the values of those attributes, i.e. the state are unique for each object. A single class may have any number of instances"
      ],
      "metadata": {
        "id": "1MdgeUnDDkUc"
      }
    },
    {
      "cell_type": "code",
      "source": [
        "# Python3 program to\n",
        "# demonstrate instantiating\n",
        "# a class\n",
        "\n",
        "\n",
        "class Dog:\n",
        "\t\n",
        "\t# A simple class\n",
        "\t# attribute\n",
        "\tattr1 = \"mammal\"\n",
        "\tattr2 = \"dog\"\n",
        "\n",
        "\t# A sample method\n",
        "\tdef fun(self):\n",
        "\t\tprint(\"I'm a\", self.attr1)\n",
        "\t\tprint(\"I'm a\", self.attr2)\n",
        "\n",
        "# Driver code\n",
        "# Object instantiation\n",
        "Rodger = Dog()\n",
        "\n",
        "# Accessing class attributes\n",
        "# and method through objects\n",
        "print(Rodger.attr1)\n",
        "Rodger.fun()\n"
      ],
      "metadata": {
        "colab": {
          "base_uri": "https://localhost:8080/"
        },
        "id": "5HlFe3e8E69o",
        "outputId": "1ff8f02d-1488-4b31-8c85-62d64fc391c1"
      },
      "execution_count": 2,
      "outputs": [
        {
          "output_type": "stream",
          "name": "stdout",
          "text": [
            "mammal\n",
            "I'm a mammal\n",
            "I'm a dog\n"
          ]
        }
      ]
    },
    {
      "cell_type": "markdown",
      "source": [
        "## **The self**\n",
        "- Class methods must have an extra first parameter in the method definition. We do not give a value for this parameter when we call the method, Python provides it.\n",
        "\n",
        "- If we have a method that takes no arguments, then we still have to have one argument.\n",
        "\n",
        "- This is similar to this pointer in C++ and this reference in Java."
      ],
      "metadata": {
        "id": "2Tx-jjhyGAjt"
      }
    },
    {
      "cell_type": "markdown",
      "source": [
        "## **__init__ method**\n",
        "- The __init__ method is similar to constructors in C++ and Java. Constructors are used to initializing the object’s state. Like methods, a constructor also contains a collection of statements(i.e. instructions) that are executed at the time of Object creation. It runs as soon as an object of a class is instantiated. The method is useful to do any initialization you want to do with your object.\n",
        "\n",
        "## **Class and Instance Variables**\n",
        "- Instance variables are for data, unique to each instance and class variables are for attributes and methods shared by all instances of the class. Instance variables are variables whose value is assigned inside a constructor or method with self whereas class variables are variables whose value is assigned in the class.\n"
      ],
      "metadata": {
        "id": "f7niIiPwIMHr"
      }
    },
    {
      "cell_type": "code",
      "source": [
        "# Python3 program to show that the variables with a value\n",
        "# assigned in the class declaration, are class variables and\n",
        "# variables inside methods and constructors are instance\n",
        "# variables.\n",
        "\t\n",
        "# Class for Dog\n",
        "class Dog:\n",
        "\n",
        "\t# Class Variable\n",
        "\tanimal = 'dog'\t\t\t\n",
        "\n",
        "\t# The init method or constructor\n",
        "\tdef __init__(self, breed, color):\n",
        "\t\n",
        "\t\t# Instance Variable\t\n",
        "\t\tself.breed = breed \n",
        "\t\tself.color = color\t\n",
        "\t\n",
        "# Objects of Dog class\n",
        "Rodger = Dog(\"Pug\", \"brown\")\n",
        "Buzo = Dog(\"Bulldog\", \"black\")\n",
        "\n",
        "print('Rodger details:')\n",
        "print('Rodger is a', Rodger.animal)\n",
        "print('Breed: ', Rodger.breed)\n",
        "print('Color: ', Rodger.color)\n",
        "\n",
        "print('\\nBuzo details:')\n",
        "print('Buzo is a', Buzo.animal)\n",
        "print('Breed: ', Buzo.breed)\n",
        "print('Color: ', Buzo.color)\n",
        "\n",
        "# Class variables can be accessed using class\n",
        "# name also\n",
        "print(\"\\nAccessing class variable using class name\")\n",
        "print(Dog.animal)\t\n"
      ],
      "metadata": {
        "colab": {
          "base_uri": "https://localhost:8080/"
        },
        "id": "u5bQky4tIi7I",
        "outputId": "81b01226-c6ae-4dfb-b340-fbfdf3b3a126"
      },
      "execution_count": 3,
      "outputs": [
        {
          "output_type": "stream",
          "name": "stdout",
          "text": [
            "Rodger details:\n",
            "Rodger is a dog\n",
            "Breed:  Pug\n",
            "Color:  brown\n",
            "\n",
            "Buzo details:\n",
            "Buzo is a dog\n",
            "Breed:  Bulldog\n",
            "Color:  black\n",
            "\n",
            "Accessing class variable using class name\n",
            "dog\n"
          ]
        }
      ]
    },
    {
      "cell_type": "code",
      "source": [
        "# Python3 program to show that we can create\n",
        "# instance variables inside methods\n",
        "\t\n",
        "# Class for Dog\n",
        "class Dog:\n",
        "\t\n",
        "\t# Class Variable\n",
        "\tanimal = 'dog'\t\n",
        "\t\n",
        "\t# The init method or constructor\n",
        "\tdef __init__(self, breed):\n",
        "\t\t\n",
        "\t\t# Instance Variable\n",
        "\t\tself.breed = breed\t\t\t\n",
        "\n",
        "\t# Adds an instance variable\n",
        "\tdef setColor(self, color):\n",
        "\t\tself.color = color\n",
        "\t\n",
        "\t# Retrieves instance variable\t\n",
        "\tdef getColor(self):\t\n",
        "\t\treturn self.color\n",
        "\n",
        "# Driver Code\n",
        "Rodger = Dog(\"pug\")\n",
        "Rodger.setColor(\"brown\")\n",
        "print(Rodger.getColor())"
      ],
      "metadata": {
        "colab": {
          "base_uri": "https://localhost:8080/"
        },
        "id": "l4fJ293MIobw",
        "outputId": "8da7c665-9f97-4e46-bf60-586fd09f561e"
      },
      "execution_count": 8,
      "outputs": [
        {
          "output_type": "stream",
          "name": "stdout",
          "text": [
            "brown\n"
          ]
        }
      ]
    }
  ]
}