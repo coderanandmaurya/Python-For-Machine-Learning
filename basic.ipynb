{
  "nbformat": 4,
  "nbformat_minor": 0,
  "metadata": {
    "colab": {
      "name": "basic.ipynb",
      "provenance": [],
      "authorship_tag": "ABX9TyMjyWjA6AyT9eTpsjqVPjkO",
      "include_colab_link": true
    },
    "kernelspec": {
      "name": "python3",
      "display_name": "Python 3"
    },
    "language_info": {
      "name": "python"
    }
  },
  "cells": [
    {
      "cell_type": "markdown",
      "metadata": {
        "id": "view-in-github",
        "colab_type": "text"
      },
      "source": [
        "<a href=\"https://colab.research.google.com/github/coderanandmaurya/Python-For-Machine-Learning/blob/main/basic.ipynb\" target=\"_parent\"><img src=\"https://colab.research.google.com/assets/colab-badge.svg\" alt=\"Open In Colab\"/></a>"
      ]
    },
    {
      "cell_type": "markdown",
      "source": [
        "## Print"
      ],
      "metadata": {
        "id": "nKHSwtic-cM5"
      }
    },
    {
      "cell_type": "code",
      "execution_count": null,
      "metadata": {
        "colab": {
          "base_uri": "https://localhost:8080/"
        },
        "id": "GXbSXbws66Bt",
        "outputId": "6c352c53-fedc-441b-fe7d-e719530f9a20"
      },
      "outputs": [
        {
          "output_type": "stream",
          "name": "stdout",
          "text": [
            "1\n",
            "1.24\n",
            "hello_world\n",
            "coderanandmaurya\n",
            "coder anand maurya\n",
            "coder/anand/maurya\n",
            "coder-anand-maurya\n",
            "Hello world\n"
          ]
        }
      ],
      "source": [
        "print(1)\n",
        "print(1.24)\n",
        "print(\"hello_world\")\n",
        "print(\"coder\"+\"anand\"+\"maurya\")\n",
        "print(\"coder\",\"anand\",\"maurya\")\n",
        "print(\"coder\",\"anand\",\"maurya\",sep=\"/\")\n",
        "print(\"coder\",\"anand\",\"maurya\",sep=\"-\")\n",
        "print(\"Hello\", end=\" \")\n",
        "print(\"world\")"
      ]
    },
    {
      "cell_type": "markdown",
      "source": [
        "# Data-Types\n",
        "- basic type- int,float,comlex,boolean and string\n",
        "- container type - list, tuple, set, dictionary\n",
        "- user-defined type - Class"
      ],
      "metadata": {
        "id": "Im1HvzJP8H7x"
      }
    },
    {
      "cell_type": "markdown",
      "source": [
        "basic Type"
      ],
      "metadata": {
        "id": "t2Bqzrlt9omg"
      }
    },
    {
      "cell_type": "code",
      "source": [
        "#integer\n",
        "print(4)\n",
        "print(1e309)\n",
        "\n",
        "#float\n",
        "print(1.4)\n",
        "print(1.7e309)\n",
        "\n",
        "#comlex\n",
        "print(1+2j)\n",
        "\n",
        "#boolean\n",
        "print(True)\n",
        "print(False)\n",
        "\n",
        "#string\n",
        "print(\"anand\")\n",
        "print('anand')\n",
        "print(\"\"\"anand\"\"\")"
      ],
      "metadata": {
        "colab": {
          "base_uri": "https://localhost:8080/"
        },
        "id": "ELtvnbEz7G3I",
        "outputId": "3ebe3ba0-68e4-4ccf-c18d-f730966330aa"
      },
      "execution_count": null,
      "outputs": [
        {
          "output_type": "stream",
          "name": "stdout",
          "text": [
            "4\n",
            "inf\n",
            "1.4\n",
            "inf\n",
            "(1+2j)\n",
            "True\n",
            "False\n",
            "anand\n",
            "anand\n",
            "anand\n"
          ]
        }
      ]
    },
    {
      "cell_type": "markdown",
      "source": [
        "Container Type"
      ],
      "metadata": {
        "id": "7KLCY1vY9vjh"
      }
    },
    {
      "cell_type": "code",
      "source": [
        "#list\n",
        "print([1,2,3,4])\n",
        "\n",
        "#sets\n",
        "print({1,2,3,4,6,4})\n",
        "\n",
        "#dictionary\n",
        "print({\"name\":\"anand\", \"marks\": 45})"
      ],
      "metadata": {
        "colab": {
          "base_uri": "https://localhost:8080/"
        },
        "id": "iGpnXx3F7pIY",
        "outputId": "d12eba52-0fa0-4086-b9f8-da1b457b9adc"
      },
      "execution_count": null,
      "outputs": [
        {
          "output_type": "stream",
          "name": "stdout",
          "text": [
            "[1, 2, 3, 4]\n",
            "{1, 2, 3, 4, 6}\n",
            "{'name': 'anand', 'marks': 45}\n"
          ]
        }
      ]
    },
    {
      "cell_type": "markdown",
      "source": [
        "# comments"
      ],
      "metadata": {
        "id": "U7aSLY0v-QXh"
      }
    },
    {
      "cell_type": "code",
      "source": [
        "#This is comments"
      ],
      "metadata": {
        "id": "LTov6-1m-PiJ"
      },
      "execution_count": null,
      "outputs": []
    },
    {
      "cell_type": "markdown",
      "source": [
        "# variable\n",
        "- Dynamic Typing: no variable datatype declaration\n",
        "- no variable declaration\n",
        "- Dynamic Binding: you can't change variable data type "
      ],
      "metadata": {
        "id": "aXN5G2Dm-18r"
      }
    },
    {
      "cell_type": "code",
      "source": [
        "a=5\n",
        "b=4\n",
        "name=\"anand\"\n",
        "print(name)\n",
        "name=4\n",
        "print(name)\n",
        "print(a+b)\n",
        "\n",
        "a=1;b=4;c=3\n",
        "print(a,b,c)\n",
        "\n",
        "a,b,c=1,2,3\n",
        "print(a,b,c)\n",
        "\n",
        "a=b=c=3\n",
        "print(a,b,c)"
      ],
      "metadata": {
        "colab": {
          "base_uri": "https://localhost:8080/"
        },
        "id": "fgjMKrcQ-2Pp",
        "outputId": "eea1e159-1f9a-4190-f5b1-736fc90c1db6"
      },
      "execution_count": null,
      "outputs": [
        {
          "output_type": "stream",
          "name": "stdout",
          "text": [
            "anand\n",
            "4\n",
            "9\n",
            "1 4 3\n",
            "1 2 3\n",
            "3 3 3\n"
          ]
        }
      ]
    },
    {
      "cell_type": "markdown",
      "source": [
        "# Identifiers and Keywords\n",
        "Python is case sentive language\n",
        "- Keywords: reserved word for program\n",
        "- identifier: use to identify variable, function, class, module or other object\n",
        "- Rules for setting identifier\n",
        "  - can only start with an alphabet or _\n",
        "  - followed by 0 or more letter,_and digits\n",
        "  - keywords cannot be used as an identifier"
      ],
      "metadata": {
        "id": "wXyhhB0N_t7Z"
      }
    },
    {
      "cell_type": "code",
      "source": [
        "import keyword\n",
        "k=keyword.kwlist\n",
        "print(k)\n",
        "len(k)"
      ],
      "metadata": {
        "colab": {
          "base_uri": "https://localhost:8080/"
        },
        "id": "ifjoU50Z_tYr",
        "outputId": "d2a3a6e5-0ae0-4efa-abb4-7911f48b8133"
      },
      "execution_count": null,
      "outputs": [
        {
          "output_type": "stream",
          "name": "stdout",
          "text": [
            "['False', 'None', 'True', 'and', 'as', 'assert', 'async', 'await', 'break', 'class', 'continue', 'def', 'del', 'elif', 'else', 'except', 'finally', 'for', 'from', 'global', 'if', 'import', 'in', 'is', 'lambda', 'nonlocal', 'not', 'or', 'pass', 'raise', 'return', 'try', 'while', 'with', 'yield']\n"
          ]
        },
        {
          "output_type": "execute_result",
          "data": {
            "text/plain": [
              "35"
            ]
          },
          "metadata": {},
          "execution_count": 31
        }
      ]
    },
    {
      "cell_type": "code",
      "source": [
        "_name = \"anand\""
      ],
      "metadata": {
        "id": "gPm-itCB_EWX"
      },
      "execution_count": null,
      "outputs": []
    },
    {
      "cell_type": "markdown",
      "source": [
        "# Input and Type-conversion"
      ],
      "metadata": {
        "id": "ja34zhR7XJPl"
      }
    },
    {
      "cell_type": "code",
      "source": [
        "a=input(\"write something \")"
      ],
      "metadata": {
        "colab": {
          "base_uri": "https://localhost:8080/"
        },
        "id": "c4Rxi7IJW49y",
        "outputId": "d2ea10fe-b9d1-4d04-81b6-a0ff4464ffcb"
      },
      "execution_count": null,
      "outputs": [
        {
          "output_type": "stream",
          "name": "stdout",
          "text": [
            "write somethinghello brother\n",
            "hello brother\n"
          ]
        }
      ]
    },
    {
      "cell_type": "code",
      "source": [
        "#imlicit type-conversion\n",
        "print(4+5.5)\n",
        "print(3+3+5j)\n",
        "a=1\n",
        "print(type(a))\n",
        "a=float(a)\n",
        "print(type(a))\n",
        "a=str(a)\n",
        "print(type(a))\n"
      ],
      "metadata": {
        "colab": {
          "base_uri": "https://localhost:8080/"
        },
        "id": "A4JkelW7XZQD",
        "outputId": "609b0c20-d8fd-41a7-a8ad-c586d9dc8f3b"
      },
      "execution_count": null,
      "outputs": [
        {
          "output_type": "stream",
          "name": "stdout",
          "text": [
            "9.5\n",
            "(6+5j)\n",
            "<class 'int'>\n",
            "<class 'float'>\n",
            "<class 'str'>\n"
          ]
        }
      ]
    },
    {
      "cell_type": "markdown",
      "source": [
        "# Literal : Literal is a raw data given in a variable.\n",
        "- Numeric Literal\n",
        "- String Literal\n",
        "- Boolean Literal\n",
        "- Special Literal"
      ],
      "metadata": {
        "id": "j4oFj0OjZHwT"
      }
    },
    {
      "cell_type": "code",
      "source": [
        "#Numerical Literal\n",
        "a=0b1010 #binary Literal\n",
        "b=100 #Decimal Literal\n",
        "c= 0o310 #Octal Literal\n",
        "d= 0x12c\n",
        "\n",
        "#Float Literal\n",
        "x=1.2\n",
        "y=1.2e2 #e2 10x10\n",
        "z=1.2e-3\n",
        "\n",
        "#Complex Literal\n",
        "l=3.14j\n",
        "\n",
        "print(a,b,c,d)\n",
        "print(x,y,z)\n",
        "print(l)\n",
        "\n",
        "#String Literals\n",
        "S=\"Go Green\"\n",
        "raw_str=r\"raw \\n string\"\n",
        "f=u\"\\U0001F40D\"\n",
        "print(S)\n",
        "print(raw_str)\n",
        "print(f)\n",
        "\n",
        "#Boolean Literals\n",
        "m= True + 4\n",
        "n= False + 4\n",
        "print(m)\n",
        "print(n)\n",
        "\n",
        "#Special Literal\n",
        "o=None\n",
        "print(o)"
      ],
      "metadata": {
        "colab": {
          "base_uri": "https://localhost:8080/"
        },
        "id": "AGFIXLHBZHD1",
        "outputId": "f95cea07-52cc-4b00-8ae9-2be5e0994270"
      },
      "execution_count": null,
      "outputs": [
        {
          "output_type": "stream",
          "name": "stdout",
          "text": [
            "10 100 200 300\n",
            "1.2 120.0 0.0012\n",
            "3.14j\n",
            "Go Green\n",
            "raw \\n string\n",
            "🐍\n",
            "5\n",
            "4\n",
            "None\n"
          ]
        }
      ]
    },
    {
      "cell_type": "markdown",
      "source": [
        "# Operators : perform mathematica ang logical task \n",
        "- Arithmatic Operators\n",
        "- Comparison Operators\n",
        "- logical Operators\n",
        "- Bitwise Operators\n",
        "- Assignment Operators\n",
        "- Identity Operators\n",
        "- Membership Operators"
      ],
      "metadata": {
        "id": "-iQgYqo5LLzg"
      }
    },
    {
      "cell_type": "code",
      "source": [
        "#Arithmatic Operators\n",
        "x,y=1,2\n",
        "print(x+y,x-y,x*y,x/y,x%y,x**y,x//y)"
      ],
      "metadata": {
        "id": "kjUXryGWLAYL",
        "outputId": "52ee6de3-7a90-4600-d105-2a7fdfb60329",
        "colab": {
          "base_uri": "https://localhost:8080/"
        }
      },
      "execution_count": null,
      "outputs": [
        {
          "output_type": "stream",
          "name": "stdout",
          "text": [
            "3 -1 2 0.5 1 1 0\n"
          ]
        }
      ]
    },
    {
      "cell_type": "code",
      "source": [
        "#Comparison Operators\n",
        "print(x>y,x<y)\n",
        "print(x==y)\n",
        "print(x<=y)\n",
        "print(x>=y)\n",
        "print(x!=y)"
      ],
      "metadata": {
        "id": "qtLNq3__MGZJ",
        "outputId": "2dfd6535-ed81-4692-e127-12c5c3f5c129",
        "colab": {
          "base_uri": "https://localhost:8080/"
        }
      },
      "execution_count": null,
      "outputs": [
        {
          "output_type": "stream",
          "name": "stdout",
          "text": [
            "False True\n",
            "False\n",
            "True\n",
            "False\n",
            "True\n"
          ]
        }
      ]
    },
    {
      "cell_type": "code",
      "source": [
        "#Logical Operator\n",
        "x=True\n",
        "y=False\n",
        "\n",
        "print(x or y, x and y, not x )"
      ],
      "metadata": {
        "id": "yuZGLSnzMcBA",
        "outputId": "f9dd0ba2-d1cd-467f-960d-73620a237987",
        "colab": {
          "base_uri": "https://localhost:8080/"
        }
      },
      "execution_count": null,
      "outputs": [
        {
          "output_type": "stream",
          "name": "stdout",
          "text": [
            "True False False\n"
          ]
        }
      ]
    },
    {
      "cell_type": "code",
      "source": [
        "#Bitwise Operator\n",
        "x,y=2,3\n",
        "\n",
        "print(x & y)\n",
        "print(x | y)\n",
        "print(x >> 2)\n",
        "print(x << 2)\n",
        "print(-x)"
      ],
      "metadata": {
        "id": "qVoyy2bxNouB",
        "outputId": "9e2bc940-9a35-44b4-f158-5c8faf88ae19",
        "colab": {
          "base_uri": "https://localhost:8080/"
        }
      },
      "execution_count": null,
      "outputs": [
        {
          "output_type": "stream",
          "name": "stdout",
          "text": [
            "2\n",
            "3\n",
            "0\n",
            "8\n",
            "-2\n"
          ]
        }
      ]
    },
    {
      "cell_type": "code",
      "source": [
        "#Assingment Operator\n",
        "a = 3 #equal to\n",
        "print(a)\n",
        "a+=3\n",
        "print(a)\n",
        "a-=3\n",
        "print(a)\n",
        "a&=3\n",
        "print(a)"
      ],
      "metadata": {
        "id": "qnEGvH-nNo2Q",
        "outputId": "0367959a-1ed4-4602-c6e8-fb45e072a098",
        "colab": {
          "base_uri": "https://localhost:8080/"
        }
      },
      "execution_count": null,
      "outputs": [
        {
          "output_type": "stream",
          "name": "stdout",
          "text": [
            "3\n",
            "6\n",
            "3\n",
            "3\n"
          ]
        }
      ]
    },
    {
      "cell_type": "code",
      "source": [
        "#Identity Opertaor :two variable have same memory location\n",
        "a,b=2,2\n",
        "print(a is b)\n",
        "\n",
        "a=[1,2]\n",
        "b=[1,2]\n",
        "print(a is b)\n",
        "\n",
        "a=\"Hello World\"\n",
        "b=\"Hello World\"\n",
        "print(a is b)\n",
        "print(a is not b)"
      ],
      "metadata": {
        "id": "OgOTnZ_AOhLg",
        "outputId": "15d00062-76a4-4e5e-bbff-86f704918a34",
        "colab": {
          "base_uri": "https://localhost:8080/"
        }
      },
      "execution_count": null,
      "outputs": [
        {
          "output_type": "stream",
          "name": "stdout",
          "text": [
            "True\n",
            "False\n",
            "False\n",
            "True\n"
          ]
        }
      ]
    },
    {
      "cell_type": "code",
      "source": [
        "#Memebership Operator\n",
        "a=\"Hello World\"\n",
        "print(\"H\" not in a)\n",
        "\n",
        "b=(1,2,3)\n",
        "print(1 in b)"
      ],
      "metadata": {
        "id": "v90niDvCt4ib",
        "outputId": "2a6a8fb9-abe5-468b-c100-ee2f670e8b02",
        "colab": {
          "base_uri": "https://localhost:8080/"
        }
      },
      "execution_count": null,
      "outputs": [
        {
          "output_type": "stream",
          "name": "stdout",
          "text": [
            "False\n",
            "True\n"
          ]
        }
      ]
    },
    {
      "cell_type": "markdown",
      "source": [
        "#Condition :if else"
      ],
      "metadata": {
        "id": "AWr2WHyXvkLF"
      }
    },
    {
      "cell_type": "code",
      "source": [
        "#Username: ANAND PWD:123\n",
        "Username=input(\"Username: \")\n",
        "if  \"#\" in Username:\n",
        "  PWD=input(\"Password\")\n",
        "  if Username == \"#ANAND\" and PWD == \"123\":\n",
        "    print(\"Welcome\")\n",
        "  elif Username == \"#ANAND\"  and PWD !=\"123\":\n",
        "    print(\"Wrong Password\")\n",
        "    PWD = input(\"Password: \")\n",
        "    if PWD ==\"123\":\n",
        "      print(\"you are Great\")\n",
        "    else:\n",
        "      print(\"Try Again\")\n",
        "  else:\n",
        "    print(\"Incorrect Credentials\")\n",
        "else:\n",
        "  print(\"Username must Have #\")"
      ],
      "metadata": {
        "id": "B66THnu5uWWL",
        "outputId": "5e3b3b10-0e8c-4710-c6a6-8540a5a6c4a4",
        "colab": {
          "base_uri": "https://localhost:8080/"
        }
      },
      "execution_count": null,
      "outputs": [
        {
          "output_type": "stream",
          "name": "stdout",
          "text": [
            "Username: a\n",
            "Username must Have #\n"
          ]
        }
      ]
    },
    {
      "cell_type": "markdown",
      "source": [
        "#Indentation"
      ],
      "metadata": {
        "id": "flffHF0Jy2Z9"
      }
    },
    {
      "cell_type": "code",
      "source": [
        "# not this if(Name==\"anand\")\n",
        "#{something}\n",
        "# this if name==\"anand\":\n",
        "#tab Something"
      ],
      "metadata": {
        "id": "hQ2FSxhfy1_W"
      },
      "execution_count": null,
      "outputs": []
    },
    {
      "cell_type": "markdown",
      "source": [
        "# range function"
      ],
      "metadata": {
        "id": "Nz1RAuTK5Gse"
      }
    },
    {
      "cell_type": "code",
      "source": [
        "print(list(range(3)))\n",
        "print(list(range(1,3)))\n",
        "print(list(range(1,10,2)))\n",
        "print(list(range(10,1,-2)))"
      ],
      "metadata": {
        "id": "odMDXLmL4h8H",
        "outputId": "f470ece6-a1d4-4412-80de-1eaf9ecf65fc",
        "colab": {
          "base_uri": "https://localhost:8080/"
        }
      },
      "execution_count": null,
      "outputs": [
        {
          "output_type": "stream",
          "name": "stdout",
          "text": [
            "[0, 1, 2]\n",
            "[1, 2]\n",
            "[1, 3, 5, 7, 9]\n",
            "[10, 8, 6, 4, 2]\n"
          ]
        }
      ]
    },
    {
      "cell_type": "markdown",
      "source": [
        "# Loop: while, for\n",
        "- while condition:\n",
        "    - code\n",
        "- for loop\n",
        "  - for(i=o;i<10;i++) <br>\n",
        "      {code}\n"
      ],
      "metadata": {
        "id": "FsdXW0Htz409"
      }
    },
    {
      "cell_type": "code",
      "source": [
        "#While loop\n",
        "num=int(input(\"number: \"))\n",
        "i=1\n",
        "\n",
        "while i<5:\n",
        "  print(num * i)\n",
        "  i+=1"
      ],
      "metadata": {
        "id": "BjV0hadoz3Ge",
        "outputId": "15888771-604f-4a3f-8851-411013ea1a14",
        "colab": {
          "base_uri": "https://localhost:8080/"
        }
      },
      "execution_count": null,
      "outputs": [
        {
          "output_type": "stream",
          "name": "stdout",
          "text": [
            "number: 2\n",
            "2\n",
            "4\n",
            "6\n",
            "8\n"
          ]
        }
      ]
    },
    {
      "cell_type": "code",
      "source": [
        "#for loop work on range or sequece\n",
        "#sequence\n",
        "fruit_list=[\"apple\",\"banana\",\"pineapple\"] \n",
        "fruit_tuple=(\"apple\",\"banana\",\"pineapple\")\n",
        "fruit_set={\"apple\",\"banana\",\"pineapple\"}\n",
        "fruit_dict={\"fruit\":\"apple\",\"car\":\"maruti\"}\n",
        "\n",
        "for i in range(1,3):\n",
        "  print(i)\n",
        "print(\"\\n\")\n",
        "\n",
        "for i in \"INDIA\":\n",
        "  print(i)\n",
        "print(\"\\n\")\n",
        "\n",
        "for i in (1,2,3):\n",
        "  print(i)\n",
        "\n",
        "print(\"\\n\")\n",
        "for i in [1,2,3,4]:\n",
        "  print(i)"
      ],
      "metadata": {
        "id": "92amEP2V1SL1",
        "outputId": "34a8fe9b-6ea3-4e20-8626-a8288c9fc2a0",
        "colab": {
          "base_uri": "https://localhost:8080/"
        }
      },
      "execution_count": null,
      "outputs": [
        {
          "output_type": "stream",
          "name": "stdout",
          "text": [
            "1\n",
            "2\n",
            "\n",
            "\n",
            "I\n",
            "N\n",
            "D\n",
            "I\n",
            "A\n",
            "\n",
            "\n",
            "1\n",
            "2\n",
            "3\n",
            "\n",
            "\n",
            "1\n",
            "2\n",
            "3\n",
            "4\n"
          ]
        }
      ]
    },
    {
      "cell_type": "code",
      "source": [
        "#Nested Loop\n",
        "rows=int(input(\"enter the no. of rows: \"))\n",
        "#cols=int(input(\"enter the no. of cols\"))\n",
        "\n",
        "for i in range(1,rows + 1):\n",
        "  for j in range(0,i):\n",
        "    print(\"*\",end=\" \")\n",
        "  print(\"\")"
      ],
      "metadata": {
        "id": "xjjtVJ336RBF",
        "outputId": "05dfe5a2-5ed2-4fc5-a65e-a3d289bfdc18",
        "colab": {
          "base_uri": "https://localhost:8080/"
        }
      },
      "execution_count": null,
      "outputs": [
        {
          "output_type": "stream",
          "name": "stdout",
          "text": [
            "enter the no. of rows: 5\n",
            "* \n",
            "* * \n",
            "* * * \n",
            "* * * * \n",
            "* * * * * \n"
          ]
        }
      ]
    },
    {
      "cell_type": "markdown",
      "source": [
        "Break, Continue, Pass"
      ],
      "metadata": {
        "id": "0HtSBGfE9AiP"
      }
    },
    {
      "cell_type": "code",
      "source": [
        "#Break\n",
        "for i in range(1,4):\n",
        "  if i==2:\n",
        "    break\n",
        "  print(i) \n",
        "\n",
        "print(\"\\n\")\n",
        "\n",
        "#Continue\n",
        "for i in range(1,4):\n",
        "  if i==2:\n",
        "    continue\n",
        "  print(i) \n",
        "\n",
        "#Pass\n",
        "for i in range(1,3):\n",
        "  pass"
      ],
      "metadata": {
        "id": "grgbBXVP9Ioi",
        "outputId": "d9c6f991-31f1-49f6-ff35-e41e40475dc3",
        "colab": {
          "base_uri": "https://localhost:8080/"
        }
      },
      "execution_count": null,
      "outputs": [
        {
          "output_type": "stream",
          "name": "stdout",
          "text": [
            "1\n",
            "\n",
            "\n",
            "1\n",
            "3\n"
          ]
        }
      ]
    },
    {
      "cell_type": "markdown",
      "source": [
        "#Built in Function: print"
      ],
      "metadata": {
        "id": "j6QVQDHS-XPQ"
      }
    },
    {
      "cell_type": "code",
      "source": [
        "# Input: in str you have to change DType\n",
        "a=input(\"enter any number : \")\n",
        "\n",
        "# Print\n",
        "print(\"value of a is : \",a)\n",
        "\n",
        "# Type\n",
        "type(a)\n",
        "\n",
        "#Type conversion\n",
        "a=int(a)\n",
        "a=str(a)\n",
        "\n",
        "\n",
        "# abs\n",
        "print(\"abs value of : \",abs(-3))\n",
        "\n",
        "# pow\n",
        "print(pow(2,3))\n",
        "\n",
        "# min/max/len/sum\n",
        "mylist=[1,2,3,4,5,6,7]\n",
        "min(mylist)\n",
        "max(mylist)\n",
        "len(mylist)\n",
        "sum(mylist)\n",
        "\n",
        "# Round\n",
        "c=22/7\n",
        "round(c)\n",
        "\n",
        "# Divmod\n",
        "divmod(5,2)\n",
        "\n",
        "# bin/oct/hex\n",
        "print(bin(2))\n",
        "print(oct(9))\n",
        "print(hex(15))\n",
        "\n",
        "#id\n",
        "a=3\n",
        "id(a)\n",
        "\n",
        "# ord : ascii code search\n",
        "ord(\"a\")\n",
        "\n",
        "# help : document of function\n",
        "help(\"print\")"
      ],
      "metadata": {
        "id": "sogOLmFa9Unk",
        "outputId": "7877cd74-7dfc-4bc0-d7bc-cd16981cc764",
        "colab": {
          "base_uri": "https://localhost:8080/"
        }
      },
      "execution_count": null,
      "outputs": [
        {
          "output_type": "stream",
          "name": "stdout",
          "text": [
            "enter any number : 4\n",
            "value of a is :  4\n",
            "abs value of :  3\n",
            "8\n",
            "0b10\n",
            "0o11\n",
            "0xf\n",
            "Help on built-in function print in module builtins:\n",
            "\n",
            "print(...)\n",
            "    print(value, ..., sep=' ', end='\\n', file=sys.stdout, flush=False)\n",
            "    \n",
            "    Prints the values to a stream, or to sys.stdout by default.\n",
            "    Optional keyword arguments:\n",
            "    file:  a file-like object (stream); defaults to the current sys.stdout.\n",
            "    sep:   string inserted between values, default a space.\n",
            "    end:   string appended after the last value, default a newline.\n",
            "    flush: whether to forcibly flush the stream.\n",
            "\n"
          ]
        }
      ]
    },
    {
      "cell_type": "markdown",
      "source": [
        "# Module\n",
        " A file containing set of function "
      ],
      "metadata": {
        "id": "9tRzpTrwA9-_"
      }
    },
    {
      "cell_type": "code",
      "source": [
        "import math\n",
        "import random\n",
        "import time\n",
        "import os"
      ],
      "metadata": {
        "id": "Vc-lP2Om_SWu"
      },
      "execution_count": null,
      "outputs": []
    },
    {
      "cell_type": "code",
      "source": [
        "print(math.pi)  \n",
        "print(math.e)\n",
        "  \n",
        "print(random.randint(1,3))\n",
        "a=[1,2,3]\n",
        "random.shuffle(a)\n",
        "print(a)\n",
        "\n",
        "print(time.time())\n",
        "print(time.ctime())\n",
        "print(\"hello \")\n",
        "time.sleep(1)\n",
        "print(\"world\")\n",
        "\n",
        "print(os.getcwd())\n",
        "print(os.listdir())"
      ],
      "metadata": {
        "id": "kcEjjO6WBWNO",
        "outputId": "bb3282c3-4d5a-46f3-a19d-bf9933394ea5",
        "colab": {
          "base_uri": "https://localhost:8080/"
        }
      },
      "execution_count": null,
      "outputs": [
        {
          "output_type": "stream",
          "name": "stdout",
          "text": [
            "3.141592653589793\n",
            "2.718281828459045\n",
            "3\n",
            "[1, 2, 3]\n",
            "1643865880.156765\n",
            "Thu Feb  3 05:24:40 2022\n",
            "hello \n",
            "world\n",
            "/content\n",
            "['.config', 'sample_data']\n"
          ]
        }
      ]
    },
    {
      "cell_type": "markdown",
      "source": [
        "# String : sequence of unicode character"
      ],
      "metadata": {
        "id": "PO7sEfwwDCVg"
      }
    },
    {
      "cell_type": "code",
      "source": [
        "# Creating \n",
        "name=\"Anand Maurya\"\n",
        "today=\"it's raining today\"\n",
        "print(name , \"said that\", today)\n",
        "\n",
        "# Indexing :+ve,-ve\n",
        "print(name[1])\n",
        "print(name[-1])\n",
        "\n",
        "# Slicing\n",
        "print(name[3:])\n",
        "print(name[:3])\n",
        "print(name[0:5])\n",
        "print(today[0:15:2])\n",
        "\n",
        "# Update:string are immutable\n",
        "\n",
        "#Arithmatic Operator in str\n",
        "a=\"hello \" + \"world\"\n",
        "print(a)\n",
        "\n",
        "print(\"*\"*5)"
      ],
      "metadata": {
        "id": "5cEe6iZnDd_o",
        "outputId": "34a08754-236a-4964-db09-30efb048d467",
        "colab": {
          "base_uri": "https://localhost:8080/"
        }
      },
      "execution_count": null,
      "outputs": [
        {
          "output_type": "stream",
          "name": "stdout",
          "text": [
            "Anand Maurya said that it's raining today\n",
            "n\n",
            "a\n",
            "nd Maurya\n",
            "Ana\n",
            "Anand\n",
            "i' ann o\n",
            "helloworld\n"
          ]
        }
      ]
    },
    {
      "cell_type": "code",
      "source": [
        "print(\"hello\" == \"world\")\n",
        "print(\"hello\" != \"world\")\n",
        "\n",
        "#first come first serve\n",
        "print(\"hello\" <= \"world\")\n",
        "\n",
        "#empty string : false, string :true\n",
        "print(\"hello\" and \"world\")\n",
        "print(\"\" and \"hello\")\n",
        "print(\"world\" or \"hello\")\n",
        "\n",
        "#loop\n",
        "c=\"Mr\"\n",
        "for i in c:\n",
        "  print(i)\n",
        "\n",
        "#Membership \n",
        "print(\"M\" in c)"
      ],
      "metadata": {
        "id": "JKqNtQRpDnmn",
        "outputId": "0faa822a-a611-4d50-d175-1cbf42df8824",
        "colab": {
          "base_uri": "https://localhost:8080/"
        }
      },
      "execution_count": null,
      "outputs": [
        {
          "output_type": "stream",
          "name": "stdout",
          "text": [
            "False\n",
            "True\n",
            "True\n",
            "world\n",
            "\n",
            "world\n",
            "M\n",
            "r\n",
            "True\n"
          ]
        }
      ]
    },
    {
      "cell_type": "code",
      "source": [
        ""
      ],
      "metadata": {
        "id": "Uz_J5NHLGn0V"
      },
      "execution_count": null,
      "outputs": []
    }
  ]
}