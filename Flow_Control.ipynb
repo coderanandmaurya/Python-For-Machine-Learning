{
  "nbformat": 4,
  "nbformat_minor": 0,
  "metadata": {
    "colab": {
      "name": "Flow Control.ipynb",
      "provenance": [],
      "authorship_tag": "ABX9TyMuEevGp7HmNzZotCbOBsHq",
      "include_colab_link": true
    },
    "kernelspec": {
      "name": "python3",
      "display_name": "Python 3"
    },
    "language_info": {
      "name": "python"
    }
  },
  "cells": [
    {
      "cell_type": "markdown",
      "metadata": {
        "id": "view-in-github",
        "colab_type": "text"
      },
      "source": [
        "<a href=\"https://colab.research.google.com/github/coderanandmaurya/Python-For-Machine-Learning/blob/main/Flow_Control.ipynb\" target=\"_parent\"><img src=\"https://colab.research.google.com/assets/colab-badge.svg\" alt=\"Open In Colab\"/></a>"
      ]
    },
    {
      "cell_type": "markdown",
      "source": [
        "# **Flow Control** \n",
        "A program's control flow is the order in which the program's code executes. \n",
        "In pyhton there are three types of flow control:\n",
        "- **Conditional statement** : if, if-elif, if-elif-else, nested if-else\n",
        "- **Transfer statement** : break, continue, pass\n",
        "- **Iterative statement** : for, while\n",
        "<figure>\n",
        "<center>\n",
        "<img src='https://pynative.com/wp-content/uploads/2021/03/python-flow-control-statements.png' />\n",
        "</center>\n",
        "</figure>"
      ],
      "metadata": {
        "id": "j-sHaerplaW4"
      }
    },
    {
      "cell_type": "markdown",
      "source": [
        "# **Indentation**\n",
        "Python relies on indentation (whitespace at the beginning of a line) to define scope in the code. Other programming languages often use curly-brackets for this purpose."
      ],
      "metadata": {
        "id": "9GGhiRBHpYFJ"
      }
    },
    {
      "cell_type": "code",
      "source": [
        "a = 33\n",
        "b = 200\n",
        "if b > a:\n",
        "print(\"b is greater than a\") # you will get an error"
      ],
      "metadata": {
        "colab": {
          "base_uri": "https://localhost:8080/",
          "height": 135
        },
        "id": "EBvcbs_8pXUx",
        "outputId": "c8869bda-a0f3-4037-8e84-07e3416429f0"
      },
      "execution_count": 2,
      "outputs": [
        {
          "output_type": "error",
          "ename": "IndentationError",
          "evalue": "ignored",
          "traceback": [
            "\u001b[0;36m  File \u001b[0;32m\"<ipython-input-2-4276c1871af7>\"\u001b[0;36m, line \u001b[0;32m4\u001b[0m\n\u001b[0;31m    print(\"b is greater than a\") # you will get an error\u001b[0m\n\u001b[0m        ^\u001b[0m\n\u001b[0;31mIndentationError\u001b[0m\u001b[0;31m:\u001b[0m expected an indented block\n"
          ]
        }
      ]
    },
    {
      "cell_type": "markdown",
      "source": [
        "## **Conditional statement**\n",
        "Python supports the usual logical conditions from mathematics:\n",
        "\n",
        "- Equals: a == b\n",
        "- Not Equals: a != b\n",
        "- Less than: a < b\n",
        "- Less than or equal to: a <= b\n",
        "- Greater than: a > b\n",
        "- Greater than or equal to: a >= b\n",
        "\n",
        "These conditions can be used in several ways, most commonly in \"if statements\" and loops.\n",
        "\n",
        "- An \"if statement\" is written by using the **if** keyword."
      ],
      "metadata": {
        "id": "HFyKauajoDeJ"
      }
    },
    {
      "cell_type": "markdown",
      "source": [
        "### **if statement**"
      ],
      "metadata": {
        "id": "E6V-y61ZpJfc"
      }
    },
    {
      "cell_type": "code",
      "source": [
        "a = 33\n",
        "b = 200\n",
        "if b > a:\n",
        "  print(\"b is greater than a\")"
      ],
      "metadata": {
        "colab": {
          "base_uri": "https://localhost:8080/"
        },
        "id": "EVvjImR9oC2E",
        "outputId": "65b65340-7209-472f-c267-0723cd218b48"
      },
      "execution_count": 3,
      "outputs": [
        {
          "output_type": "stream",
          "name": "stdout",
          "text": [
            "b is greater than a\n"
          ]
        }
      ]
    },
    {
      "cell_type": "markdown",
      "source": [
        "### **Short Hand if**"
      ],
      "metadata": {
        "id": "6yL1MAZFrQC1"
      }
    },
    {
      "cell_type": "code",
      "source": [
        "a,b=2,1\n",
        "if a > b: print(\"a is greater than b\")"
      ],
      "metadata": {
        "colab": {
          "base_uri": "https://localhost:8080/"
        },
        "id": "3_u-8_hlrTie",
        "outputId": "366d6907-3adb-4b28-ea39-1ccfb6d79d27"
      },
      "execution_count": 11,
      "outputs": [
        {
          "output_type": "stream",
          "name": "stdout",
          "text": [
            "a is greater than b\n"
          ]
        }
      ]
    },
    {
      "cell_type": "markdown",
      "source": [
        "### **if-else**"
      ],
      "metadata": {
        "id": "1_ZJ4g_Jpto4"
      }
    },
    {
      "cell_type": "code",
      "source": [
        "n = 5\n",
        "if n % 2 == 0:\n",
        "   print(\"n is even\")\n",
        "else:\n",
        "   print(\"n is odd\")"
      ],
      "metadata": {
        "colab": {
          "base_uri": "https://localhost:8080/"
        },
        "id": "DmMBVDtKqDll",
        "outputId": "acf5aa7a-56ee-44e5-a445-f0bab05b83ff"
      },
      "execution_count": 7,
      "outputs": [
        {
          "output_type": "stream",
          "name": "stdout",
          "text": [
            "n is odd\n"
          ]
        }
      ]
    },
    {
      "cell_type": "markdown",
      "source": [
        "### **Short Hand if else**"
      ],
      "metadata": {
        "id": "6DxMCo--rljt"
      }
    },
    {
      "cell_type": "code",
      "source": [
        "a = 2\n",
        "b = 330\n",
        "print(\"A\") if a > b else print(\"B\")"
      ],
      "metadata": {
        "colab": {
          "base_uri": "https://localhost:8080/"
        },
        "id": "21FUe97XrpFF",
        "outputId": "19bdf7ca-e64a-4d17-b09e-7c160a2c809b"
      },
      "execution_count": 12,
      "outputs": [
        {
          "output_type": "stream",
          "name": "stdout",
          "text": [
            "B\n"
          ]
        }
      ]
    },
    {
      "cell_type": "markdown",
      "source": [
        "### **if-elif-else**"
      ],
      "metadata": {
        "id": "KcbEeExJq3A9"
      }
    },
    {
      "cell_type": "code",
      "source": [
        "a = 200\n",
        "b = 33\n",
        "if b > a:\n",
        "  print(\"b is greater than a\")\n",
        "elif a == b:\n",
        "  print(\"a and b are equal\")\n",
        "else:\n",
        "  print(\"a is greater than b\")"
      ],
      "metadata": {
        "colab": {
          "base_uri": "https://localhost:8080/"
        },
        "id": "7_GUuth8q2du",
        "outputId": "5c93f965-88d5-437f-e462-51222934d3f7"
      },
      "execution_count": 8,
      "outputs": [
        {
          "output_type": "stream",
          "name": "stdout",
          "text": [
            "a is greater than b\n"
          ]
        }
      ]
    },
    {
      "cell_type": "code",
      "execution_count": 6,
      "metadata": {
        "colab": {
          "base_uri": "https://localhost:8080/"
        },
        "id": "q6f8a0Puh7qf",
        "outputId": "ba5329a9-96e6-45fd-ea17-c9aa7962bc89"
      },
      "outputs": [
        {
          "output_type": "stream",
          "name": "stdout",
          "text": [
            "a and b are equal\n"
          ]
        }
      ],
      "source": [
        "a = 33\n",
        "b = 33\n",
        "if b > a:\n",
        "  print(\"b is greater than a\")\n",
        "elif a == b:\n",
        "  print(\"a and b are equal\")"
      ]
    },
    {
      "cell_type": "markdown",
      "source": [
        "### **Ternary Operators, or Conditional Expressions**"
      ],
      "metadata": {
        "id": "tn8vRqA4uOij"
      }
    },
    {
      "cell_type": "code",
      "source": [
        "# One line if else statement, with 3 conditions:\n",
        "a = 330\n",
        "b = 330\n",
        "print(\"A\") if a > b else print(\"=\") if a == b else print(\"B\")"
      ],
      "metadata": {
        "id": "MAcneTSxrXH-"
      },
      "execution_count": null,
      "outputs": []
    },
    {
      "cell_type": "markdown",
      "source": [
        "### **Condition with logical operator**\n",
        "- **AND** : The **and** keyword is a logical operator, and is used to combine conditional statements:\n",
        "- **Or** : The **or** keyword is a logical operator, and is used to combine conditional statements:"
      ],
      "metadata": {
        "id": "6KxUdWTOuOrH"
      }
    },
    {
      "cell_type": "code",
      "source": [
        "# Test if a is greater than b, AND if c is greater than a:\n",
        "a = 200\n",
        "b = 33\n",
        "c = 500\n",
        "if a > b and c > a:\n",
        "  print(\"Both conditions are True\")\n",
        "\n",
        "# Test if a is greater than b, OR if a is greater than c:\n",
        "a = 200\n",
        "b = 33\n",
        "c = 500\n",
        "if a > b or a > c:\n",
        "  print(\"At least one of the conditions is True\")"
      ],
      "metadata": {
        "colab": {
          "base_uri": "https://localhost:8080/"
        },
        "id": "_UudKdlmvF_T",
        "outputId": "77e03bfe-4ea9-4ee7-b5db-37334cdfbd3b"
      },
      "execution_count": 13,
      "outputs": [
        {
          "output_type": "stream",
          "name": "stdout",
          "text": [
            "Both conditions are True\n",
            "At least one of the conditions is True\n"
          ]
        }
      ]
    },
    {
      "cell_type": "markdown",
      "source": [
        "### **Nested If**"
      ],
      "metadata": {
        "id": "xM4AMhP3vWj2"
      }
    },
    {
      "cell_type": "code",
      "source": [
        "x = 41\n",
        "\n",
        "if x > 10:\n",
        "  print(\"Above ten,\")\n",
        "  if x > 20:\n",
        "    print(\"and also above 20!\")\n",
        "  else:\n",
        "    print(\"but not above 20.\")"
      ],
      "metadata": {
        "colab": {
          "base_uri": "https://localhost:8080/"
        },
        "id": "3Z1vdKTaveSz",
        "outputId": "b331eed3-0174-44b4-90a2-45beebd33d79"
      },
      "execution_count": 14,
      "outputs": [
        {
          "output_type": "stream",
          "name": "stdout",
          "text": [
            "Above ten,\n",
            "and also above 20!\n"
          ]
        }
      ]
    },
    {
      "cell_type": "markdown",
      "source": [
        "## **Iterative/looping statement**\n",
        "Python has two primitive loop commands:\n",
        "\n",
        "- while loops : With the while loop we can execute a set of statements as long as a condition is true.\n",
        "- for loops"
      ],
      "metadata": {
        "id": "qwSxV99bwwbE"
      }
    },
    {
      "cell_type": "markdown",
      "source": [
        "### **While Loop**"
      ],
      "metadata": {
        "id": "GjpUytFvyr9w"
      }
    },
    {
      "cell_type": "code",
      "source": [
        "# Print i as long as i is less than 6:\n",
        "i = 1\n",
        "while i < 6:\n",
        "  print(i)\n",
        "  i += 1\n",
        "\n",
        "# The else Statement : With the else statement we can run a block of code once when the condition no longer is true\n",
        "i = 1\n",
        "while i < 6:\n",
        "  print(i)\n",
        "  i += 1\n",
        "else:\n",
        "  print(\"i is no longer less than 6\")"
      ],
      "metadata": {
        "colab": {
          "base_uri": "https://localhost:8080/"
        },
        "id": "d_GKCg8MyX4o",
        "outputId": "27ad8ec0-cecc-4114-9338-309500b8359e"
      },
      "execution_count": 16,
      "outputs": [
        {
          "output_type": "stream",
          "name": "stdout",
          "text": [
            "1\n",
            "2\n",
            "3\n",
            "4\n",
            "5\n"
          ]
        }
      ]
    },
    {
      "cell_type": "markdown",
      "source": [
        "### **for Loop** \n",
        "- for loop is used for iterating over a sequence (that is either a list, a tuple, a dictionary, a set, or a string)."
      ],
      "metadata": {
        "id": "s5Xa2cYmxGCi"
      }
    },
    {
      "cell_type": "code",
      "source": [
        "# For loop at list\n",
        "fruits = [\"apple\", \"banana\", \"cherry\"]\n",
        "for x in fruits:\n",
        "  print(x)\n",
        "\n",
        "# Looping Through a String\n",
        "for x in \"banana\":\n",
        "  print(x)\n",
        "\n",
        "# Else in For Loop\n",
        "for x in range(6):\n",
        "  print(x)\n",
        "else:\n",
        "  print(\"Finally finished!\")"
      ],
      "metadata": {
        "colab": {
          "base_uri": "https://localhost:8080/"
        },
        "id": "MdF2UqQzxFed",
        "outputId": "1484ac95-8e45-4429-a9d8-5bb04b67933e"
      },
      "execution_count": 15,
      "outputs": [
        {
          "output_type": "stream",
          "name": "stdout",
          "text": [
            "apple\n",
            "banana\n",
            "cherry\n",
            "b\n",
            "a\n",
            "n\n",
            "a\n",
            "n\n",
            "a\n"
          ]
        }
      ]
    },
    {
      "cell_type": "markdown",
      "source": [
        "### Nested Loops\n",
        "The \"inner loop\" will be executed one time for each iteration of the \"outer loop\"\n"
      ],
      "metadata": {
        "id": "l8C93hI15_ow"
      }
    },
    {
      "cell_type": "code",
      "source": [
        "adj = [\"red\", \"big\", \"tasty\"]\n",
        "fruits = [\"apple\", \"banana\", \"cherry\"]\n",
        "\n",
        "for x in adj:\n",
        "  for y in fruits:\n",
        "    print(x, y)"
      ],
      "metadata": {
        "colab": {
          "base_uri": "https://localhost:8080/"
        },
        "id": "RHrUeGLg6Lsi",
        "outputId": "69a131d2-ed8a-4c5e-d6f0-bd14935ac87f"
      },
      "execution_count": 17,
      "outputs": [
        {
          "output_type": "stream",
          "name": "stdout",
          "text": [
            "red apple\n",
            "red banana\n",
            "red cherry\n",
            "big apple\n",
            "big banana\n",
            "big cherry\n",
            "tasty apple\n",
            "tasty banana\n",
            "tasty cherry\n"
          ]
        }
      ]
    },
    {
      "cell_type": "markdown",
      "source": [
        "## **Transfer statement**\n",
        "Transfer statements alter the way a logic gets executed. These statements are often used in loops for and while\n",
        " - break\n",
        " - continue\n",
        " - pass"
      ],
      "metadata": {
        "id": "ATOlUZhPx9PM"
      }
    },
    {
      "cell_type": "markdown",
      "source": [
        "### **break statement**"
      ],
      "metadata": {
        "id": "lM8xmBq-zUxI"
      }
    },
    {
      "cell_type": "code",
      "source": [
        "# With the break statement we can stop the loop even if the while condition is true\n",
        "i = 1\n",
        "while i < 6:\n",
        "  print(i)\n",
        "  if i == 3:\n",
        "    break\n",
        "  i += 1\n",
        "\n",
        "# for loop\n",
        "fruits = [\"apple\", \"banana\", \"cherry\"]\n",
        "for x in fruits:\n",
        "  print(x)\n",
        "  if x == \"banana\":\n",
        "    break\n",
        "\n",
        "# this time the break comes before the print\n",
        "fruits = [\"apple\", \"banana\", \"cherry\"]\n",
        "for x in fruits:\n",
        "  if x == \"banana\":\n",
        "    break\n",
        "  print(x)"
      ],
      "metadata": {
        "id": "Bgit32hivgN6"
      },
      "execution_count": null,
      "outputs": []
    },
    {
      "cell_type": "markdown",
      "source": [
        "### **continue statement**\n"
      ],
      "metadata": {
        "id": "0yp9DM_TzmZd"
      }
    },
    {
      "cell_type": "code",
      "source": [
        "# With the continue statement we can stop the current iteration, and continue with the next\n",
        "i = 0\n",
        "while i < 6:\n",
        "  i += 1\n",
        "  if i == 3:\n",
        "    continue\n",
        "  print(i)\n",
        "\n",
        "# for loop\n",
        "fruits = [\"apple\", \"banana\", \"cherry\"]\n",
        "for x in fruits:\n",
        "  if x == \"banana\":\n",
        "    continue\n",
        "  print(x)"
      ],
      "metadata": {
        "id": "_pB0SWDuzvuI"
      },
      "execution_count": null,
      "outputs": []
    },
    {
      "cell_type": "markdown",
      "source": [
        "### **pass Statement**\n",
        "for loops cannot be empty, but if you for some reason have a for loop with no content, put in the pass statement to avoid getting an error.\n"
      ],
      "metadata": {
        "id": "wzFPZbRI6Vdd"
      }
    },
    {
      "cell_type": "code",
      "source": [
        "for x in [0, 1, 2]:\n",
        "  pass"
      ],
      "metadata": {
        "id": "bzyd90QA6Yyx"
      },
      "execution_count": null,
      "outputs": []
    },
    {
      "cell_type": "markdown",
      "source": [
        "## **Range function**\n",
        "To loop through a set of code a specified number of times, we can use the range() function"
      ],
      "metadata": {
        "id": "bMhWmt5K5L6W"
      }
    },
    {
      "cell_type": "code",
      "source": [
        "#print value 0 to 5\n",
        "for x in range(6):\n",
        "  print(x)\n",
        "\n",
        "# start parameter\n",
        "for x in range(2, 6):\n",
        "  print(x)\n",
        "\n",
        "# increment the sequence\n",
        "for x in range(2, 30, 3):\n",
        "  print(x)"
      ],
      "metadata": {
        "id": "SLs-gtXi5ZAZ"
      },
      "execution_count": null,
      "outputs": []
    }
  ]
}