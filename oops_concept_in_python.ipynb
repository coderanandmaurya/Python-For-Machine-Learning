{
  "nbformat": 4,
  "nbformat_minor": 0,
  "metadata": {
    "colab": {
      "name": "oops concept in python.ipynb",
      "provenance": [],
      "authorship_tag": "ABX9TyOtqPPbTRRUNOgDOyg8EA4n",
      "include_colab_link": true
    },
    "kernelspec": {
      "name": "python3",
      "display_name": "Python 3"
    },
    "language_info": {
      "name": "python"
    }
  },
  "cells": [
    {
      "cell_type": "markdown",
      "metadata": {
        "id": "view-in-github",
        "colab_type": "text"
      },
      "source": [
        "<a href=\"https://colab.research.google.com/github/coderanandmaurya/Python-For-Machine-Learning/blob/main/oops_concept_in_python.ipynb\" target=\"_parent\"><img src=\"https://colab.research.google.com/assets/colab-badge.svg\" alt=\"Open In Colab\"/></a>"
      ]
    },
    {
      "cell_type": "markdown",
      "source": [
        "# **OOPs concept**\n",
        "- In Python, object-oriented Programming (OOPs) is a programming paradigm that uses objects and classes in programming. It aims to implement real-world entities like inheritance, polymorphisms, encapsulation, etc. in the programming. The main concept of OOPs is to bind the data and the functions that work on that together as a single unit so that no other part of the code can access this data."
      ],
      "metadata": {
        "id": "dgVGDUNJfBXB"
      }
    },
    {
      "cell_type": "markdown",
      "source": [
        "## Main Concepts of Object-Oriented Programming (OOPs) \n",
        "- Class\n",
        "- Objects\n",
        "- Polymorphism\n",
        "- Encapsulation\n",
        "- Inheritance"
      ],
      "metadata": {
        "id": "2kVMLt9qfxeo"
      }
    },
    {
      "cell_type": "markdown",
      "source": [
        "## **Class**\n",
        "Some points on Python class:  \n",
        "\n",
        "- **Classes **are created by keyword class.\n",
        "- Attributes are the variables that belong to a class.\n",
        "- Attributes are always public and can be accessed using the dot (.) operator. \n",
        "  - Eg.: Myclass.Myattribute\n",
        "\n",
        "- A class is a collection of objects. A class contains the blueprints or the prototype from which the objects are being created. It is a logical entity that contains some attributes and methods. \n",
        "\n",
        "- To understand the need for creating a class let’s consider an example, let’s say you wanted to track the number of dogs that may have different attributes like breed, age. If a list is used, the first element could be the dog’s breed while the second element could represent its age. Let’s suppose there are 100 different dogs, then how would you know which element is supposed to be which? What if you wanted to add other properties to these dogs? This lacks organization and it’s the exact need for classes. "
      ],
      "metadata": {
        "id": "C5ZY9K_zgRX9"
      }
    },
    {
      "cell_type": "code",
      "source": [
        "# Creating an empty Class in Python\n",
        "class animal:\n",
        "  pass"
      ],
      "metadata": {
        "id": "kbhZ_ggEgQL_"
      },
      "execution_count": null,
      "outputs": []
    },
    {
      "cell_type": "markdown",
      "source": [
        "## **Objects**\n",
        "- The object is an entity that has a state and behavior associated with it. It may be any real-world object like a mouse, keyboard, chair, table, pen, etc. Integers, strings, floating-point numbers, even arrays, and dictionaries, are all objects. More specifically, any single integer or any single string is an object. The number 12 is an object, the string “Hello, world” is an object, a list is an object that can hold other objects, and so on. You’ve been using objects all along and may not even realize it.\n",
        "\n",
        "### An object consists of :\n",
        "\n",
        "- State: It is represented by the attributes of an object. It also reflects the properties of an object.\n",
        "\n",
        "- Behavior: It is represented by the methods of an object. It also reflects the response of an object to other objects.\n",
        "\n",
        "- Identity: It gives a unique name to an object and enables one object to interact with other objects. \n",
        "\n",
        "To understand the state, behavior, and identity let us take the example of the class dog (explained above). \n",
        "\n",
        "The identity can be considered as the name of the dog.\n",
        "State or Attributes can be considered as the breed, age, or color of the dog.\n",
        "The behavior can be considered as to whether the dog is eating or sleeping."
      ],
      "metadata": {
        "id": "Hvp_pPjahLEX"
      }
    },
    {
      "cell_type": "code",
      "execution_count": null,
      "metadata": {
        "id": "g4kqr3ZkcnaF"
      },
      "outputs": [],
      "source": [
        "obj = animal()"
      ]
    },
    {
      "cell_type": "markdown",
      "source": [
        "## **The self**\n",
        "- Class methods must have an extra first parameter in the method definition. We do not give a value for this parameter when we call the method, Python provides it"
      ],
      "metadata": {
        "id": "AVnvvlnEm1Mv"
      }
    },
    {
      "cell_type": "markdown",
      "source": [
        "## **The __init__ method** \n",
        "- The __init__ method is similar to constructors in C++ and Java. It is run as soon as an object of a class is instantiated. The method is useful to do any initialization you want to do with your object. \n",
        "\n",
        "Now let us define a class and create some objects using the self and __init__ method."
      ],
      "metadata": {
        "id": "PtUCcjOqe-05"
      }
    },
    {
      "cell_type": "markdown",
      "source": [
        "### Creating a class and object with class and instance attributes"
      ],
      "metadata": {
        "id": "fAVU5M6ozJ4m"
      }
    },
    {
      "cell_type": "code",
      "source": [
        "class Dog:\n",
        "\t# class attribute\n",
        "\tattr1 = \"mammal\"\n",
        "\n",
        "\t# Instance attribute\n",
        "\tdef __init__(self, name):\n",
        "\t\tself.name = name\n",
        "\n",
        "# Driver code\n",
        "# Object instantiation\n",
        "Rodger = Dog(\"Rodger\")\n",
        "Tommy = Dog(\"Tommy\")\n",
        "\n",
        "# Accessing class attributes\n",
        "print(\"Rodger is a {}\".format(Rodger.__class__.attr1))\n",
        "print(\"Tommy is also a {}\".format(Tommy.__class__.attr1))\n",
        "\n",
        "# Accessing instance attributes\n",
        "print(\"My name is {}\".format(Rodger.name))\n",
        "print(\"My name is {}\".format(Tommy.name))\n"
      ],
      "metadata": {
        "colab": {
          "base_uri": "https://localhost:8080/"
        },
        "id": "0wm8JxH2pH4w",
        "outputId": "0f2e7971-cfb4-452a-c6d3-e54f6121793c"
      },
      "execution_count": null,
      "outputs": [
        {
          "output_type": "stream",
          "name": "stdout",
          "text": [
            "Rodger is a mammal\n",
            "Tommy is also a mammal\n",
            "My name is Rodger\n",
            "My name is Tommy\n"
          ]
        }
      ]
    },
    {
      "cell_type": "code",
      "source": [
        "#  Creating Class and objects with methods\n",
        "class Dog:\n",
        "  \n",
        "    # class attribute\n",
        "    attr1 = \"mammal\"\n",
        "  \n",
        "    # Instance attribute\n",
        "    def __init__(self, name):\n",
        "        self.name = name\n",
        "          \n",
        "    def speak(self):\n",
        "        print(\"My name is {}\".format(self.name))\n",
        "  \n",
        "# Driver code\n",
        "# Object instantiation\n",
        "Rodger = Dog(\"Rodger\")\n",
        "Tommy = Dog(\"Tommy\")\n",
        "  \n",
        "# Accessing class methods\n",
        "Rodger.speak()\n",
        "Tommy.speak()"
      ],
      "metadata": {
        "id": "VUeqmjLOqe21"
      },
      "execution_count": null,
      "outputs": []
    },
    {
      "cell_type": "markdown",
      "source": [
        "## **Inheritance**\n",
        "- Inheritance is the capability of one class to derive or inherit the properties from another class. The class that derives properties is called the derived class or child class and the class from which the properties are being derived is called the base class or parent class. The benefits of inheritance are:\n",
        "\n",
        "- It represents real-world relationships well.\n",
        "- It provides the reusability of a code. We don’t have to write the same code again and again. Also, it allows us to add more features to a class without modifying it.\n",
        "- It is transitive in nature, which means that if class B inherits from another class A, then all the subclasses of B would automatically inherit from class A."
      ],
      "metadata": {
        "id": "szg27ZqNrAlZ"
      }
    },
    {
      "cell_type": "markdown",
      "source": [
        "## **Inheritance in Python**"
      ],
      "metadata": {
        "id": "iikpz2OrtYJf"
      }
    },
    {
      "cell_type": "code",
      "source": [
        "# Python code to demonstrate how parent constructors are called.\n",
        "\n",
        "# parent class\n",
        "class Person(object):\n",
        "\n",
        "\t# __init__ is known as the constructor\n",
        "\tdef __init__(self, name, idnumber):\n",
        "\t\tself.name = name\n",
        "\t\tself.idnumber = idnumber\n",
        "\n",
        "\tdef display(self):\n",
        "\t\tprint(self.name)\n",
        "\t\tprint(self.idnumber)\n",
        "\t\t\n",
        "\tdef details(self):\n",
        "\t\tprint(\"My name is {}\".format(self.name))\n",
        "\t\tprint(\"IdNumber: {}\".format(self.idnumber))\n",
        "\t\n",
        "# child class\n",
        "class Employee(Person):\n",
        "\tdef __init__(self, name, idnumber, salary, post):\n",
        "\t\tself.salary = salary\n",
        "\t\tself.post = post\n",
        "\n",
        "\t\t# invoking the __init__ of the parent class\n",
        "\t\tPerson.__init__(self, name, idnumber)\n",
        "\t\t\n",
        "\tdef details(self):\n",
        "\t\tprint(\"My name is {}\".format(self.name))\n",
        "\t\tprint(\"IdNumber: {}\".format(self.idnumber))\n",
        "\t\tprint(\"Post: {}\".format(self.post))\n",
        "\n",
        "\n",
        "# creation of an object variable or an instance\n",
        "a = Employee('Rahul', 886012, 200000, \"Intern\")\n",
        "\n",
        "# calling a function of the class Person using\n",
        "# its instance\n",
        "a.display()\n",
        "a.details()\n"
      ],
      "metadata": {
        "id": "0ZhrovXwr2IW"
      },
      "execution_count": null,
      "outputs": []
    },
    {
      "cell_type": "markdown",
      "source": [
        "## **Polymorphism**\n",
        "- Polymorphism simply means having many forms. For example, we need to determine if the given species of birds fly or not, using polymorphism we can do this using a single function."
      ],
      "metadata": {
        "id": "jNcslsH2tlAu"
      }
    },
    {
      "cell_type": "code",
      "source": [
        "class Bird:\n",
        "\t\n",
        "\tdef intro(self):\n",
        "\t\tprint(\"There are many types of birds.\")\n",
        "\n",
        "\tdef flight(self):\n",
        "\t\tprint(\"Most of the birds can fly but some cannot.\")\n",
        "\n",
        "class sparrow(Bird):\n",
        "\t\n",
        "\tdef flight(self):\n",
        "\t\tprint(\"Sparrows can fly.\")\n",
        "\n",
        "class ostrich(Bird):\n",
        "\n",
        "\tdef flight(self):\n",
        "\t\tprint(\"Ostriches cannot fly.\")\n",
        "\n",
        "obj_bird = Bird()\n",
        "obj_spr = sparrow()\n",
        "obj_ost = ostrich()\n",
        "\n",
        "obj_bird.intro()\n",
        "obj_bird.flight()\n",
        "\n",
        "obj_spr.intro()\n",
        "obj_spr.flight()\n",
        "\n",
        "obj_ost.intro()\n",
        "obj_ost.flight()\n"
      ],
      "metadata": {
        "colab": {
          "base_uri": "https://localhost:8080/"
        },
        "id": "bjreGRJAt3o0",
        "outputId": "4607f0eb-b3f4-43a0-a5c7-128ca371eacd"
      },
      "execution_count": null,
      "outputs": [
        {
          "output_type": "stream",
          "name": "stdout",
          "text": [
            "There are many types of birds.\n",
            "Most of the birds can fly but some cannot.\n",
            "There are many types of birds.\n",
            "Sparrows can fly.\n",
            "There are many types of birds.\n",
            "Ostriches cannot fly.\n"
          ]
        }
      ]
    },
    {
      "cell_type": "markdown",
      "source": [
        "## **Encapsulation**\n",
        "- Encapsulation is one of the fundamental concepts in object-oriented programming (OOP). It describes the idea of wrapping data and the methods that work on data within one unit. This puts restrictions on accessing variables and methods directly and can prevent the accidental modification of data. To prevent accidental change, an object’s variable can only be changed by an object’s method. Those types of variables are known as private variables.\n",
        "\n",
        "- A class is an example of encapsulation as it encapsulates all the data that is member functions, variables, etc."
      ],
      "metadata": {
        "id": "1Gavo8LQuHa2"
      }
    },
    {
      "cell_type": "code",
      "source": [
        "# Python program to\n",
        "# demonstrate private members\n",
        "\n",
        "# Creating a Base class\n",
        "class Base:\n",
        "\tdef __init__(self):\n",
        "\t\tself.a = \"GeeksforGeeks\"\n",
        "\t\tself.__c = \"GeeksforGeeks\"\n",
        "\n",
        "# Creating a derived class\n",
        "class Derived(Base):\n",
        "\tdef __init__(self):\n",
        "\n",
        "\t\t# Calling constructor of\n",
        "\t\t# Base class\n",
        "\t\tBase.__init__(self)\n",
        "\t\tprint(\"Calling private member of base class: \")\n",
        "\t\tprint(self.__c)\n",
        "\n",
        "\n",
        "# Driver code\n",
        "obj1 = Base()\n",
        "print(obj1.a)\n",
        "\n",
        "# Uncommenting print(obj1.c) will raise an AttributeError\n",
        "\n",
        "# Uncommenting obj2 = Derived() will also raise an AtrributeError as private member of base class is called inside derived class\n"
      ],
      "metadata": {
        "colab": {
          "base_uri": "https://localhost:8080/"
        },
        "id": "kbDXCq4eua32",
        "outputId": "40875e50-7200-4994-8698-ea7bd543c392"
      },
      "execution_count": null,
      "outputs": [
        {
          "output_type": "stream",
          "name": "stdout",
          "text": [
            "GeeksforGeeks\n"
          ]
        }
      ]
    }
  ]
}