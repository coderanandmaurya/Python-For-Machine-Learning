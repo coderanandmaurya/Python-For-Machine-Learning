{
  "nbformat": 4,
  "nbformat_minor": 0,
  "metadata": {
    "colab": {
      "name": "Operator precedence and associativity.ipynb",
      "provenance": [],
      "collapsed_sections": [],
      "authorship_tag": "ABX9TyPjyEV7xHy5SwaGtvo/ich4",
      "include_colab_link": true
    },
    "kernelspec": {
      "name": "python3",
      "display_name": "Python 3"
    },
    "language_info": {
      "name": "python"
    }
  },
  "cells": [
    {
      "cell_type": "markdown",
      "metadata": {
        "id": "view-in-github",
        "colab_type": "text"
      },
      "source": [
        "<a href=\"https://colab.research.google.com/github/coderanandmaurya/Python-For-Machine-Learning/blob/main/Operator_precedence_and_associativity.ipynb\" target=\"_parent\"><img src=\"https://colab.research.google.com/assets/colab-badge.svg\" alt=\"Open In Colab\"/></a>"
      ]
    },
    {
      "cell_type": "markdown",
      "source": [
        "# **Python Operators**\n",
        "- Operators are used to perform operations on variables and values.\n",
        "\n",
        "- **variable & Value** : Variables are containers for storing data values. like A=5 here A is variable which contain integer value 5.\n",
        "\n"
      ],
      "metadata": {
        "id": "_PQd7oOigcym"
      }
    },
    {
      "cell_type": "code",
      "execution_count": 19,
      "metadata": {
        "colab": {
          "base_uri": "https://localhost:8080/"
        },
        "id": "9pQB6BptdGX_",
        "outputId": "6798f579-b0a8-4e75-f15e-614d00ee29ed"
      },
      "outputs": [
        {
          "output_type": "stream",
          "name": "stdout",
          "text": [
            "15\n",
            "15\n"
          ]
        }
      ],
      "source": [
        "print(10+5)\n",
        "\n",
        "A=5\n",
        "B=10\n",
        "print(A+B)"
      ]
    },
    {
      "cell_type": "markdown",
      "source": [
        "## **Python divides the operators in the following groups:**\n",
        "\n",
        "- Arithmetic operators\n",
        "- Assignment operators\n",
        "- Comparison operators\n",
        "- Logical operators\n",
        "- Identity operators\n",
        "- Membership operators\n",
        "- Bitwise operators\n",
        "\n",
        "<figure>\n",
        "<center>\n",
        "<img src='https://techvidvan.com/tutorials/wp-content/uploads/sites/2/2019/12/python-operators.jpg' width=\"500\" />\n",
        "</center>\n",
        "</figure>\n"
      ],
      "metadata": {
        "id": "EHXVaEREh5EL"
      }
    },
    {
      "cell_type": "markdown",
      "source": [
        "## **1. Arithmetic Operators**\n",
        "Arithmetic operators are used with numeric values to perform common mathematical operations:\n",
        "\n",
        "<figure>\n",
        "<center>\n",
        "<img src='https://techvidvan.com/tutorials/wp-content/uploads/sites/2/2019/12/python-arithmetic-operators-1.jpg' width=\"500\"/>\n",
        "</center>\n",
        "</figure>\n",
        "\n",
        "\n",
        "- **Addition** (+) : adds two operands\tx + y\n",
        "- **Subtraction** (-) : subtracts two operands\tx – y\n",
        "- **Multiplication** (*) : multiplies two operands\tx * y\n",
        "-\t**Division** (float /) : divides the first operand by the second\tx / y\n",
        "- **Division** (floor //) : divides the first operand by the second\tx // y\n",
        "- **Modulus** (%) : returns the remainder when the first operand is divided by the second\tx % y\n",
        "-\t**Power** (**) : Returns first raised to power second\t(x * * y)\n"
      ],
      "metadata": {
        "id": "rNm_uztQjv5Q"
      }
    },
    {
      "cell_type": "code",
      "source": [
        "# Addition\n",
        "A,B=3,2\n",
        "print(\"A+B is : \", A+B)\n",
        "\n",
        "# Subtraction: subtracts two operands\tx – y\n",
        "print(\"A-B is : \", A-B)\n",
        "\n",
        "# Multiplication: multiplies two operands\tx * y\n",
        "print(\"A*B is : \",A*B)\n",
        "\n",
        "# Division (float): divides the first operand by the second\tx / y\n",
        "print(\"A/B is : \",A/B)\n",
        "\n",
        "# Division (floor): divides the first operand by the second\tx // y\n",
        "print(\"A//B is : \",A//B)\n",
        "\n",
        "# Modulus: returns the remainder when the first operand is divided by the second\tx % y\n",
        "print(\"A%B is : \",A%B)\n",
        "\n",
        "# Power: Returns first raised to power second\tx ** y\n",
        "print(\"A**B is : \",A**B)"
      ],
      "metadata": {
        "colab": {
          "base_uri": "https://localhost:8080/"
        },
        "id": "8J2svro6hzJN",
        "outputId": "d666601b-621b-49ff-c8aa-ca4779730482"
      },
      "execution_count": 20,
      "outputs": [
        {
          "output_type": "stream",
          "name": "stdout",
          "text": [
            "A+B is :  5\n",
            "A-B is :  1\n",
            "A*B is :  6\n",
            "A/B is :  1.5\n",
            "A//B is :  1\n",
            "A%B is :  1\n",
            "A**B is :  9\n"
          ]
        }
      ]
    },
    {
      "cell_type": "markdown",
      "source": [
        "## **2. Comparison Operators**\n",
        "Comparison or Relational operators compares the values. It either returns True or False according to the condition.\n",
        "\n",
        "<figure>\n",
        "<center>\n",
        "<img src='https://cdn.educba.com/academy/wp-content/uploads/2019/09/Python-Comparison-Operators-1.png' width=\"500\"/>\n",
        "</center>\n",
        "</figure>\n",
        "\n",
        "\n",
        "\n",
        "- Greater than ( > ) : True if the left operand is greater than the right\tx > y\n",
        "- Less than ( < ): True if the left operand is less than the right\tx < y\n",
        "- Equal to ( = ) : True if both operands are equal\tx == y\n",
        "- Not equal to ( != ) : True if operands are not equal\tx != y\n",
        "- Greater than or equal to ( >= ) : True if the left operand is greater than or equal to the right\tx >= y\n",
        "- Less than or equal to ( <= ) : True if the left operand is less than or equal to the right\tx <= y"
      ],
      "metadata": {
        "id": "bKwX3tXFoylM"
      }
    },
    {
      "cell_type": "code",
      "source": [
        "A,B=2,4\n",
        "\n",
        "# Greater than ( > ) : True if the left operand is greater than the right\tx > y\n",
        "print(\"A is greater than B : \",A>B)\n",
        "\n",
        "# Less than ( < ): True if the left operand is less than the right\tx < y\n",
        "print(\"A is Less than B : \",A<B)\n",
        "\n",
        "# Equal to ( = ) : True if both operands are equal\tx == y\n",
        "print(\"A is Equal to B : \",A==B)\n",
        "\n",
        "# Not equal to ( != ) : True if operands are not equal\tx != y\n",
        "print(\"A is Not equal to B : \",A!=B)\n",
        "\n",
        "# Greater than or equal to ( >= ) : True if the left operand is greater than or equal to the right\tx >= y\n",
        "print(\"A is Greater than or equal to B : \",A>=B)\n",
        "\n",
        "# Less than or equal to ( <= ) : True if the left operand is less than or equal to the right\tx <= y\n",
        "print(\"A is Less than or equal to : \",A<=B)"
      ],
      "metadata": {
        "colab": {
          "base_uri": "https://localhost:8080/"
        },
        "id": "wAFCVJ-pm4ej",
        "outputId": "00d48bd0-1c4d-4b24-c5ab-1efe90211fb6"
      },
      "execution_count": 21,
      "outputs": [
        {
          "output_type": "stream",
          "name": "stdout",
          "text": [
            "A is greater than B :  False\n",
            "A is Less than B :  True\n",
            "A is Equal to B :  False\n",
            "A is Not equal to B :  True\n",
            "A is Greater than or equal to B :  False\n",
            "A is Less than or equal to :  True\n"
          ]
        }
      ]
    },
    {
      "cell_type": "markdown",
      "source": [
        "## **3. Logical Operators**\n",
        "Logical operators perform Logical AND, Logical OR, and Logical NOT operations. It is used to combine conditional statements.\n",
        "\n",
        "<figure>\n",
        "<center>\n",
        "<img src='https://www.askpython.com/wp-content/uploads/2019/12/python-logical-operators.png' width=\"500\" />\n",
        "</center>\n",
        "</figure>\n",
        "\n",
        "- **Logical AND** : True if both the operands are true\tx and y\n",
        "- **Logical OR**: True if either of the operands is true \tx or y\n",
        "- **Logical NOT** : True if the operand is false \tnot x"
      ],
      "metadata": {
        "id": "KEzPX0p9rkEw"
      }
    },
    {
      "cell_type": "code",
      "source": [
        "# Examples of Logical Operator\n",
        "a = True\n",
        "b = False\n",
        " \n",
        "# Logical AND: True if both the operands are true x and y\n",
        "print(a and b)\n",
        "\n",
        "# Logical OR: True if either of the operands is true x or y\n",
        "print(a or b)\n",
        "\n",
        "# Logical NOT: True if the operand is false not x\n",
        "print(not a)"
      ],
      "metadata": {
        "colab": {
          "base_uri": "https://localhost:8080/"
        },
        "id": "8bFnCdYRrWkM",
        "outputId": "b169bcbf-7682-4e77-8b58-3cf27a674478"
      },
      "execution_count": 22,
      "outputs": [
        {
          "output_type": "stream",
          "name": "stdout",
          "text": [
            "False\n",
            "True\n",
            "False\n"
          ]
        }
      ]
    },
    {
      "cell_type": "markdown",
      "source": [
        "## **4. Bitwise Operators**\n",
        "Bitwise operators act on bits and perform the bit-by-bit operations. These are used to operate on binary numbers.\n",
        "\n",
        "<figure>\n",
        "<center>\n",
        "<img src='https://techvidvan.com/tutorials/wp-content/uploads/sites/2/2019/12/python-bitwise-operators-1.jpg' width=\"500\" />\n",
        "</center>\n",
        "</figure>\n",
        "\n",
        "- **Bitwise AND**\t: x & y\n",
        "- **Bitwise OR**\t: x | y\n",
        "- **Bitwise NOT** :\t~x\n",
        "- **Bitwise XOR** :\tx ^ y\n",
        "- **Bitwise right shif**t :\tx>>\n",
        "- **Bitwise left shift** : x<<"
      ],
      "metadata": {
        "id": "bT4t95sstd2v"
      }
    },
    {
      "cell_type": "code",
      "source": [
        "# Examples of Bitwise operators\n",
        "a = 0b100  # 4\n",
        "b = 0b100  # 4\n",
        " \n",
        "# Bitwise AND\t: x & y\n",
        "print(\"a & b is : \",a & b)\n",
        "\n",
        "# Bitwise OR\t: x | y\n",
        "print(\"a | b is : \",a | b)\n",
        "\n",
        "# Bitwise NOT :\t~x\n",
        "print(\"~a is : \",~a)\n",
        "\n",
        "# Bitwise XOR :\tx ^ y\n",
        "print(\"a ^ b is : \",a ^ b)\n",
        "\n",
        "# Bitwise right shift :\tx>>\n",
        "print(\"a >> 2 is : \",a >> 2)\n",
        "\n",
        "# Bitwise left shift : x<<\n",
        "print(\"a << 2 is : \",a << 2)\n"
      ],
      "metadata": {
        "colab": {
          "base_uri": "https://localhost:8080/"
        },
        "id": "kNTLLw3RuB7I",
        "outputId": "26cfb0be-d18b-4943-a5ff-1c1c1e8bfc42"
      },
      "execution_count": 23,
      "outputs": [
        {
          "output_type": "stream",
          "name": "stdout",
          "text": [
            "a & b is :  4\n",
            "a | b is :  4\n",
            "~a is :  -5\n",
            "a ^ b is :  0\n",
            "a >> 2 is :  1\n",
            "a << 2 is :  16\n"
          ]
        }
      ]
    },
    {
      "cell_type": "markdown",
      "source": [
        "## **5. Assignment Operators**\n",
        "\n",
        "<figure>\n",
        "<center>\n",
        "<img src='https://www.devopsschool.com/blog/wp-content/uploads/2020/08/assignment-operator-in-python.png' width=\"500\" />\n",
        "</center>\n",
        "</figure>\n",
        "\n",
        "\n",
        "Assignment operators are used to assigning values to the variables\n",
        "\n",
        "- = Assign value of right side of expression to left side operand\n",
        "  - **x = y + z**\n",
        "-\tAdd AND: Add right-side operand with left side operand and then assign to left operand\n",
        "  - \t**a+=b     a=a+b**\n",
        "-\tSubtract AND: Subtract right operand from left operand and then assign to left operand\n",
        "  - \t**a-=b     a=a-b**\n",
        "-\tMultiply AND: Multiply right operand with left operand and then assign to left operand\t\n",
        "  - **a*=b     a=a*b** \n",
        "-\tDivide AND: Divide left operand with right operand and then assign to left operand\t\n",
        "  - **a/=b     a=a/b**\n",
        "-\tModulus AND: Takes modulus using left and right operands and assign the result to left operand\t\n",
        "  - **a%=b     a=a%b**\n",
        "-\tDivide(floor) AND: Divide left operand with right operand and then assign the value(floor) to left operand\t\n",
        "  - **a//=b     a=a//b**\n",
        "-\tExponent AND: Calculate exponent(raise power) value using operands and assign value to left operand\t\n",
        "  - a**=b     a=a**b\n",
        "-\tPerforms Bitwise AND on operands and assign value to left operand\t\n",
        "  - **a&=b     a=a&b**\n",
        "-\tPerforms Bitwise OR on operands and assign value to left operand\t\n",
        "  - **a|=b     a=a|b**\n",
        "-\tPerforms Bitwise xOR on operands and assign value to left operand\t\n",
        "  - **a^=b     a=a^b**\n",
        "- Performs Bitwise right shift on operands and assign value to left operand\t\n",
        "  - **a>>=b     a=a>>b**\n",
        "- Performs Bitwise left shift on operands and assign value to left operand\t\n",
        "  - **a <<= b     a= a << b**"
      ],
      "metadata": {
        "id": "XKqA1QDBzHuX"
      }
    },
    {
      "cell_type": "code",
      "source": [
        "# Assign value\n",
        "b = a\n",
        "print(b)\n",
        "\n",
        "# Add and assign value\n",
        "b += a\n",
        "print(b)\n",
        "\n",
        "# Subtract and assign value\n",
        "b -= a\n",
        "print(b)\n",
        "\n",
        "# multiply and assign\n",
        "b *= a\n",
        "print(b)\n",
        "\n",
        "# bitwise lishift operator\n",
        "b <<= a\n",
        "print(b)\n"
      ],
      "metadata": {
        "colab": {
          "base_uri": "https://localhost:8080/"
        },
        "id": "bQ0PPrIzukCo",
        "outputId": "77bbc018-4a26-4d65-ae7c-6688bd26b2f1"
      },
      "execution_count": 24,
      "outputs": [
        {
          "output_type": "stream",
          "name": "stdout",
          "text": [
            "4\n",
            "8\n",
            "4\n",
            "16\n",
            "256\n"
          ]
        }
      ]
    },
    {
      "cell_type": "markdown",
      "source": [
        "## **6. Identity Operators**\n",
        "is and is not are the identity operators both are used to check if two values are located on the same part of the memory. Two variables that are equal do not imply that they are identical. \n",
        "\n",
        "<figure>\n",
        "<center>\n",
        "<img src='https://blog.simpliv.com/wp-content/uploads/2021/06/10-1.jpg' width=\"300\" />\n",
        "</center>\n",
        "</figure>\n",
        "\n",
        "\n",
        "- **is**      :    True if the operands are identical \n",
        "- **is not**  :    True if the operands are not identical "
      ],
      "metadata": {
        "id": "SkWOivTC03FT"
      }
    },
    {
      "cell_type": "code",
      "source": [
        "a = 10\n",
        "b = 20\n",
        "c = a\n",
        "\n",
        "print(a is not b)\n",
        "print(a is c)\n"
      ],
      "metadata": {
        "colab": {
          "base_uri": "https://localhost:8080/"
        },
        "id": "7r49QUmI09z7",
        "outputId": "ca5b1e42-00b8-4e97-caf8-d3e21af19a9f"
      },
      "execution_count": 25,
      "outputs": [
        {
          "output_type": "stream",
          "name": "stdout",
          "text": [
            "True\n",
            "True\n"
          ]
        }
      ]
    },
    {
      "cell_type": "markdown",
      "source": [
        "## **7. Membership Operators**\n",
        "in and not in are the membership operators; used to test whether a value or variable is in a sequence.\n",
        "\n",
        "<figure>\n",
        "<center>\n",
        "<img src='https://i.morioh.com/210220/277a4d14.webp' width=\"300\" />\n",
        "</center>\n",
        "</figure>\n",
        "\n",
        "\n",
        "- **in**    :        True if value is found in the sequence\n",
        "- **not in**    :    True if value is not found in the sequence"
      ],
      "metadata": {
        "id": "i_zEiTZx1BNV"
      }
    },
    {
      "cell_type": "code",
      "source": [
        "# 'in' operator\n",
        "str=\"Hello, World!\"\n",
        "print(\"World\" in str)\n",
        "\n",
        "# not 'in' operator\n",
        "print(\"maker\" not in str)"
      ],
      "metadata": {
        "colab": {
          "base_uri": "https://localhost:8080/"
        },
        "id": "2SS0wTc-1WtT",
        "outputId": "b90cdbf3-de5d-47cc-ad40-a883db88597a"
      },
      "execution_count": 32,
      "outputs": [
        {
          "output_type": "stream",
          "name": "stdout",
          "text": [
            "True\n",
            "True\n"
          ]
        }
      ]
    },
    {
      "cell_type": "markdown",
      "source": [
        "# **Precedence and Associativity of Operators**\n",
        "\n",
        "Precedence and Associativity of Operators: Operator precedence and associativity determine the priorities of the operator.\n",
        "\n",
        "<figure>\n",
        "<center>\n",
        "<img src='https://study.com/cimages/multimages/16/precedence_table.png' width=\"400\"/>\n",
        "</center>\n",
        "</figure>\n"
      ],
      "metadata": {
        "id": "ExPIUIvG1cJB"
      }
    },
    {
      "cell_type": "markdown",
      "source": [
        "## **Operator Precedence**\n",
        "This is used in an expression with more than one operator with different precedence to determine which operation to perform first."
      ],
      "metadata": {
        "id": "r_RJwqAv20Qb"
      }
    },
    {
      "cell_type": "code",
      "source": [
        "# Examples of Operator Precedence\n",
        "\n",
        "# Precedence of '+' & '*'\n",
        "expr = 10 + 20 * 30\n",
        "print(expr)\n",
        "\n",
        "# Precedence of 'or' & 'and'\n",
        "name = \"Alex\"\n",
        "age = 0\n",
        "\n",
        "if name == \"Alex\" or name == \"John\" and age >= 2:\n",
        "\tprint(\"Hello! Welcome.\")\n",
        "else:\n",
        "\tprint(\"Good Bye!!\")\n"
      ],
      "metadata": {
        "colab": {
          "base_uri": "https://localhost:8080/"
        },
        "id": "TmzIgP--1rZk",
        "outputId": "46f810a2-1235-4904-90b4-c024a2d1ee25"
      },
      "execution_count": 27,
      "outputs": [
        {
          "output_type": "stream",
          "name": "stdout",
          "text": [
            "610\n",
            "Hello! Welcome.\n"
          ]
        }
      ]
    },
    {
      "cell_type": "markdown",
      "source": [
        "## **Operator Associativity**\n",
        "If an expression contains two or more operators with the same precedence then Operator Associativity is used to determine. It can either be Left to Right or from Right to Left."
      ],
      "metadata": {
        "id": "vtpcB1EU2LXS"
      }
    },
    {
      "cell_type": "code",
      "source": [
        "# Examples of Operator Associativity\n",
        "\n",
        "# Left-right associativity\n",
        "# 100 / 10 * 10 is calculated as\n",
        "# (100 / 10) * 10 and not\n",
        "# as 100 / (10 * 10)\n",
        "print(100 / 10 * 10)\n",
        "\n",
        "# Left-right associativity\n",
        "# 5 - 2 + 3 is calculated as\n",
        "# (5 - 2) + 3 and not\n",
        "# as 5 - (2 + 3)\n",
        "print(5 - 2 + 3)\n",
        "\n",
        "# left-right associativity\n",
        "print(5 - (2 + 3))\n",
        "\n",
        "# right-left associativity\n",
        "# 2 ** 3 ** 2 is calculated as\n",
        "# 2 ** (3 ** 2) and not\n",
        "# as (2 ** 3) ** 2\n",
        "print(2 ** 3 ** 2)\n",
        "\n"
      ],
      "metadata": {
        "colab": {
          "base_uri": "https://localhost:8080/"
        },
        "id": "GUFFmD1k2Xfs",
        "outputId": "be993157-5f82-4cf6-a0ae-419d909c1f1b"
      },
      "execution_count": 28,
      "outputs": [
        {
          "output_type": "stream",
          "name": "stdout",
          "text": [
            "100.0\n",
            "6\n",
            "0\n",
            "512\n"
          ]
        }
      ]
    }
  ]
}