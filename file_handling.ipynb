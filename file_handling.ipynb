{
  "nbformat": 4,
  "nbformat_minor": 0,
  "metadata": {
    "colab": {
      "name": "file handling.ipynb",
      "provenance": [],
      "authorship_tag": "ABX9TyOhUvNEBhp6SI/+Tu4MwHlb",
      "include_colab_link": true
    },
    "kernelspec": {
      "name": "python3",
      "display_name": "Python 3"
    },
    "language_info": {
      "name": "python"
    }
  },
  "cells": [
    {
      "cell_type": "markdown",
      "metadata": {
        "id": "view-in-github",
        "colab_type": "text"
      },
      "source": [
        "<a href=\"https://colab.research.google.com/github/coderanandmaurya/Python-For-Machine-Learning/blob/main/file_handling.ipynb\" target=\"_parent\"><img src=\"https://colab.research.google.com/assets/colab-badge.svg\" alt=\"Open In Colab\"/></a>"
      ]
    },
    {
      "cell_type": "markdown",
      "source": [
        "# **File handling**"
      ],
      "metadata": {
        "id": "ElfNldJHzqgN"
      }
    },
    {
      "cell_type": "markdown",
      "source": [
        "## The key function for working with files in Python is the open() function.\n",
        "\n",
        "- The open() function takes two parameters; filename, and mode.\n",
        "\n",
        "### There are four different methods (modes) for opening a file:\n",
        "\n",
        "- \"r\" - Read - Default value. Opens a file for reading, error if the file does not exist\n",
        "\n",
        "- \"a\" - Append - Opens a file for appending, creates the file if it does not exist\n",
        "\n",
        "- \"w\" - Write - Opens a file for writing, creates the file if it does not exist\n",
        "\n",
        "- \"x\" - Create - Creates the specified file, returns an error if the file exists\n",
        "\n",
        "### In addition you can specify if the file should be handled as binary or text mode\n",
        "\n",
        "\"t\" - Text - Default value. Text mode\n",
        "\n",
        "\"b\" - Binary - Binary mode (e.g. images)"
      ],
      "metadata": {
        "id": "wM_U8CJQ0iHu"
      }
    },
    {
      "cell_type": "code",
      "execution_count": 3,
      "metadata": {
        "colab": {
          "base_uri": "https://localhost:8080/",
          "height": 165
        },
        "id": "f8KMVTlzzmsx",
        "outputId": "2bff530b-1c12-4def-e02b-cce61c2c0906"
      },
      "outputs": [
        {
          "output_type": "error",
          "ename": "FileNotFoundError",
          "evalue": "ignored",
          "traceback": [
            "\u001b[0;31m---------------------------------------------------------------------------\u001b[0m",
            "\u001b[0;31mFileNotFoundError\u001b[0m                         Traceback (most recent call last)",
            "\u001b[0;32m<ipython-input-3-cdafb6abff75>\u001b[0m in \u001b[0;36m<module>\u001b[0;34m()\u001b[0m\n\u001b[0;32m----> 1\u001b[0;31m \u001b[0mf\u001b[0m \u001b[0;34m=\u001b[0m \u001b[0mopen\u001b[0m\u001b[0;34m(\u001b[0m\u001b[0;34m\"https://github.com/coderanandmaurya/Python-For-Machine-Learning/blob/main/sample3.txt\"\u001b[0m\u001b[0;34m)\u001b[0m\u001b[0;34m\u001b[0m\u001b[0;34m\u001b[0m\u001b[0m\n\u001b[0m",
            "\u001b[0;31mFileNotFoundError\u001b[0m: [Errno 2] No such file or directory: 'https://github.com/coderanandmaurya/Python-For-Machine-Learning/blob/main/sample3.txt'"
          ]
        }
      ],
      "source": [
        "f = open(\"https://github.com/coderanandmaurya/Python-For-Machine-Learning/blob/main/sample3.txt\")"
      ]
    },
    {
      "cell_type": "code",
      "source": [
        ""
      ],
      "metadata": {
        "id": "LBiGDgfb1I1Q"
      },
      "execution_count": null,
      "outputs": []
    }
  ]
}