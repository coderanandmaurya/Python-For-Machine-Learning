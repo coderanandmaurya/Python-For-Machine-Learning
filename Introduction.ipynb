{
  "nbformat": 4,
  "nbformat_minor": 0,
  "metadata": {
    "colab": {
      "name": "Introduction.ipynb",
      "provenance": [],
      "collapsed_sections": [],
      "authorship_tag": "ABX9TyMLJDPvb+2JxfCgcctZ4sSI",
      "include_colab_link": true
    },
    "kernelspec": {
      "name": "python3",
      "display_name": "Python 3"
    },
    "language_info": {
      "name": "python"
    }
  },
  "cells": [
    {
      "cell_type": "markdown",
      "metadata": {
        "id": "view-in-github",
        "colab_type": "text"
      },
      "source": [
        "<a href=\"https://colab.research.google.com/github/coderanandmaurya/Python-For-Machine-Learning/blob/main/Introduction.ipynb\" target=\"_parent\"><img src=\"https://colab.research.google.com/assets/colab-badge.svg\" alt=\"Open In Colab\"/></a>"
      ]
    },
    {
      "cell_type": "markdown",
      "source": [
        "# **Introduction to Python**\n",
        "## Python is developed by guideo Van Rossum in  1991.\n",
        "\n",
        "<figure>\n",
        "<center>\n",
        "<img src='https://gvanrossum.github.io/images/guido-headshot-2019.jpg'  width=\"500\" />\n",
        "<figcaption>Guido van Rossum</figcaption></center>\n",
        "</figure>\n",
        "\n",
        "# **Why the name Python?**\n",
        "## It isn't the name of\tdangerous snake python.  Rossum was fan of a comedy series from late seventies.\n",
        "<figure>\n",
        "<center>\n",
        "<img src='https://occ-0-1722-1723.1.nflxso.net/dnm/api/v6/X194eJsgWBDE2aQbaNdmCXGUP-Y/AAAABfvUBQ5wp6m_2Js8SEoCm3G9ChTUsaREdGxO0NnegtwtE6porPgfvn3aTcMu0EtbxmYOBsoVxkoaHXal30AZlcnl7rxa.jpg?r=707'  width=\"500\" /><br>\n",
        "<figcaption>Monty Python's Flying Circus</figcaption></center>\n",
        "</figure>\n",
        "\n",
        "##The name \"Python\" was adopted  from the same series \"Monty Python's Flying  Circus\".\n"
      ],
      "metadata": {
        "id": "6d6TJWXmooC2"
      }
    },
    {
      "cell_type": "markdown",
      "source": [
        "# **Feature Of Python**\n",
        "\n",
        "- **Readable:** Python is a very readable language.\n",
        "\n",
        "- **Easy to Learn:** Learning python is easy as this is a expressive and high level programming  language, which means it is easy to understand the language and thus easy to learn.\n",
        "\n",
        "- **Cross platorm:** Python is available and can run on various operating systems such as Mac,  Windows, Linux, Unix etc. This makes it a cross platorm and portable language.\n",
        "\n",
        "- **Open Source:** Python is a open source programming language.\n",
        "Large standard library: Python comes with a large standard library that has some handy  codes and functions which we can use while writing code in Python.\n",
        "\n",
        "- **Free:** Python is free to download and use. This means you can download it for free and use  it in your application. Python is an example of a FLOSS (Free/Libre Open Source Sofware),  which means you can freely distribute copies of this sofware, read its source code and  modify it.\n",
        "Supports exception handling: Python supports exception handling which means we can  write less error prone code and can test various scenarios that can cause an exception later  on.\n",
        "\n",
        "- **Automatic memory management**: Python supports automatic memory management  which means the memory is cleared and freed automatically. You do not have to bother  clearing the memory.\n"
      ],
      "metadata": {
        "id": "usx6ECXBm3Ms"
      }
    },
    {
      "cell_type": "markdown",
      "source": [
        "# **What Can You Do with Python?**\n",
        "- Web development  (Django,streamlit)\n",
        "- Machine learning  (sci-kit learn)\n",
        "- Data Analysis  (numpy,pandas)\n",
        "- Scripting (TensorFlow, Keras)\n",
        "- Game development ( Pygame)\n",
        "- Desktop applications  (Kivy,tkinter)\n",
        "- Selenium\n"
      ],
      "metadata": {
        "id": "P1Bw5i8pms7l"
      }
    },
    {
      "cell_type": "markdown",
      "source": [
        "# Interpreter Language\n",
        "<figure>\n",
        "<center>\n",
        "<img src='https://soject.com/wp-content/uploads/2021/08/0_qPZqO7mw6RMsGt7B.png'  width=\"500\" /><br>\n",
        "<figcaption>Working of Python Interpreter </figcaption></center>\n",
        "</figure>\n",
        "\n",
        "# Python for other languages(Implementation Comparison)\n",
        "\n",
        "<figure>\n",
        "<center>\n",
        "<img src='https://uploads.toptal.io/blog/image/128/toptal-blog-A.png'  width=\"500\" /><br>\n",
        "<figcaption>Implementation Comparison </figcaption></center>\n",
        "</figure>\n",
        "\n",
        "- CPython : people interact with is CPython, an  implementation\twritten in C.\n",
        "- Jpython: which ofers deep integration with Java  code.\n",
        "- Iron Python: to work with C# and .NET\n",
        "\n"
      ],
      "metadata": {
        "id": "GiCa6931yGKv"
      }
    },
    {
      "cell_type": "markdown",
      "source": [
        "# Scripting language\n",
        "- Scripting languages are programming languages that  don't require an explicit compilation step.\n",
        "For example, in the normal case, you have  to compile a C program before you can run it. But in the  normal case, you don't have to compile a JavaScript  program before you run it.\n",
        "Scripted languages are interpreted within another  program (like JavaScript is put within HTML and then  interpreted by the browser).\n",
        "We can embedded python in any language c, c++, Java, .net,PHP\n"
      ],
      "metadata": {
        "id": "F-HJM4hC0qlA"
      }
    },
    {
      "cell_type": "markdown",
      "source": [
        "# **Python gave birth to**\n",
        "- Google used python on backend.\n",
        "- YouTube, the popular video-sharing website on  backend.\n",
        "- Facebook- python and php on backend.\n",
        "- Instagram is a free photo sharing application.\n",
        "- Pinterest is a social bookmarking site, Pinterest is  written with - - Django, a web application framework  that uses the Python programming language.\n",
        "- Dropbox is a cloud storage provider that is  frequently used as a fle-sharing service.\n",
        "\n",
        "\n",
        "<figure>\n",
        "<center>\n",
        "<img src='https://lh4.googleusercontent.com/u8D7Dk5psFrR1gB05r_qVefCGi_sdKIkCyLGH-hzjSp2p5HpniEjSVc8gZ7VKM1Z71WeBk4-mZypvhIuJ0ErcCg9F4JcA8WL4EwlH_0dNMDWloCYFO2i7OQ3NUK_zhK6mzFc6K23'  width=\"1000\" /><br>\n",
        "<figcaption>Top companies that uses Python </figcaption></center>\n",
        "</figure>\n",
        "\n"
      ],
      "metadata": {
        "id": "Z0ufKjQZ-XTV"
      }
    },
    {
      "cell_type": "markdown",
      "source": [
        "# **Back End Language**\n",
        "-  Back-end has three parts to it: Server, Application & Database:\n",
        "\n",
        "# **Explain how all of this works**\n",
        "- let’s use the example of a customer trying  to purchase a plane ticket using a website. Everything that the customer sees on  the webpage is the front-end, as we have explained before, but once that  customer enters all of his or her information, such as their name, billing address,  destination, etc, the web application stores the information in a database that was  created previously on the server in which the website is calling for information.\n",
        "\n",
        "- The web application creates, deletes, changes, renames, etc items in the  database. For example, when a customer purchases a ticket, that creates an item  in the database, but when they have a change in their order or they wish to  cancel, the item in the database is changed.\n",
        "A server, in the simplest form, is a computer accessed remotely that runs sofware  to fulfll requests from clients. In our example, the server the customer’s browser  is communicating with is where the database is stored and modifed.\n",
        "\n",
        "- In short, when a customer wants to buy a ticket, the backend operation is the web  application communicating with the server to make a change in a database stored  on said server. Technologies like PHP, Ruby, Python, and others are the ones  backend programmers use to make this communication work smoothly, allowing  the customer to purchase his or her ticket with ease.\n"
      ],
      "metadata": {
        "id": "g_oqfSHl-08K"
      }
    },
    {
      "cell_type": "markdown",
      "source": [
        "# Python vs other language\n",
        "- C++ being a fast and compiled programming language has gained popularity and is the first programming language that a programmer learns.\n",
        "\n",
        "- Java is popular due to its platform independence and huge number of desktop applications are developed using Java.\n",
        "\n",
        "- Python is interpreted programming language, it is a modern programming language and it fast types language.\n",
        "\n",
        "\n",
        "<figure>\n",
        "<center>\n",
        "<img src='https://www.static-contents.youth4work.com/y4w/3c15cab2-f488-4fa1-955b-eab3329c6476.png'  width=\"1000\" /><br>\n",
        "<figcaption>Comparison Table </figcaption></center>\n",
        "</figure>\n"
      ],
      "metadata": {
        "id": "00g3UUmD_hPi"
      }
    },
    {
      "cell_type": "markdown",
      "source": [
        "# Python is strongly, dynamically typed.\n",
        "\n",
        "- Strong typing means that the type of a value doesn't change in unexpected ways. A string containing only digits doesn't magically become a number, as may happen in Perl. Every change of type requires an explicit conversion.\n",
        "- Dynamic typing means that runtime objects (values) have a type, as opposed to static typing where variables have a type."
      ],
      "metadata": {
        "id": "dAZY4bwXNSke"
      }
    },
    {
      "cell_type": "code",
      "source": [
        "# Python typing is Dynamic so you can change a string variable to an int (in a Static language you can't)\n",
        "\n",
        "x = 'somestring'\n",
        "print(x)\n",
        "x = 50\n",
        "print(x)"
      ],
      "metadata": {
        "id": "tj5G_mxGBtxA",
        "colab": {
          "base_uri": "https://localhost:8080/"
        },
        "outputId": "a1df1cca-1b94-458b-d3c1-5b376338d53f"
      },
      "execution_count": 1,
      "outputs": [
        {
          "output_type": "stream",
          "name": "stdout",
          "text": [
            "somestring\n",
            "50\n"
          ]
        }
      ]
    },
    {
      "cell_type": "code",
      "source": [
        "# Python typing is Strong so you can't merge types:\n",
        "\n",
        "'foo' + 3 \n",
        "\n",
        "# --> TypeError: cannot concatenate 'str' and 'int' objects"
      ],
      "metadata": {
        "colab": {
          "base_uri": "https://localhost:8080/",
          "height": 244
        },
        "id": "q54wUw8-Oh3n",
        "outputId": "1b3d7818-e6f6-4d6b-e792-f51bc4cc2956"
      },
      "execution_count": 2,
      "outputs": [
        {
          "output_type": "error",
          "ename": "TypeError",
          "evalue": "ignored",
          "traceback": [
            "\u001b[0;31m---------------------------------------------------------------------------\u001b[0m",
            "\u001b[0;31mTypeError\u001b[0m                                 Traceback (most recent call last)",
            "\u001b[0;32m<ipython-input-2-85d4f746a0a0>\u001b[0m in \u001b[0;36m<module>\u001b[0;34m()\u001b[0m\n\u001b[1;32m      1\u001b[0m \u001b[0;31m# Python typing is Strong so you can't merge types:\u001b[0m\u001b[0;34m\u001b[0m\u001b[0;34m\u001b[0m\u001b[0;34m\u001b[0m\u001b[0m\n\u001b[1;32m      2\u001b[0m \u001b[0;34m\u001b[0m\u001b[0m\n\u001b[0;32m----> 3\u001b[0;31m \u001b[0;34m'foo'\u001b[0m \u001b[0;34m+\u001b[0m \u001b[0;36m3\u001b[0m\u001b[0;34m\u001b[0m\u001b[0;34m\u001b[0m\u001b[0m\n\u001b[0m\u001b[1;32m      4\u001b[0m \u001b[0;34m\u001b[0m\u001b[0m\n\u001b[1;32m      5\u001b[0m \u001b[0;31m# --> TypeError: cannot concatenate 'str' and 'int' objects\u001b[0m\u001b[0;34m\u001b[0m\u001b[0;34m\u001b[0m\u001b[0;34m\u001b[0m\u001b[0m\n",
            "\u001b[0;31mTypeError\u001b[0m: can only concatenate str (not \"int\") to str"
          ]
        }
      ]
    },
    {
      "cell_type": "markdown",
      "source": [
        "# IDLE \n",
        "- IDLE (Integrated Development and Learning Environment) is an integrated development environment (IDE) for Python. The Python installer for Windows contains the IDLE module by default.\n",
        "\n",
        "<figure>\n",
        "<center>\n",
        "<img src='https://www.tutorialsteacher.com/Content/images/python/open-idle.png'  width=\"400\" /><br>\n",
        "</center>\n",
        "</figure>\n",
        "\n",
        "- This will open IDLE, where you can write and execute the Python scripts, as shown below.\n",
        "\n",
        "<figure>\n",
        "<center>\n",
        "<img src='https://www.tutorialsteacher.com/Content/images/python/idle.png\n",
        "'  width=\"450\" /><br>\n",
        "</center>\n",
        "</figure>\n",
        "\n"
      ],
      "metadata": {
        "id": "un4un7qsPxXN"
      }
    }
  ]
}