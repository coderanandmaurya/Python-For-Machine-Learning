{
 "cells": [
  {
   "cell_type": "markdown",
   "id": "eb601865",
   "metadata": {},
   "source": [
    "# File handling\n",
    "- Python provides inbuilt functions for creating, writing and reading files two types of files that can be handled in python,\n",
    "    - normal text files and binary files\n",
    "    \n",
    "## Text files\n",
    "- In this type of file, Each line of text is terminated with a special character called EOL (End of Line), which is the new line character (‘\\n’) in python by default.\n",
    "\n",
    "## Binary files\n",
    "- In this type of file, there is no terminator for a line and the data is stored after converting it into machine understandable binary language.    \n",
    "\n",
    "\n",
    "# File \n",
    "- Files are named locations on disk to store related information. They are used to permanently store data in a non-volatile memory (e.g. hard disk).\n",
    "\n",
    "## File operation\n",
    "- Open a file\n",
    "- Read or write (perform operation)\n",
    "- Close the file\n"
   ]
  },
  {
   "cell_type": "markdown",
   "id": "3d4542ea",
   "metadata": {},
   "source": [
    "## File Access Modes\n",
    "- Read Only (‘r’) : Open text file for reading. The handle is positioned at the beginning of the file. If the file does not exists, raises I/O error. This is also the default mode in which file is opened.\n",
    "\n",
    "- Read and Write (‘r+’) : Open the file for reading and writing. The handle is positioned at the beginning of the file. Raises I/O error if the file does not exists.\n",
    "\n",
    "- Write Only (‘w’) : Open the file for writing. For existing file, the data is truncated and over-written. The handle is positioned at the beginning of the file. Creates the file if the file does not exists.\n",
    "\n",
    "- Write and Read (‘w+’) : Open the file for reading and writing. For existing file, data is truncated and over-written. The handle is positioned at the beginning of the file.\n",
    "\n",
    "- Append Only (‘a’) : Open the file for writing. The file is created if it does not exist. The handle is positioned at the end of the file. The data being written will be inserted at the end, after the existing data.\n",
    "\n",
    "- Append and Read (‘a+’) : Open the file for reading and writing. The file is created if it does not exist. The handle is positioned at the end of the file. The data being written will be inserted at the end, after the existing data."
   ]
  },
  {
   "cell_type": "markdown",
   "id": "fdb6f4ef",
   "metadata": {},
   "source": [
    "# Opening a File"
   ]
  },
  {
   "cell_type": "code",
   "execution_count": 1,
   "id": "b5d5f268",
   "metadata": {},
   "outputs": [],
   "source": [
    "# File_object = open(r\"File_Name\",\"Access_Mode\")"
   ]
  },
  {
   "cell_type": "markdown",
   "id": "40edb930",
   "metadata": {},
   "source": [
    "# Closing a file"
   ]
  },
  {
   "cell_type": "code",
   "execution_count": 2,
   "id": "4916d9da",
   "metadata": {},
   "outputs": [],
   "source": [
    "f= open(\"sample.txt\",\"a\")\n",
    "f.close()"
   ]
  },
  {
   "cell_type": "markdown",
   "id": "b0ed8048",
   "metadata": {},
   "source": [
    "# Writing to a file\n",
    "\n",
    "There are two ways to write in a file.\n",
    "- write() : Inserts the string str1 in a single line in the text file.\n",
    "    - File_object.write(str1)\n",
    "\n",
    "- writelines() : For a list of string elements, each string is inserted in the text file.Used to insert multiple strings at a single time.\n",
    "    - File_object.writelines(L) for L = [str1, str2, str3] "
   ]
  },
  {
   "cell_type": "markdown",
   "id": "349ea99b",
   "metadata": {},
   "source": [
    "### write()"
   ]
  },
  {
   "cell_type": "code",
   "execution_count": 3,
   "id": "67c166bf",
   "metadata": {},
   "outputs": [
    {
     "name": "stdout",
     "output_type": "stream",
     "text": [
      "11\n"
     ]
    }
   ],
   "source": [
    "f = open(\"sample.txt\", mode='w',encoding='utf-8')  # specifying full path\n",
    "\n",
    "str1=\"zero line \\n\"\n",
    "print(f.write(str1))\n",
    "f.close()"
   ]
  },
  {
   "cell_type": "markdown",
   "id": "61a44ba2",
   "metadata": {},
   "source": [
    "### writeline()"
   ]
  },
  {
   "cell_type": "code",
   "execution_count": 4,
   "id": "fe94c6d8",
   "metadata": {},
   "outputs": [],
   "source": [
    "f = open(\"sample.txt\", mode='w',encoding='utf-8')  # specifying full path\n",
    "\n",
    "str1,str2,str3=\"first \\n\",\"second \\n\",\"third \\n\"\n",
    "f.writelines([str1, str2, str3]) \n",
    "f.close()"
   ]
  },
  {
   "cell_type": "markdown",
   "id": "d68c2bcd",
   "metadata": {},
   "source": [
    "## Reading from a file\n",
    "- read() : Returns the read bytes in form of a string. Reads n bytes, if no n specified, reads the entire file.\n",
    "\n",
    "- readline() : Reads a line of the file and returns in form of a string.For specified n, reads at most n bytes. However, does not reads more than one line, even if n exceeds the length of the line.\n",
    "\n",
    "- readlines() : Reads all the lines and return them as each line a string element in a list."
   ]
  },
  {
   "cell_type": "markdown",
   "id": "c0eecbe7",
   "metadata": {},
   "source": [
    "### readline() "
   ]
  },
  {
   "cell_type": "code",
   "execution_count": 5,
   "id": "47a1adb2",
   "metadata": {},
   "outputs": [
    {
     "name": "stdout",
     "output_type": "stream",
     "text": [
      "first \n",
      "\n",
      "se\n",
      "cond\n"
     ]
    }
   ],
   "source": [
    "f = open(\"sample.txt\", mode='r',encoding='utf-8')  # specifying full path\n",
    "print(f.readline())\n",
    "print(f.readline(2))\n",
    "print(f.readline(4))\n",
    "f.close()"
   ]
  },
  {
   "cell_type": "markdown",
   "id": "60afb828",
   "metadata": {},
   "source": [
    "### read()"
   ]
  },
  {
   "cell_type": "code",
   "execution_count": 6,
   "id": "a40742a4",
   "metadata": {},
   "outputs": [
    {
     "name": "stdout",
     "output_type": "stream",
     "text": [
      "first \n",
      "second \n",
      "third \n",
      "\n"
     ]
    }
   ],
   "source": [
    "f = open(\"sample.txt\", mode='r',encoding='utf-8')  # specifying full path\n",
    "print(f.read())\n",
    "f.close()"
   ]
  },
  {
   "cell_type": "markdown",
   "id": "1bf40301",
   "metadata": {},
   "source": [
    "## SEEK"
   ]
  },
  {
   "cell_type": "code",
   "execution_count": 11,
   "id": "bffac08e",
   "metadata": {},
   "outputs": [
    {
     "name": "stdout",
     "output_type": "stream",
     "text": [
      "1\n",
      "n Python, seek() function is used to change the position of the File Handle to a given specific position. File handle is like a cursor, which defines from where the data has to be read or written in the file. \n"
     ]
    }
   ],
   "source": [
    "f = open(\"j.txt\", \"r\")\n",
    " \n",
    "f.seek(1)\n",
    " \n",
    "# prints current position\n",
    "print(f.tell())\n",
    " \n",
    "print(f.readline())\n",
    "f.close()"
   ]
  }
 ],
 "metadata": {
  "kernelspec": {
   "display_name": "Python 3 (ipykernel)",
   "language": "python",
   "name": "python3"
  },
  "language_info": {
   "codemirror_mode": {
    "name": "ipython",
    "version": 3
   },
   "file_extension": ".py",
   "mimetype": "text/x-python",
   "name": "python",
   "nbconvert_exporter": "python",
   "pygments_lexer": "ipython3",
   "version": "3.9.7"
  }
 },
 "nbformat": 4,
 "nbformat_minor": 5
}
